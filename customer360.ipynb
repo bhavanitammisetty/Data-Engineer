{
 "cells": [
  {
   "cell_type": "code",
   "execution_count": 0,
   "metadata": {
    "application/vnd.databricks.v1+cell": {
     "cellMetadata": {
      "byteLimit": 2048000,
      "rowLimit": 10000
     },
     "inputWidgets": {},
     "nuid": "144d3fcd-4179-4c10-9bf3-481436947d9b",
     "showTitle": false,
     "title": ""
    }
   },
   "outputs": [],
   "source": [
    "spark.conf.set(\"fs.azure.account.key.gkgen2.dfs.core.windows.net\", \"GdLkrQhlF5InV0O54Vu/CEdzq/vKAHmUb7we5soyBZ+5pY0u9QEzbl8O5AqLuqCO0VTDr+rdbKLz+AStqeFMjw==\")"
   ]
  },
  {
   "cell_type": "code",
   "execution_count": 0,
   "metadata": {
    "application/vnd.databricks.v1+cell": {
     "cellMetadata": {
      "byteLimit": 2048000,
      "rowLimit": 10000
     },
     "inputWidgets": {},
     "nuid": "5f9b8e16-0707-4716-b2af-3157eac462f7",
     "showTitle": false,
     "title": ""
    }
   },
   "outputs": [
    {
     "output_type": "stream",
     "name": "stdout",
     "output_type": "stream",
     "text": [
      "Out[7]: [FileInfo(path='abfss://customer360@gkgen2.dfs.core.windows.net/address.csv', name='address.csv', size=151995, modificationTime=1689752155000),\n FileInfo(path='abfss://customer360@gkgen2.dfs.core.windows.net/customer.csv', name='customer.csv', size=157057, modificationTime=1689752155000),\n FileInfo(path='abfss://customer360@gkgen2.dfs.core.windows.net/product.csv', name='product.csv', size=552423, modificationTime=1689313673000),\n FileInfo(path='abfss://customer360@gkgen2.dfs.core.windows.net/srs.csv', name='srs.csv', size=474657, modificationTime=1689762876000),\n FileInfo(path='abfss://customer360@gkgen2.dfs.core.windows.net/transaction.csv', name='transaction.csv', size=834259, modificationTime=1689750231000)]"
     ]
    }
   ],
   "source": [
    "dbutils.fs.ls(\"abfss://customer360@gkgen2.dfs.core.windows.net/\")"
   ]
  },
  {
   "cell_type": "code",
   "execution_count": 0,
   "metadata": {
    "application/vnd.databricks.v1+cell": {
     "cellMetadata": {
      "byteLimit": 2048000,
      "rowLimit": 10000
     },
     "inputWidgets": {},
     "nuid": "d3697956-a30c-4810-9b1a-b67e9e516f16",
     "showTitle": false,
     "title": ""
    }
   },
   "outputs": [],
   "source": [
    "from pyspark.sql.functions import *\n",
    "file = \"abfss://customer360@gkgen2.dfs.core.windows.net/address.csv\"\n",
    "df2= spark.read.format('csv').option('inferSchema','true').option('header','true').load(file)\n",
    "df2.write.saveAsTable('address')"
   ]
  },
  {
   "cell_type": "code",
   "execution_count": 0,
   "metadata": {
    "application/vnd.databricks.v1+cell": {
     "cellMetadata": {
      "byteLimit": 2048000,
      "implicitDf": true,
      "rowLimit": 10000
     },
     "inputWidgets": {},
     "nuid": "2de79e95-e598-47c9-a840-25ed73e4a338",
     "showTitle": false,
     "title": ""
    }
   },
   "outputs": [],
   "source": [
    "from pyspark.sql.functions import *\n",
    "file = \"abfss://customer360@gkgen2.dfs.core.windows.net/product.csv\"\n",
    "df2= spark.read.format('csv').option('inferSchema','true').option('header','true').load(file)\n",
    "df2.write.saveAsTable('product')"
   ]
  },
  {
   "cell_type": "code",
   "execution_count": 0,
   "metadata": {
    "application/vnd.databricks.v1+cell": {
     "cellMetadata": {
      "byteLimit": 2048000,
      "rowLimit": 10000
     },
     "inputWidgets": {},
     "nuid": "d9326178-576d-4097-a5c9-2d43274ca083",
     "showTitle": false,
     "title": ""
    }
   },
   "outputs": [],
   "source": [
    "from pyspark.sql.functions import *\n",
    "file = \"abfss://customer360@gkgen2.dfs.core.windows.net/transaction.csv\"\n",
    "df2= spark.read.format('csv').option('inferSchema','true').option('header','true').load(file)\n",
    "df2.write.saveAsTable('transaction')"
   ]
  },
  {
   "cell_type": "code",
   "execution_count": 0,
   "metadata": {
    "application/vnd.databricks.v1+cell": {
     "cellMetadata": {
      "byteLimit": 2048000,
      "rowLimit": 10000
     },
     "inputWidgets": {},
     "nuid": "a55a461e-2479-472c-84a6-78d18ee791d8",
     "showTitle": false,
     "title": ""
    }
   },
   "outputs": [],
   "source": [
    "from pyspark.sql.functions import *\n",
    "file = \"abfss://customer360@gkgen2.dfs.core.windows.net/srs.csv\"\n",
    "df2= spark.read.format('csv').option('inferSchema','true').option('header','true').load(file)\n",
    "\n",
    "df2.write.saveAsTable('src')"
   ]
  },
  {
   "cell_type": "code",
   "execution_count": 0,
   "metadata": {
    "application/vnd.databricks.v1+cell": {
     "cellMetadata": {
      "byteLimit": 2048000,
      "rowLimit": 10000
     },
     "inputWidgets": {},
     "nuid": "e1ba269d-011c-4188-9ca3-e3c714e0c24c",
     "showTitle": false,
     "title": ""
    }
   },
   "outputs": [],
   "source": [
    "from pyspark.sql.functions import *\n",
    "file = \"abfss://customer360@gkgen2.dfs.core.windows.net/customer.csv\"\n",
    "df2= spark.read.format('csv').option('inferSchema','true').option('header','true').load(file)\n",
    "df2.write.saveAsTable('customer')"
   ]
  },
  {
   "cell_type": "code",
   "execution_count": 0,
   "metadata": {
    "application/vnd.databricks.v1+cell": {
     "cellMetadata": {
      "byteLimit": 2048000,
      "implicitDf": true,
      "rowLimit": 10000
     },
     "inputWidgets": {},
     "nuid": "9160eb03-cc00-4a5f-8f9b-3e685907544f",
     "showTitle": false,
     "title": ""
    }
   },
   "outputs": [
    {
     "output_type": "display_data",
     "data": {
      "text/html": [
       "<style scoped>\n",
       "  .table-result-container {\n",
       "    max-height: 300px;\n",
       "    overflow: auto;\n",
       "  }\n",
       "  table, th, td {\n",
       "    border: 1px solid black;\n",
       "    border-collapse: collapse;\n",
       "  }\n",
       "  th, td {\n",
       "    padding: 5px;\n",
       "  }\n",
       "  th {\n",
       "    text-align: left;\n",
       "  }\n",
       "</style><div class='table-result-container'><table class='table-result'><thead style='background-color: white'><tr><th>type_deposit_withdrawal</th></tr></thead><tbody><tr><td>W</td></tr><tr><td>W</td></tr><tr><td>W</td></tr><tr><td>W</td></tr><tr><td>W</td></tr><tr><td>W</td></tr><tr><td>W</td></tr><tr><td>W</td></tr><tr><td>W</td></tr><tr><td>W</td></tr><tr><td>W</td></tr><tr><td>W</td></tr><tr><td>W</td></tr><tr><td>W</td></tr><tr><td>W</td></tr><tr><td>W</td></tr><tr><td>W</td></tr><tr><td>W</td></tr><tr><td>W</td></tr><tr><td>W</td></tr><tr><td>W</td></tr><tr><td>W</td></tr><tr><td>W</td></tr><tr><td>W</td></tr><tr><td>W</td></tr><tr><td>W</td></tr><tr><td>W</td></tr><tr><td>W</td></tr><tr><td>W</td></tr><tr><td>W</td></tr><tr><td>W</td></tr><tr><td>W</td></tr><tr><td>W</td></tr><tr><td>W</td></tr><tr><td>W</td></tr><tr><td>W</td></tr><tr><td>W</td></tr><tr><td>W</td></tr><tr><td>W</td></tr><tr><td>W</td></tr><tr><td>W</td></tr><tr><td>W</td></tr><tr><td>W</td></tr><tr><td>W</td></tr><tr><td>W</td></tr><tr><td>W</td></tr><tr><td>W</td></tr><tr><td>W</td></tr><tr><td>W</td></tr><tr><td>W</td></tr><tr><td>W</td></tr><tr><td>W</td></tr><tr><td>W</td></tr><tr><td>W</td></tr><tr><td>W</td></tr><tr><td>W</td></tr><tr><td>W</td></tr><tr><td>W</td></tr><tr><td>W</td></tr><tr><td>W</td></tr><tr><td>W</td></tr><tr><td>W</td></tr><tr><td>W</td></tr><tr><td>W</td></tr><tr><td>W</td></tr><tr><td>W</td></tr><tr><td>W</td></tr><tr><td>W</td></tr><tr><td>W</td></tr><tr><td>W</td></tr><tr><td>W</td></tr><tr><td>W</td></tr><tr><td>W</td></tr><tr><td>W</td></tr><tr><td>W</td></tr><tr><td>W</td></tr><tr><td>W</td></tr><tr><td>W</td></tr><tr><td>W</td></tr><tr><td>W</td></tr><tr><td>W</td></tr><tr><td>W</td></tr><tr><td>W</td></tr><tr><td>W</td></tr><tr><td>W</td></tr><tr><td>W</td></tr><tr><td>W</td></tr><tr><td>W</td></tr><tr><td>W</td></tr><tr><td>W</td></tr><tr><td>W</td></tr><tr><td>W</td></tr><tr><td>W</td></tr><tr><td>W</td></tr><tr><td>W</td></tr><tr><td>W</td></tr><tr><td>W</td></tr><tr><td>W</td></tr><tr><td>W</td></tr><tr><td>W</td></tr><tr><td>W</td></tr><tr><td>W</td></tr><tr><td>W</td></tr><tr><td>W</td></tr><tr><td>W</td></tr><tr><td>W</td></tr><tr><td>W</td></tr><tr><td>W</td></tr><tr><td>W</td></tr><tr><td>W</td></tr><tr><td>W</td></tr><tr><td>W</td></tr><tr><td>W</td></tr><tr><td>W</td></tr><tr><td>W</td></tr><tr><td>W</td></tr><tr><td>W</td></tr><tr><td>W</td></tr><tr><td>W</td></tr><tr><td>W</td></tr><tr><td>W</td></tr><tr><td>W</td></tr><tr><td>W</td></tr><tr><td>W</td></tr><tr><td>W</td></tr><tr><td>W</td></tr><tr><td>W</td></tr><tr><td>W</td></tr><tr><td>W</td></tr><tr><td>W</td></tr><tr><td>W</td></tr><tr><td>W</td></tr><tr><td>W</td></tr><tr><td>W</td></tr><tr><td>W</td></tr><tr><td>W</td></tr><tr><td>W</td></tr><tr><td>W</td></tr><tr><td>W</td></tr><tr><td>W</td></tr><tr><td>W</td></tr><tr><td>W</td></tr><tr><td>W</td></tr><tr><td>W</td></tr><tr><td>W</td></tr><tr><td>W</td></tr><tr><td>W</td></tr><tr><td>W</td></tr><tr><td>W</td></tr><tr><td>W</td></tr><tr><td>W</td></tr><tr><td>W</td></tr><tr><td>W</td></tr><tr><td>W</td></tr><tr><td>W</td></tr><tr><td>W</td></tr><tr><td>W</td></tr><tr><td>W</td></tr><tr><td>W</td></tr><tr><td>W</td></tr><tr><td>W</td></tr><tr><td>W</td></tr><tr><td>W</td></tr><tr><td>W</td></tr><tr><td>W</td></tr><tr><td>W</td></tr><tr><td>W</td></tr><tr><td>W</td></tr><tr><td>W</td></tr><tr><td>W</td></tr><tr><td>W</td></tr><tr><td>W</td></tr><tr><td>W</td></tr><tr><td>W</td></tr><tr><td>W</td></tr><tr><td>W</td></tr><tr><td>W</td></tr><tr><td>W</td></tr><tr><td>W</td></tr><tr><td>W</td></tr><tr><td>W</td></tr><tr><td>W</td></tr><tr><td>W</td></tr><tr><td>W</td></tr><tr><td>W</td></tr><tr><td>W</td></tr><tr><td>W</td></tr><tr><td>W</td></tr><tr><td>W</td></tr><tr><td>W</td></tr><tr><td>W</td></tr><tr><td>W</td></tr><tr><td>W</td></tr><tr><td>W</td></tr><tr><td>W</td></tr><tr><td>W</td></tr><tr><td>W</td></tr><tr><td>W</td></tr><tr><td>W</td></tr><tr><td>W</td></tr><tr><td>W</td></tr><tr><td>W</td></tr><tr><td>W</td></tr><tr><td>W</td></tr><tr><td>W</td></tr><tr><td>W</td></tr><tr><td>W</td></tr><tr><td>W</td></tr><tr><td>W</td></tr><tr><td>W</td></tr><tr><td>W</td></tr><tr><td>W</td></tr><tr><td>W</td></tr><tr><td>W</td></tr><tr><td>W</td></tr><tr><td>W</td></tr><tr><td>W</td></tr><tr><td>W</td></tr><tr><td>W</td></tr><tr><td>W</td></tr><tr><td>W</td></tr><tr><td>W</td></tr><tr><td>W</td></tr><tr><td>W</td></tr><tr><td>W</td></tr><tr><td>W</td></tr><tr><td>W</td></tr><tr><td>W</td></tr><tr><td>W</td></tr><tr><td>W</td></tr><tr><td>W</td></tr><tr><td>W</td></tr><tr><td>W</td></tr><tr><td>W</td></tr><tr><td>W</td></tr><tr><td>W</td></tr><tr><td>W</td></tr><tr><td>W</td></tr><tr><td>W</td></tr><tr><td>W</td></tr><tr><td>W</td></tr><tr><td>W</td></tr><tr><td>W</td></tr><tr><td>W</td></tr><tr><td>W</td></tr><tr><td>W</td></tr><tr><td>W</td></tr><tr><td>W</td></tr><tr><td>W</td></tr><tr><td>W</td></tr><tr><td>W</td></tr><tr><td>W</td></tr><tr><td>W</td></tr><tr><td>W</td></tr><tr><td>W</td></tr><tr><td>W</td></tr><tr><td>W</td></tr><tr><td>W</td></tr><tr><td>W</td></tr><tr><td>W</td></tr><tr><td>W</td></tr><tr><td>W</td></tr><tr><td>W</td></tr><tr><td>W</td></tr><tr><td>W</td></tr><tr><td>W</td></tr><tr><td>W</td></tr><tr><td>W</td></tr><tr><td>W</td></tr><tr><td>W</td></tr><tr><td>W</td></tr><tr><td>W</td></tr><tr><td>W</td></tr><tr><td>W</td></tr><tr><td>W</td></tr><tr><td>W</td></tr><tr><td>W</td></tr><tr><td>W</td></tr><tr><td>W</td></tr><tr><td>W</td></tr><tr><td>W</td></tr><tr><td>W</td></tr><tr><td>W</td></tr><tr><td>W</td></tr><tr><td>W</td></tr><tr><td>W</td></tr><tr><td>W</td></tr><tr><td>W</td></tr><tr><td>W</td></tr><tr><td>W</td></tr><tr><td>W</td></tr><tr><td>W</td></tr><tr><td>W</td></tr><tr><td>W</td></tr><tr><td>W</td></tr><tr><td>W</td></tr><tr><td>W</td></tr><tr><td>W</td></tr><tr><td>W</td></tr><tr><td>W</td></tr><tr><td>W</td></tr><tr><td>W</td></tr><tr><td>W</td></tr><tr><td>W</td></tr><tr><td>W</td></tr><tr><td>W</td></tr><tr><td>W</td></tr><tr><td>W</td></tr><tr><td>W</td></tr><tr><td>W</td></tr><tr><td>W</td></tr><tr><td>W</td></tr><tr><td>W</td></tr><tr><td>W</td></tr><tr><td>W</td></tr><tr><td>W</td></tr><tr><td>W</td></tr><tr><td>W</td></tr><tr><td>W</td></tr><tr><td>W</td></tr><tr><td>W</td></tr><tr><td>W</td></tr><tr><td>W</td></tr><tr><td>W</td></tr><tr><td>W</td></tr><tr><td>W</td></tr><tr><td>W</td></tr><tr><td>W</td></tr><tr><td>W</td></tr><tr><td>W</td></tr><tr><td>W</td></tr><tr><td>W</td></tr><tr><td>W</td></tr><tr><td>W</td></tr><tr><td>W</td></tr><tr><td>W</td></tr><tr><td>W</td></tr><tr><td>W</td></tr><tr><td>W</td></tr><tr><td>W</td></tr><tr><td>W</td></tr><tr><td>W</td></tr><tr><td>W</td></tr><tr><td>W</td></tr><tr><td>W</td></tr><tr><td>W</td></tr><tr><td>W</td></tr><tr><td>W</td></tr><tr><td>W</td></tr><tr><td>W</td></tr><tr><td>W</td></tr><tr><td>W</td></tr><tr><td>W</td></tr><tr><td>W</td></tr><tr><td>W</td></tr><tr><td>W</td></tr><tr><td>W</td></tr><tr><td>W</td></tr><tr><td>W</td></tr><tr><td>W</td></tr><tr><td>W</td></tr><tr><td>W</td></tr><tr><td>W</td></tr><tr><td>W</td></tr><tr><td>W</td></tr><tr><td>W</td></tr><tr><td>W</td></tr><tr><td>W</td></tr><tr><td>W</td></tr><tr><td>W</td></tr><tr><td>W</td></tr><tr><td>W</td></tr><tr><td>W</td></tr><tr><td>W</td></tr><tr><td>W</td></tr><tr><td>W</td></tr><tr><td>W</td></tr><tr><td>W</td></tr><tr><td>W</td></tr><tr><td>W</td></tr><tr><td>W</td></tr><tr><td>W</td></tr><tr><td>W</td></tr><tr><td>W</td></tr><tr><td>W</td></tr><tr><td>W</td></tr><tr><td>W</td></tr><tr><td>W</td></tr><tr><td>W</td></tr><tr><td>W</td></tr><tr><td>W</td></tr><tr><td>W</td></tr><tr><td>W</td></tr><tr><td>W</td></tr><tr><td>W</td></tr><tr><td>W</td></tr><tr><td>W</td></tr><tr><td>W</td></tr><tr><td>W</td></tr><tr><td>W</td></tr><tr><td>W</td></tr><tr><td>W</td></tr><tr><td>W</td></tr><tr><td>W</td></tr><tr><td>W</td></tr><tr><td>W</td></tr><tr><td>W</td></tr><tr><td>W</td></tr><tr><td>W</td></tr><tr><td>W</td></tr><tr><td>W</td></tr><tr><td>W</td></tr><tr><td>W</td></tr><tr><td>W</td></tr><tr><td>W</td></tr><tr><td>W</td></tr><tr><td>W</td></tr><tr><td>W</td></tr><tr><td>W</td></tr><tr><td>W</td></tr><tr><td>W</td></tr><tr><td>W</td></tr><tr><td>W</td></tr><tr><td>W</td></tr><tr><td>W</td></tr><tr><td>W</td></tr><tr><td>W</td></tr><tr><td>W</td></tr><tr><td>W</td></tr><tr><td>W</td></tr><tr><td>W</td></tr><tr><td>W</td></tr><tr><td>W</td></tr><tr><td>W</td></tr><tr><td>W</td></tr><tr><td>W</td></tr><tr><td>W</td></tr><tr><td>W</td></tr><tr><td>W</td></tr><tr><td>W</td></tr><tr><td>W</td></tr><tr><td>W</td></tr><tr><td>W</td></tr><tr><td>W</td></tr><tr><td>W</td></tr><tr><td>W</td></tr><tr><td>W</td></tr><tr><td>W</td></tr><tr><td>W</td></tr><tr><td>W</td></tr><tr><td>W</td></tr><tr><td>W</td></tr><tr><td>W</td></tr><tr><td>W</td></tr><tr><td>W</td></tr><tr><td>W</td></tr><tr><td>W</td></tr><tr><td>W</td></tr><tr><td>W</td></tr><tr><td>W</td></tr><tr><td>W</td></tr><tr><td>W</td></tr><tr><td>W</td></tr><tr><td>W</td></tr><tr><td>W</td></tr><tr><td>W</td></tr><tr><td>W</td></tr><tr><td>W</td></tr><tr><td>W</td></tr><tr><td>W</td></tr><tr><td>W</td></tr><tr><td>W</td></tr><tr><td>W</td></tr><tr><td>W</td></tr><tr><td>W</td></tr><tr><td>W</td></tr><tr><td>W</td></tr><tr><td>W</td></tr><tr><td>W</td></tr><tr><td>W</td></tr><tr><td>W</td></tr><tr><td>W</td></tr><tr><td>W</td></tr><tr><td>W</td></tr><tr><td>W</td></tr><tr><td>W</td></tr><tr><td>W</td></tr><tr><td>W</td></tr><tr><td>W</td></tr><tr><td>W</td></tr><tr><td>W</td></tr><tr><td>W</td></tr><tr><td>W</td></tr><tr><td>W</td></tr><tr><td>W</td></tr><tr><td>W</td></tr><tr><td>W</td></tr><tr><td>W</td></tr><tr><td>W</td></tr><tr><td>W</td></tr><tr><td>W</td></tr><tr><td>W</td></tr><tr><td>W</td></tr><tr><td>W</td></tr><tr><td>W</td></tr><tr><td>W</td></tr><tr><td>W</td></tr><tr><td>W</td></tr><tr><td>W</td></tr><tr><td>W</td></tr><tr><td>W</td></tr><tr><td>W</td></tr><tr><td>W</td></tr><tr><td>W</td></tr><tr><td>W</td></tr><tr><td>W</td></tr><tr><td>W</td></tr><tr><td>W</td></tr><tr><td>W</td></tr><tr><td>W</td></tr><tr><td>W</td></tr><tr><td>W</td></tr><tr><td>W</td></tr><tr><td>W</td></tr><tr><td>W</td></tr><tr><td>W</td></tr><tr><td>W</td></tr><tr><td>W</td></tr><tr><td>W</td></tr><tr><td>W</td></tr><tr><td>W</td></tr><tr><td>W</td></tr><tr><td>W</td></tr><tr><td>W</td></tr><tr><td>W</td></tr><tr><td>W</td></tr><tr><td>W</td></tr><tr><td>W</td></tr><tr><td>W</td></tr><tr><td>W</td></tr><tr><td>W</td></tr><tr><td>W</td></tr><tr><td>W</td></tr><tr><td>W</td></tr><tr><td>W</td></tr><tr><td>W</td></tr><tr><td>W</td></tr><tr><td>W</td></tr><tr><td>W</td></tr><tr><td>W</td></tr><tr><td>W</td></tr><tr><td>W</td></tr><tr><td>W</td></tr><tr><td>W</td></tr><tr><td>W</td></tr><tr><td>W</td></tr><tr><td>W</td></tr><tr><td>W</td></tr><tr><td>W</td></tr><tr><td>W</td></tr><tr><td>W</td></tr><tr><td>W</td></tr><tr><td>W</td></tr><tr><td>W</td></tr><tr><td>W</td></tr><tr><td>W</td></tr><tr><td>W</td></tr><tr><td>W</td></tr><tr><td>W</td></tr><tr><td>W</td></tr><tr><td>W</td></tr><tr><td>W</td></tr><tr><td>W</td></tr><tr><td>W</td></tr><tr><td>W</td></tr><tr><td>W</td></tr><tr><td>W</td></tr><tr><td>W</td></tr><tr><td>W</td></tr><tr><td>W</td></tr><tr><td>W</td></tr><tr><td>W</td></tr><tr><td>W</td></tr><tr><td>W</td></tr><tr><td>W</td></tr><tr><td>W</td></tr><tr><td>W</td></tr><tr><td>W</td></tr><tr><td>W</td></tr><tr><td>W</td></tr><tr><td>W</td></tr><tr><td>W</td></tr><tr><td>W</td></tr><tr><td>W</td></tr><tr><td>W</td></tr><tr><td>W</td></tr><tr><td>W</td></tr><tr><td>W</td></tr><tr><td>W</td></tr><tr><td>W</td></tr><tr><td>W</td></tr><tr><td>W</td></tr><tr><td>W</td></tr><tr><td>W</td></tr><tr><td>W</td></tr><tr><td>W</td></tr><tr><td>W</td></tr><tr><td>W</td></tr><tr><td>W</td></tr><tr><td>W</td></tr><tr><td>W</td></tr><tr><td>W</td></tr><tr><td>W</td></tr><tr><td>W</td></tr><tr><td>W</td></tr><tr><td>W</td></tr><tr><td>W</td></tr><tr><td>W</td></tr><tr><td>W</td></tr><tr><td>W</td></tr><tr><td>W</td></tr><tr><td>W</td></tr><tr><td>W</td></tr><tr><td>W</td></tr><tr><td>W</td></tr><tr><td>W</td></tr><tr><td>W</td></tr><tr><td>W</td></tr><tr><td>W</td></tr><tr><td>W</td></tr><tr><td>W</td></tr><tr><td>W</td></tr><tr><td>W</td></tr><tr><td>W</td></tr><tr><td>W</td></tr><tr><td>W</td></tr><tr><td>W</td></tr><tr><td>W</td></tr><tr><td>W</td></tr><tr><td>W</td></tr><tr><td>W</td></tr><tr><td>W</td></tr><tr><td>W</td></tr><tr><td>W</td></tr><tr><td>W</td></tr><tr><td>W</td></tr><tr><td>W</td></tr><tr><td>W</td></tr><tr><td>W</td></tr><tr><td>W</td></tr><tr><td>W</td></tr><tr><td>W</td></tr><tr><td>W</td></tr><tr><td>W</td></tr><tr><td>W</td></tr><tr><td>W</td></tr><tr><td>W</td></tr><tr><td>W</td></tr><tr><td>W</td></tr><tr><td>W</td></tr><tr><td>W</td></tr><tr><td>W</td></tr><tr><td>W</td></tr><tr><td>W</td></tr><tr><td>W</td></tr><tr><td>W</td></tr><tr><td>W</td></tr><tr><td>W</td></tr><tr><td>W</td></tr><tr><td>W</td></tr><tr><td>W</td></tr><tr><td>W</td></tr><tr><td>W</td></tr><tr><td>W</td></tr><tr><td>W</td></tr><tr><td>W</td></tr><tr><td>W</td></tr><tr><td>W</td></tr><tr><td>W</td></tr><tr><td>W</td></tr><tr><td>W</td></tr><tr><td>W</td></tr><tr><td>W</td></tr><tr><td>W</td></tr><tr><td>W</td></tr><tr><td>W</td></tr><tr><td>W</td></tr><tr><td>W</td></tr><tr><td>W</td></tr><tr><td>W</td></tr><tr><td>W</td></tr><tr><td>W</td></tr><tr><td>W</td></tr><tr><td>W</td></tr><tr><td>W</td></tr><tr><td>W</td></tr><tr><td>W</td></tr><tr><td>W</td></tr><tr><td>W</td></tr><tr><td>W</td></tr><tr><td>W</td></tr><tr><td>W</td></tr><tr><td>W</td></tr><tr><td>W</td></tr><tr><td>W</td></tr><tr><td>W</td></tr><tr><td>W</td></tr><tr><td>W</td></tr><tr><td>W</td></tr><tr><td>W</td></tr><tr><td>W</td></tr><tr><td>W</td></tr><tr><td>W</td></tr><tr><td>W</td></tr><tr><td>W</td></tr><tr><td>W</td></tr><tr><td>W</td></tr><tr><td>W</td></tr><tr><td>W</td></tr><tr><td>W</td></tr><tr><td>W</td></tr><tr><td>W</td></tr><tr><td>W</td></tr><tr><td>W</td></tr><tr><td>W</td></tr><tr><td>W</td></tr><tr><td>W</td></tr><tr><td>W</td></tr><tr><td>W</td></tr><tr><td>W</td></tr><tr><td>W</td></tr><tr><td>W</td></tr><tr><td>W</td></tr><tr><td>W</td></tr><tr><td>W</td></tr><tr><td>W</td></tr><tr><td>W</td></tr><tr><td>W</td></tr><tr><td>W</td></tr><tr><td>W</td></tr><tr><td>W</td></tr><tr><td>W</td></tr><tr><td>W</td></tr><tr><td>W</td></tr><tr><td>W</td></tr><tr><td>W</td></tr><tr><td>W</td></tr><tr><td>W</td></tr><tr><td>W</td></tr><tr><td>W</td></tr><tr><td>W</td></tr><tr><td>W</td></tr><tr><td>W</td></tr><tr><td>W</td></tr><tr><td>W</td></tr><tr><td>W</td></tr><tr><td>W</td></tr><tr><td>W</td></tr><tr><td>W</td></tr><tr><td>W</td></tr><tr><td>W</td></tr><tr><td>W</td></tr><tr><td>W</td></tr><tr><td>W</td></tr><tr><td>W</td></tr><tr><td>W</td></tr><tr><td>W</td></tr><tr><td>W</td></tr><tr><td>W</td></tr><tr><td>W</td></tr><tr><td>W</td></tr><tr><td>W</td></tr><tr><td>W</td></tr><tr><td>W</td></tr><tr><td>W</td></tr><tr><td>W</td></tr><tr><td>W</td></tr><tr><td>W</td></tr><tr><td>W</td></tr><tr><td>W</td></tr><tr><td>W</td></tr><tr><td>W</td></tr><tr><td>W</td></tr><tr><td>W</td></tr><tr><td>W</td></tr><tr><td>W</td></tr><tr><td>W</td></tr><tr><td>W</td></tr><tr><td>W</td></tr><tr><td>W</td></tr><tr><td>W</td></tr><tr><td>W</td></tr><tr><td>W</td></tr><tr><td>W</td></tr><tr><td>W</td></tr><tr><td>W</td></tr><tr><td>W</td></tr><tr><td>W</td></tr><tr><td>W</td></tr><tr><td>W</td></tr><tr><td>W</td></tr><tr><td>W</td></tr><tr><td>W</td></tr><tr><td>W</td></tr><tr><td>W</td></tr><tr><td>W</td></tr><tr><td>W</td></tr><tr><td>W</td></tr><tr><td>W</td></tr><tr><td>W</td></tr><tr><td>W</td></tr><tr><td>W</td></tr><tr><td>W</td></tr><tr><td>W</td></tr><tr><td>W</td></tr><tr><td>W</td></tr><tr><td>W</td></tr><tr><td>W</td></tr><tr><td>W</td></tr><tr><td>W</td></tr><tr><td>W</td></tr><tr><td>W</td></tr><tr><td>W</td></tr><tr><td>W</td></tr><tr><td>W</td></tr><tr><td>W</td></tr><tr><td>W</td></tr><tr><td>W</td></tr><tr><td>W</td></tr><tr><td>W</td></tr><tr><td>W</td></tr><tr><td>W</td></tr><tr><td>W</td></tr><tr><td>W</td></tr><tr><td>W</td></tr><tr><td>W</td></tr><tr><td>W</td></tr><tr><td>W</td></tr><tr><td>W</td></tr><tr><td>W</td></tr><tr><td>W</td></tr><tr><td>W</td></tr><tr><td>W</td></tr><tr><td>W</td></tr><tr><td>W</td></tr><tr><td>W</td></tr><tr><td>W</td></tr><tr><td>W</td></tr><tr><td>W</td></tr><tr><td>W</td></tr><tr><td>W</td></tr><tr><td>W</td></tr><tr><td>W</td></tr><tr><td>W</td></tr><tr><td>W</td></tr><tr><td>W</td></tr><tr><td>W</td></tr><tr><td>W</td></tr><tr><td>W</td></tr><tr><td>W</td></tr><tr><td>W</td></tr><tr><td>W</td></tr><tr><td>W</td></tr><tr><td>W</td></tr><tr><td>W</td></tr><tr><td>W</td></tr><tr><td>W</td></tr><tr><td>W</td></tr><tr><td>W</td></tr><tr><td>W</td></tr><tr><td>W</td></tr><tr><td>W</td></tr><tr><td>W</td></tr><tr><td>W</td></tr><tr><td>W</td></tr><tr><td>W</td></tr><tr><td>W</td></tr><tr><td>W</td></tr><tr><td>W</td></tr><tr><td>W</td></tr><tr><td>W</td></tr><tr><td>W</td></tr><tr><td>W</td></tr><tr><td>W</td></tr><tr><td>W</td></tr><tr><td>W</td></tr><tr><td>W</td></tr><tr><td>W</td></tr><tr><td>W</td></tr><tr><td>W</td></tr><tr><td>W</td></tr><tr><td>W</td></tr><tr><td>W</td></tr><tr><td>W</td></tr><tr><td>W</td></tr><tr><td>W</td></tr><tr><td>W</td></tr><tr><td>W</td></tr><tr><td>W</td></tr><tr><td>W</td></tr><tr><td>W</td></tr><tr><td>W</td></tr><tr><td>W</td></tr><tr><td>W</td></tr><tr><td>W</td></tr><tr><td>W</td></tr><tr><td>W</td></tr><tr><td>W</td></tr><tr><td>W</td></tr><tr><td>W</td></tr><tr><td>W</td></tr><tr><td>W</td></tr><tr><td>W</td></tr><tr><td>W</td></tr><tr><td>W</td></tr><tr><td>W</td></tr><tr><td>W</td></tr><tr><td>W</td></tr><tr><td>W</td></tr><tr><td>W</td></tr><tr><td>W</td></tr><tr><td>W</td></tr><tr><td>W</td></tr><tr><td>W</td></tr><tr><td>W</td></tr><tr><td>W</td></tr><tr><td>W</td></tr><tr><td>W</td></tr><tr><td>W</td></tr><tr><td>W</td></tr><tr><td>W</td></tr><tr><td>W</td></tr><tr><td>W</td></tr><tr><td>W</td></tr><tr><td>W</td></tr><tr><td>W</td></tr><tr><td>W</td></tr><tr><td>W</td></tr><tr><td>W</td></tr><tr><td>W</td></tr><tr><td>W</td></tr><tr><td>W</td></tr><tr><td>W</td></tr><tr><td>W</td></tr><tr><td>W</td></tr><tr><td>W</td></tr><tr><td>W</td></tr><tr><td>W</td></tr><tr><td>W</td></tr><tr><td>W</td></tr><tr><td>W</td></tr><tr><td>W</td></tr><tr><td>W</td></tr><tr><td>W</td></tr><tr><td>W</td></tr><tr><td>W</td></tr><tr><td>W</td></tr><tr><td>W</td></tr><tr><td>W</td></tr><tr><td>W</td></tr><tr><td>W</td></tr><tr><td>W</td></tr><tr><td>W</td></tr><tr><td>W</td></tr><tr><td>W</td></tr><tr><td>W</td></tr><tr><td>W</td></tr><tr><td>W</td></tr><tr><td>W</td></tr><tr><td>W</td></tr><tr><td>W</td></tr><tr><td>W</td></tr><tr><td>W</td></tr><tr><td>W</td></tr><tr><td>W</td></tr><tr><td>W</td></tr><tr><td>W</td></tr><tr><td>W</td></tr><tr><td>W</td></tr><tr><td>W</td></tr><tr><td>W</td></tr><tr><td>W</td></tr><tr><td>W</td></tr><tr><td>W</td></tr><tr><td>W</td></tr><tr><td>W</td></tr><tr><td>W</td></tr><tr><td>W</td></tr><tr><td>W</td></tr><tr><td>W</td></tr><tr><td>W</td></tr><tr><td>W</td></tr><tr><td>W</td></tr><tr><td>W</td></tr><tr><td>W</td></tr><tr><td>W</td></tr><tr><td>W</td></tr><tr><td>W</td></tr><tr><td>W</td></tr><tr><td>W</td></tr><tr><td>W</td></tr><tr><td>W</td></tr><tr><td>W</td></tr><tr><td>W</td></tr><tr><td>W</td></tr><tr><td>W</td></tr><tr><td>W</td></tr><tr><td>W</td></tr><tr><td>W</td></tr><tr><td>W</td></tr><tr><td>W</td></tr><tr><td>W</td></tr><tr><td>W</td></tr><tr><td>W</td></tr><tr><td>W</td></tr><tr><td>W</td></tr><tr><td>W</td></tr><tr><td>W</td></tr><tr><td>W</td></tr><tr><td>W</td></tr><tr><td>W</td></tr><tr><td>W</td></tr><tr><td>W</td></tr><tr><td>W</td></tr><tr><td>W</td></tr><tr><td>W</td></tr><tr><td>W</td></tr><tr><td>W</td></tr><tr><td>W</td></tr><tr><td>W</td></tr><tr><td>W</td></tr><tr><td>W</td></tr><tr><td>W</td></tr><tr><td>W</td></tr><tr><td>W</td></tr><tr><td>W</td></tr><tr><td>W</td></tr><tr><td>W</td></tr><tr><td>W</td></tr><tr><td>W</td></tr><tr><td>W</td></tr><tr><td>W</td></tr><tr><td>W</td></tr><tr><td>W</td></tr><tr><td>W</td></tr><tr><td>W</td></tr><tr><td>W</td></tr><tr><td>W</td></tr><tr><td>W</td></tr><tr><td>W</td></tr><tr><td>W</td></tr><tr><td>W</td></tr><tr><td>W</td></tr><tr><td>W</td></tr><tr><td>W</td></tr><tr><td>W</td></tr><tr><td>W</td></tr><tr><td>W</td></tr><tr><td>W</td></tr><tr><td>W</td></tr><tr><td>W</td></tr><tr><td>W</td></tr><tr><td>W</td></tr><tr><td>W</td></tr><tr><td>W</td></tr><tr><td>W</td></tr><tr><td>W</td></tr><tr><td>W</td></tr><tr><td>W</td></tr><tr><td>W</td></tr><tr><td>W</td></tr><tr><td>W</td></tr><tr><td>W</td></tr><tr><td>W</td></tr><tr><td>W</td></tr><tr><td>W</td></tr><tr><td>W</td></tr><tr><td>W</td></tr><tr><td>W</td></tr><tr><td>W</td></tr><tr><td>W</td></tr><tr><td>W</td></tr><tr><td>W</td></tr><tr><td>W</td></tr><tr><td>W</td></tr><tr><td>W</td></tr><tr><td>W</td></tr><tr><td>W</td></tr><tr><td>W</td></tr><tr><td>W</td></tr><tr><td>W</td></tr><tr><td>W</td></tr><tr><td>W</td></tr><tr><td>W</td></tr><tr><td>W</td></tr><tr><td>W</td></tr><tr><td>W</td></tr><tr><td>W</td></tr><tr><td>W</td></tr><tr><td>W</td></tr><tr><td>W</td></tr><tr><td>W</td></tr><tr><td>W</td></tr><tr><td>W</td></tr><tr><td>W</td></tr><tr><td>W</td></tr><tr><td>W</td></tr><tr><td>W</td></tr><tr><td>W</td></tr><tr><td>W</td></tr><tr><td>W</td></tr><tr><td>W</td></tr><tr><td>W</td></tr><tr><td>W</td></tr><tr><td>W</td></tr><tr><td>W</td></tr><tr><td>W</td></tr><tr><td>W</td></tr><tr><td>W</td></tr><tr><td>W</td></tr><tr><td>W</td></tr><tr><td>W</td></tr><tr><td>W</td></tr><tr><td>W</td></tr><tr><td>W</td></tr><tr><td>W</td></tr><tr><td>W</td></tr><tr><td>W</td></tr><tr><td>W</td></tr><tr><td>W</td></tr><tr><td>W</td></tr><tr><td>W</td></tr><tr><td>W</td></tr><tr><td>W</td></tr><tr><td>W</td></tr><tr><td>W</td></tr><tr><td>W</td></tr><tr><td>W</td></tr><tr><td>W</td></tr><tr><td>W</td></tr><tr><td>W</td></tr><tr><td>W</td></tr><tr><td>W</td></tr><tr><td>W</td></tr><tr><td>W</td></tr><tr><td>W</td></tr><tr><td>W</td></tr><tr><td>W</td></tr><tr><td>W</td></tr><tr><td>W</td></tr><tr><td>W</td></tr><tr><td>W</td></tr><tr><td>W</td></tr><tr><td>W</td></tr><tr><td>W</td></tr><tr><td>W</td></tr><tr><td>W</td></tr><tr><td>W</td></tr><tr><td>W</td></tr><tr><td>W</td></tr><tr><td>W</td></tr><tr><td>W</td></tr><tr><td>W</td></tr><tr><td>W</td></tr><tr><td>W</td></tr><tr><td>W</td></tr><tr><td>W</td></tr><tr><td>W</td></tr><tr><td>W</td></tr><tr><td>W</td></tr><tr><td>W</td></tr><tr><td>W</td></tr><tr><td>W</td></tr><tr><td>W</td></tr><tr><td>W</td></tr><tr><td>W</td></tr><tr><td>W</td></tr><tr><td>W</td></tr><tr><td>W</td></tr><tr><td>W</td></tr><tr><td>W</td></tr><tr><td>W</td></tr><tr><td>W</td></tr><tr><td>W</td></tr><tr><td>W</td></tr><tr><td>W</td></tr><tr><td>W</td></tr><tr><td>W</td></tr><tr><td>W</td></tr><tr><td>W</td></tr><tr><td>W</td></tr><tr><td>W</td></tr><tr><td>W</td></tr><tr><td>W</td></tr><tr><td>W</td></tr><tr><td>W</td></tr><tr><td>W</td></tr><tr><td>W</td></tr><tr><td>W</td></tr><tr><td>W</td></tr><tr><td>W</td></tr><tr><td>W</td></tr><tr><td>W</td></tr><tr><td>W</td></tr><tr><td>W</td></tr><tr><td>W</td></tr><tr><td>W</td></tr><tr><td>W</td></tr><tr><td>W</td></tr><tr><td>W</td></tr><tr><td>W</td></tr><tr><td>W</td></tr><tr><td>W</td></tr><tr><td>W</td></tr><tr><td>W</td></tr><tr><td>W</td></tr><tr><td>W</td></tr><tr><td>W</td></tr><tr><td>W</td></tr><tr><td>W</td></tr><tr><td>W</td></tr><tr><td>W</td></tr><tr><td>W</td></tr><tr><td>W</td></tr><tr><td>W</td></tr><tr><td>W</td></tr><tr><td>W</td></tr><tr><td>W</td></tr><tr><td>W</td></tr><tr><td>W</td></tr><tr><td>W</td></tr><tr><td>W</td></tr><tr><td>W</td></tr><tr><td>W</td></tr><tr><td>W</td></tr><tr><td>W</td></tr><tr><td>W</td></tr><tr><td>W</td></tr><tr><td>W</td></tr><tr><td>W</td></tr><tr><td>W</td></tr><tr><td>W</td></tr><tr><td>W</td></tr><tr><td>W</td></tr><tr><td>W</td></tr><tr><td>W</td></tr><tr><td>W</td></tr><tr><td>W</td></tr><tr><td>W</td></tr><tr><td>W</td></tr><tr><td>W</td></tr><tr><td>W</td></tr><tr><td>W</td></tr><tr><td>W</td></tr><tr><td>W</td></tr><tr><td>W</td></tr><tr><td>W</td></tr><tr><td>W</td></tr><tr><td>W</td></tr><tr><td>W</td></tr><tr><td>W</td></tr><tr><td>W</td></tr><tr><td>W</td></tr><tr><td>W</td></tr><tr><td>W</td></tr><tr><td>W</td></tr><tr><td>W</td></tr><tr><td>W</td></tr><tr><td>W</td></tr><tr><td>W</td></tr><tr><td>W</td></tr><tr><td>W</td></tr><tr><td>W</td></tr><tr><td>W</td></tr><tr><td>W</td></tr><tr><td>W</td></tr><tr><td>W</td></tr><tr><td>W</td></tr><tr><td>W</td></tr><tr><td>W</td></tr><tr><td>W</td></tr><tr><td>W</td></tr><tr><td>W</td></tr><tr><td>W</td></tr><tr><td>W</td></tr><tr><td>W</td></tr><tr><td>W</td></tr><tr><td>W</td></tr><tr><td>W</td></tr><tr><td>W</td></tr><tr><td>W</td></tr><tr><td>W</td></tr><tr><td>W</td></tr><tr><td>W</td></tr><tr><td>W</td></tr><tr><td>W</td></tr><tr><td>W</td></tr><tr><td>W</td></tr><tr><td>W</td></tr><tr><td>W</td></tr><tr><td>W</td></tr><tr><td>W</td></tr><tr><td>W</td></tr><tr><td>W</td></tr><tr><td>W</td></tr><tr><td>W</td></tr><tr><td>W</td></tr><tr><td>W</td></tr><tr><td>W</td></tr><tr><td>W</td></tr><tr><td>W</td></tr><tr><td>W</td></tr><tr><td>W</td></tr><tr><td>W</td></tr><tr><td>W</td></tr><tr><td>W</td></tr><tr><td>W</td></tr><tr><td>W</td></tr><tr><td>W</td></tr><tr><td>W</td></tr><tr><td>W</td></tr><tr><td>W</td></tr><tr><td>W</td></tr><tr><td>W</td></tr><tr><td>W</td></tr><tr><td>W</td></tr><tr><td>W</td></tr><tr><td>W</td></tr><tr><td>W</td></tr><tr><td>W</td></tr><tr><td>W</td></tr><tr><td>W</td></tr><tr><td>W</td></tr><tr><td>W</td></tr><tr><td>W</td></tr><tr><td>W</td></tr><tr><td>W</td></tr><tr><td>W</td></tr><tr><td>W</td></tr><tr><td>W</td></tr><tr><td>W</td></tr><tr><td>W</td></tr><tr><td>W</td></tr><tr><td>W</td></tr><tr><td>W</td></tr><tr><td>W</td></tr><tr><td>W</td></tr><tr><td>W</td></tr><tr><td>W</td></tr><tr><td>W</td></tr><tr><td>W</td></tr><tr><td>W</td></tr><tr><td>W</td></tr><tr><td>W</td></tr><tr><td>W</td></tr><tr><td>W</td></tr><tr><td>W</td></tr><tr><td>W</td></tr><tr><td>W</td></tr><tr><td>W</td></tr><tr><td>W</td></tr><tr><td>W</td></tr><tr><td>W</td></tr><tr><td>W</td></tr><tr><td>W</td></tr><tr><td>W</td></tr><tr><td>W</td></tr><tr><td>W</td></tr><tr><td>W</td></tr><tr><td>W</td></tr><tr><td>W</td></tr><tr><td>W</td></tr><tr><td>W</td></tr><tr><td>W</td></tr><tr><td>W</td></tr><tr><td>W</td></tr><tr><td>W</td></tr><tr><td>W</td></tr><tr><td>W</td></tr><tr><td>W</td></tr><tr><td>W</td></tr><tr><td>W</td></tr><tr><td>W</td></tr><tr><td>W</td></tr><tr><td>W</td></tr><tr><td>W</td></tr><tr><td>W</td></tr><tr><td>W</td></tr><tr><td>W</td></tr><tr><td>W</td></tr><tr><td>W</td></tr><tr><td>W</td></tr><tr><td>W</td></tr><tr><td>W</td></tr><tr><td>W</td></tr><tr><td>W</td></tr><tr><td>W</td></tr><tr><td>W</td></tr><tr><td>W</td></tr><tr><td>W</td></tr><tr><td>W</td></tr><tr><td>W</td></tr><tr><td>W</td></tr><tr><td>W</td></tr><tr><td>W</td></tr><tr><td>W</td></tr><tr><td>W</td></tr><tr><td>W</td></tr><tr><td>W</td></tr><tr><td>W</td></tr><tr><td>W</td></tr><tr><td>W</td></tr><tr><td>W</td></tr><tr><td>W</td></tr><tr><td>W</td></tr><tr><td>W</td></tr><tr><td>W</td></tr><tr><td>W</td></tr><tr><td>W</td></tr><tr><td>W</td></tr><tr><td>W</td></tr><tr><td>W</td></tr><tr><td>W</td></tr><tr><td>W</td></tr><tr><td>W</td></tr><tr><td>W</td></tr><tr><td>W</td></tr><tr><td>W</td></tr><tr><td>W</td></tr><tr><td>W</td></tr><tr><td>W</td></tr><tr><td>W</td></tr><tr><td>W</td></tr><tr><td>W</td></tr><tr><td>W</td></tr><tr><td>W</td></tr><tr><td>W</td></tr><tr><td>W</td></tr><tr><td>W</td></tr><tr><td>W</td></tr><tr><td>W</td></tr><tr><td>W</td></tr><tr><td>W</td></tr><tr><td>W</td></tr><tr><td>W</td></tr><tr><td>W</td></tr><tr><td>W</td></tr><tr><td>W</td></tr><tr><td>W</td></tr><tr><td>W</td></tr><tr><td>W</td></tr><tr><td>W</td></tr><tr><td>W</td></tr><tr><td>W</td></tr><tr><td>W</td></tr><tr><td>W</td></tr><tr><td>W</td></tr><tr><td>W</td></tr><tr><td>W</td></tr><tr><td>W</td></tr><tr><td>W</td></tr><tr><td>W</td></tr><tr><td>W</td></tr><tr><td>W</td></tr><tr><td>W</td></tr><tr><td>W</td></tr><tr><td>W</td></tr><tr><td>W</td></tr><tr><td>W</td></tr><tr><td>W</td></tr><tr><td>W</td></tr><tr><td>W</td></tr><tr><td>W</td></tr><tr><td>W</td></tr><tr><td>W</td></tr><tr><td>W</td></tr><tr><td>W</td></tr><tr><td>W</td></tr><tr><td>W</td></tr><tr><td>W</td></tr><tr><td>W</td></tr><tr><td>W</td></tr><tr><td>W</td></tr><tr><td>W</td></tr><tr><td>W</td></tr><tr><td>W</td></tr><tr><td>W</td></tr><tr><td>W</td></tr><tr><td>W</td></tr><tr><td>W</td></tr><tr><td>W</td></tr><tr><td>W</td></tr><tr><td>W</td></tr><tr><td>W</td></tr><tr><td>W</td></tr><tr><td>W</td></tr><tr><td>W</td></tr><tr><td>W</td></tr><tr><td>W</td></tr><tr><td>W</td></tr><tr><td>W</td></tr><tr><td>W</td></tr><tr><td>W</td></tr><tr><td>W</td></tr><tr><td>W</td></tr><tr><td>W</td></tr><tr><td>W</td></tr><tr><td>W</td></tr><tr><td>W</td></tr><tr><td>W</td></tr><tr><td>W</td></tr><tr><td>W</td></tr><tr><td>W</td></tr><tr><td>W</td></tr><tr><td>W</td></tr><tr><td>W</td></tr><tr><td>W</td></tr><tr><td>W</td></tr><tr><td>W</td></tr><tr><td>W</td></tr><tr><td>W</td></tr><tr><td>W</td></tr><tr><td>W</td></tr><tr><td>W</td></tr><tr><td>W</td></tr><tr><td>W</td></tr><tr><td>W</td></tr><tr><td>W</td></tr><tr><td>W</td></tr><tr><td>W</td></tr><tr><td>W</td></tr><tr><td>W</td></tr><tr><td>W</td></tr><tr><td>W</td></tr><tr><td>W</td></tr><tr><td>W</td></tr><tr><td>W</td></tr><tr><td>W</td></tr><tr><td>W</td></tr><tr><td>W</td></tr><tr><td>W</td></tr><tr><td>W</td></tr><tr><td>W</td></tr><tr><td>W</td></tr><tr><td>W</td></tr><tr><td>W</td></tr><tr><td>W</td></tr><tr><td>W</td></tr><tr><td>W</td></tr><tr><td>W</td></tr><tr><td>W</td></tr><tr><td>W</td></tr><tr><td>W</td></tr><tr><td>W</td></tr><tr><td>W</td></tr><tr><td>W</td></tr><tr><td>W</td></tr><tr><td>W</td></tr><tr><td>W</td></tr><tr><td>W</td></tr><tr><td>W</td></tr><tr><td>W</td></tr><tr><td>W</td></tr><tr><td>W</td></tr><tr><td>W</td></tr><tr><td>W</td></tr><tr><td>W</td></tr><tr><td>W</td></tr><tr><td>W</td></tr><tr><td>W</td></tr><tr><td>W</td></tr><tr><td>W</td></tr><tr><td>W</td></tr><tr><td>W</td></tr><tr><td>W</td></tr><tr><td>W</td></tr><tr><td>W</td></tr><tr><td>W</td></tr><tr><td>W</td></tr><tr><td>W</td></tr><tr><td>W</td></tr><tr><td>W</td></tr><tr><td>W</td></tr><tr><td>W</td></tr><tr><td>W</td></tr><tr><td>W</td></tr><tr><td>W</td></tr><tr><td>W</td></tr><tr><td>W</td></tr><tr><td>W</td></tr><tr><td>W</td></tr><tr><td>W</td></tr><tr><td>W</td></tr><tr><td>W</td></tr><tr><td>W</td></tr><tr><td>W</td></tr><tr><td>W</td></tr><tr><td>W</td></tr><tr><td>W</td></tr><tr><td>W</td></tr><tr><td>W</td></tr><tr><td>W</td></tr><tr><td>W</td></tr><tr><td>W</td></tr><tr><td>W</td></tr><tr><td>W</td></tr><tr><td>W</td></tr><tr><td>W</td></tr><tr><td>W</td></tr><tr><td>W</td></tr><tr><td>W</td></tr><tr><td>W</td></tr><tr><td>W</td></tr><tr><td>W</td></tr><tr><td>W</td></tr><tr><td>W</td></tr><tr><td>W</td></tr><tr><td>W</td></tr><tr><td>W</td></tr><tr><td>W</td></tr><tr><td>W</td></tr><tr><td>W</td></tr><tr><td>W</td></tr><tr><td>W</td></tr><tr><td>W</td></tr><tr><td>W</td></tr><tr><td>W</td></tr><tr><td>W</td></tr><tr><td>W</td></tr><tr><td>W</td></tr><tr><td>W</td></tr><tr><td>W</td></tr><tr><td>W</td></tr><tr><td>W</td></tr><tr><td>W</td></tr><tr><td>W</td></tr><tr><td>W</td></tr><tr><td>W</td></tr><tr><td>W</td></tr><tr><td>W</td></tr><tr><td>W</td></tr><tr><td>W</td></tr><tr><td>W</td></tr><tr><td>W</td></tr><tr><td>W</td></tr><tr><td>W</td></tr><tr><td>W</td></tr><tr><td>W</td></tr><tr><td>W</td></tr><tr><td>W</td></tr><tr><td>W</td></tr><tr><td>W</td></tr><tr><td>W</td></tr><tr><td>W</td></tr><tr><td>W</td></tr><tr><td>W</td></tr><tr><td>W</td></tr><tr><td>W</td></tr><tr><td>W</td></tr><tr><td>W</td></tr><tr><td>W</td></tr><tr><td>W</td></tr><tr><td>W</td></tr><tr><td>W</td></tr><tr><td>W</td></tr><tr><td>W</td></tr><tr><td>W</td></tr><tr><td>W</td></tr><tr><td>W</td></tr><tr><td>W</td></tr><tr><td>W</td></tr><tr><td>W</td></tr><tr><td>W</td></tr><tr><td>W</td></tr><tr><td>W</td></tr><tr><td>W</td></tr><tr><td>W</td></tr><tr><td>W</td></tr><tr><td>W</td></tr><tr><td>W</td></tr><tr><td>W</td></tr><tr><td>W</td></tr><tr><td>W</td></tr><tr><td>W</td></tr><tr><td>W</td></tr><tr><td>W</td></tr><tr><td>W</td></tr><tr><td>W</td></tr><tr><td>W</td></tr><tr><td>W</td></tr><tr><td>W</td></tr><tr><td>W</td></tr><tr><td>W</td></tr><tr><td>W</td></tr><tr><td>W</td></tr><tr><td>W</td></tr><tr><td>W</td></tr><tr><td>W</td></tr><tr><td>W</td></tr><tr><td>W</td></tr><tr><td>W</td></tr><tr><td>W</td></tr><tr><td>W</td></tr><tr><td>W</td></tr><tr><td>W</td></tr><tr><td>W</td></tr><tr><td>W</td></tr><tr><td>W</td></tr><tr><td>W</td></tr><tr><td>W</td></tr><tr><td>W</td></tr><tr><td>W</td></tr><tr><td>W</td></tr><tr><td>W</td></tr><tr><td>W</td></tr><tr><td>W</td></tr><tr><td>W</td></tr><tr><td>W</td></tr><tr><td>W</td></tr><tr><td>W</td></tr><tr><td>W</td></tr><tr><td>W</td></tr><tr><td>W</td></tr><tr><td>W</td></tr><tr><td>W</td></tr><tr><td>W</td></tr><tr><td>W</td></tr><tr><td>W</td></tr><tr><td>W</td></tr><tr><td>W</td></tr><tr><td>W</td></tr><tr><td>W</td></tr><tr><td>W</td></tr><tr><td>W</td></tr><tr><td>W</td></tr><tr><td>W</td></tr><tr><td>W</td></tr><tr><td>W</td></tr><tr><td>W</td></tr><tr><td>W</td></tr><tr><td>W</td></tr><tr><td>W</td></tr><tr><td>W</td></tr><tr><td>W</td></tr><tr><td>W</td></tr><tr><td>W</td></tr><tr><td>W</td></tr><tr><td>W</td></tr><tr><td>W</td></tr><tr><td>W</td></tr><tr><td>W</td></tr><tr><td>W</td></tr><tr><td>W</td></tr><tr><td>W</td></tr><tr><td>W</td></tr><tr><td>W</td></tr><tr><td>W</td></tr><tr><td>W</td></tr><tr><td>W</td></tr><tr><td>W</td></tr><tr><td>W</td></tr><tr><td>W</td></tr><tr><td>W</td></tr><tr><td>W</td></tr><tr><td>W</td></tr><tr><td>W</td></tr><tr><td>W</td></tr><tr><td>W</td></tr><tr><td>W</td></tr><tr><td>W</td></tr><tr><td>W</td></tr><tr><td>W</td></tr><tr><td>W</td></tr><tr><td>W</td></tr><tr><td>W</td></tr><tr><td>W</td></tr><tr><td>W</td></tr><tr><td>W</td></tr><tr><td>W</td></tr><tr><td>W</td></tr><tr><td>W</td></tr><tr><td>W</td></tr><tr><td>W</td></tr><tr><td>W</td></tr><tr><td>W</td></tr><tr><td>W</td></tr><tr><td>W</td></tr><tr><td>W</td></tr><tr><td>W</td></tr><tr><td>W</td></tr><tr><td>W</td></tr><tr><td>W</td></tr><tr><td>W</td></tr><tr><td>W</td></tr><tr><td>W</td></tr><tr><td>W</td></tr><tr><td>W</td></tr><tr><td>W</td></tr><tr><td>W</td></tr><tr><td>W</td></tr><tr><td>W</td></tr><tr><td>W</td></tr><tr><td>W</td></tr><tr><td>W</td></tr><tr><td>W</td></tr><tr><td>W</td></tr><tr><td>W</td></tr><tr><td>W</td></tr><tr><td>W</td></tr><tr><td>W</td></tr><tr><td>W</td></tr><tr><td>W</td></tr><tr><td>W</td></tr><tr><td>W</td></tr><tr><td>W</td></tr><tr><td>W</td></tr><tr><td>W</td></tr><tr><td>W</td></tr><tr><td>W</td></tr><tr><td>W</td></tr><tr><td>W</td></tr><tr><td>W</td></tr><tr><td>W</td></tr><tr><td>W</td></tr><tr><td>W</td></tr><tr><td>W</td></tr><tr><td>W</td></tr><tr><td>W</td></tr><tr><td>W</td></tr><tr><td>W</td></tr><tr><td>W</td></tr><tr><td>W</td></tr><tr><td>W</td></tr><tr><td>W</td></tr><tr><td>W</td></tr><tr><td>W</td></tr><tr><td>W</td></tr><tr><td>W</td></tr><tr><td>W</td></tr><tr><td>W</td></tr><tr><td>W</td></tr><tr><td>W</td></tr><tr><td>W</td></tr><tr><td>W</td></tr><tr><td>W</td></tr><tr><td>W</td></tr><tr><td>W</td></tr><tr><td>W</td></tr><tr><td>W</td></tr><tr><td>W</td></tr><tr><td>W</td></tr><tr><td>W</td></tr><tr><td>W</td></tr><tr><td>W</td></tr><tr><td>W</td></tr><tr><td>W</td></tr><tr><td>W</td></tr><tr><td>W</td></tr><tr><td>W</td></tr><tr><td>W</td></tr><tr><td>W</td></tr><tr><td>W</td></tr><tr><td>W</td></tr><tr><td>W</td></tr><tr><td>W</td></tr><tr><td>W</td></tr><tr><td>W</td></tr><tr><td>W</td></tr><tr><td>W</td></tr><tr><td>W</td></tr><tr><td>W</td></tr><tr><td>W</td></tr><tr><td>W</td></tr><tr><td>W</td></tr><tr><td>W</td></tr><tr><td>W</td></tr><tr><td>W</td></tr><tr><td>W</td></tr><tr><td>W</td></tr><tr><td>W</td></tr><tr><td>W</td></tr><tr><td>W</td></tr><tr><td>W</td></tr><tr><td>W</td></tr><tr><td>W</td></tr><tr><td>W</td></tr><tr><td>W</td></tr><tr><td>W</td></tr><tr><td>W</td></tr><tr><td>W</td></tr><tr><td>W</td></tr><tr><td>W</td></tr><tr><td>W</td></tr><tr><td>W</td></tr><tr><td>W</td></tr><tr><td>W</td></tr><tr><td>W</td></tr><tr><td>W</td></tr><tr><td>W</td></tr><tr><td>W</td></tr><tr><td>W</td></tr><tr><td>W</td></tr><tr><td>W</td></tr><tr><td>W</td></tr><tr><td>W</td></tr><tr><td>W</td></tr><tr><td>W</td></tr><tr><td>W</td></tr><tr><td>W</td></tr><tr><td>W</td></tr><tr><td>W</td></tr><tr><td>W</td></tr><tr><td>W</td></tr><tr><td>W</td></tr><tr><td>W</td></tr><tr><td>W</td></tr><tr><td>W</td></tr><tr><td>W</td></tr><tr><td>W</td></tr><tr><td>W</td></tr><tr><td>W</td></tr><tr><td>W</td></tr><tr><td>W</td></tr><tr><td>W</td></tr><tr><td>W</td></tr><tr><td>W</td></tr><tr><td>W</td></tr><tr><td>W</td></tr><tr><td>W</td></tr><tr><td>W</td></tr><tr><td>W</td></tr><tr><td>W</td></tr><tr><td>W</td></tr><tr><td>W</td></tr><tr><td>W</td></tr><tr><td>W</td></tr><tr><td>W</td></tr><tr><td>W</td></tr><tr><td>W</td></tr><tr><td>W</td></tr><tr><td>W</td></tr><tr><td>W</td></tr><tr><td>W</td></tr><tr><td>W</td></tr><tr><td>W</td></tr><tr><td>W</td></tr><tr><td>W</td></tr><tr><td>W</td></tr><tr><td>W</td></tr><tr><td>W</td></tr><tr><td>W</td></tr><tr><td>W</td></tr><tr><td>W</td></tr><tr><td>W</td></tr><tr><td>W</td></tr><tr><td>W</td></tr><tr><td>W</td></tr><tr><td>W</td></tr><tr><td>W</td></tr><tr><td>W</td></tr><tr><td>W</td></tr><tr><td>W</td></tr><tr><td>W</td></tr><tr><td>W</td></tr><tr><td>W</td></tr><tr><td>W</td></tr><tr><td>W</td></tr><tr><td>W</td></tr><tr><td>W</td></tr><tr><td>W</td></tr><tr><td>W</td></tr><tr><td>W</td></tr><tr><td>W</td></tr><tr><td>W</td></tr><tr><td>W</td></tr><tr><td>W</td></tr><tr><td>W</td></tr><tr><td>W</td></tr><tr><td>W</td></tr><tr><td>W</td></tr><tr><td>W</td></tr><tr><td>W</td></tr><tr><td>W</td></tr><tr><td>W</td></tr><tr><td>W</td></tr><tr><td>W</td></tr><tr><td>W</td></tr><tr><td>W</td></tr><tr><td>W</td></tr><tr><td>W</td></tr><tr><td>W</td></tr><tr><td>W</td></tr><tr><td>W</td></tr><tr><td>W</td></tr><tr><td>W</td></tr><tr><td>W</td></tr><tr><td>W</td></tr><tr><td>W</td></tr><tr><td>W</td></tr><tr><td>W</td></tr><tr><td>W</td></tr><tr><td>W</td></tr><tr><td>W</td></tr><tr><td>W</td></tr><tr><td>W</td></tr><tr><td>W</td></tr><tr><td>W</td></tr><tr><td>W</td></tr><tr><td>W</td></tr><tr><td>W</td></tr><tr><td>W</td></tr><tr><td>W</td></tr><tr><td>W</td></tr><tr><td>W</td></tr><tr><td>W</td></tr><tr><td>W</td></tr><tr><td>W</td></tr><tr><td>W</td></tr><tr><td>W</td></tr><tr><td>W</td></tr><tr><td>W</td></tr><tr><td>W</td></tr><tr><td>W</td></tr><tr><td>W</td></tr><tr><td>W</td></tr><tr><td>W</td></tr><tr><td>W</td></tr><tr><td>W</td></tr><tr><td>W</td></tr><tr><td>W</td></tr><tr><td>W</td></tr><tr><td>W</td></tr><tr><td>W</td></tr><tr><td>W</td></tr><tr><td>W</td></tr><tr><td>W</td></tr><tr><td>W</td></tr><tr><td>W</td></tr><tr><td>W</td></tr></tbody></table></div>"
      ]
     },
     "metadata": {
      "application/vnd.databricks.v1+output": {
       "addedWidgets": {},
       "aggData": [],
       "aggError": "",
       "aggOverflow": false,
       "aggSchema": [],
       "aggSeriesLimitReached": false,
       "aggType": "",
       "arguments": {},
       "columnCustomDisplayInfos": {},
       "data": [
        [
         "W"
        ],
        [
         "W"
        ],
        [
         "W"
        ],
        [
         "W"
        ],
        [
         "W"
        ],
        [
         "W"
        ],
        [
         "W"
        ],
        [
         "W"
        ],
        [
         "W"
        ],
        [
         "W"
        ],
        [
         "W"
        ],
        [
         "W"
        ],
        [
         "W"
        ],
        [
         "W"
        ],
        [
         "W"
        ],
        [
         "W"
        ],
        [
         "W"
        ],
        [
         "W"
        ],
        [
         "W"
        ],
        [
         "W"
        ],
        [
         "W"
        ],
        [
         "W"
        ],
        [
         "W"
        ],
        [
         "W"
        ],
        [
         "W"
        ],
        [
         "W"
        ],
        [
         "W"
        ],
        [
         "W"
        ],
        [
         "W"
        ],
        [
         "W"
        ],
        [
         "W"
        ],
        [
         "W"
        ],
        [
         "W"
        ],
        [
         "W"
        ],
        [
         "W"
        ],
        [
         "W"
        ],
        [
         "W"
        ],
        [
         "W"
        ],
        [
         "W"
        ],
        [
         "W"
        ],
        [
         "W"
        ],
        [
         "W"
        ],
        [
         "W"
        ],
        [
         "W"
        ],
        [
         "W"
        ],
        [
         "W"
        ],
        [
         "W"
        ],
        [
         "W"
        ],
        [
         "W"
        ],
        [
         "W"
        ],
        [
         "W"
        ],
        [
         "W"
        ],
        [
         "W"
        ],
        [
         "W"
        ],
        [
         "W"
        ],
        [
         "W"
        ],
        [
         "W"
        ],
        [
         "W"
        ],
        [
         "W"
        ],
        [
         "W"
        ],
        [
         "W"
        ],
        [
         "W"
        ],
        [
         "W"
        ],
        [
         "W"
        ],
        [
         "W"
        ],
        [
         "W"
        ],
        [
         "W"
        ],
        [
         "W"
        ],
        [
         "W"
        ],
        [
         "W"
        ],
        [
         "W"
        ],
        [
         "W"
        ],
        [
         "W"
        ],
        [
         "W"
        ],
        [
         "W"
        ],
        [
         "W"
        ],
        [
         "W"
        ],
        [
         "W"
        ],
        [
         "W"
        ],
        [
         "W"
        ],
        [
         "W"
        ],
        [
         "W"
        ],
        [
         "W"
        ],
        [
         "W"
        ],
        [
         "W"
        ],
        [
         "W"
        ],
        [
         "W"
        ],
        [
         "W"
        ],
        [
         "W"
        ],
        [
         "W"
        ],
        [
         "W"
        ],
        [
         "W"
        ],
        [
         "W"
        ],
        [
         "W"
        ],
        [
         "W"
        ],
        [
         "W"
        ],
        [
         "W"
        ],
        [
         "W"
        ],
        [
         "W"
        ],
        [
         "W"
        ],
        [
         "W"
        ],
        [
         "W"
        ],
        [
         "W"
        ],
        [
         "W"
        ],
        [
         "W"
        ],
        [
         "W"
        ],
        [
         "W"
        ],
        [
         "W"
        ],
        [
         "W"
        ],
        [
         "W"
        ],
        [
         "W"
        ],
        [
         "W"
        ],
        [
         "W"
        ],
        [
         "W"
        ],
        [
         "W"
        ],
        [
         "W"
        ],
        [
         "W"
        ],
        [
         "W"
        ],
        [
         "W"
        ],
        [
         "W"
        ],
        [
         "W"
        ],
        [
         "W"
        ],
        [
         "W"
        ],
        [
         "W"
        ],
        [
         "W"
        ],
        [
         "W"
        ],
        [
         "W"
        ],
        [
         "W"
        ],
        [
         "W"
        ],
        [
         "W"
        ],
        [
         "W"
        ],
        [
         "W"
        ],
        [
         "W"
        ],
        [
         "W"
        ],
        [
         "W"
        ],
        [
         "W"
        ],
        [
         "W"
        ],
        [
         "W"
        ],
        [
         "W"
        ],
        [
         "W"
        ],
        [
         "W"
        ],
        [
         "W"
        ],
        [
         "W"
        ],
        [
         "W"
        ],
        [
         "W"
        ],
        [
         "W"
        ],
        [
         "W"
        ],
        [
         "W"
        ],
        [
         "W"
        ],
        [
         "W"
        ],
        [
         "W"
        ],
        [
         "W"
        ],
        [
         "W"
        ],
        [
         "W"
        ],
        [
         "W"
        ],
        [
         "W"
        ],
        [
         "W"
        ],
        [
         "W"
        ],
        [
         "W"
        ],
        [
         "W"
        ],
        [
         "W"
        ],
        [
         "W"
        ],
        [
         "W"
        ],
        [
         "W"
        ],
        [
         "W"
        ],
        [
         "W"
        ],
        [
         "W"
        ],
        [
         "W"
        ],
        [
         "W"
        ],
        [
         "W"
        ],
        [
         "W"
        ],
        [
         "W"
        ],
        [
         "W"
        ],
        [
         "W"
        ],
        [
         "W"
        ],
        [
         "W"
        ],
        [
         "W"
        ],
        [
         "W"
        ],
        [
         "W"
        ],
        [
         "W"
        ],
        [
         "W"
        ],
        [
         "W"
        ],
        [
         "W"
        ],
        [
         "W"
        ],
        [
         "W"
        ],
        [
         "W"
        ],
        [
         "W"
        ],
        [
         "W"
        ],
        [
         "W"
        ],
        [
         "W"
        ],
        [
         "W"
        ],
        [
         "W"
        ],
        [
         "W"
        ],
        [
         "W"
        ],
        [
         "W"
        ],
        [
         "W"
        ],
        [
         "W"
        ],
        [
         "W"
        ],
        [
         "W"
        ],
        [
         "W"
        ],
        [
         "W"
        ],
        [
         "W"
        ],
        [
         "W"
        ],
        [
         "W"
        ],
        [
         "W"
        ],
        [
         "W"
        ],
        [
         "W"
        ],
        [
         "W"
        ],
        [
         "W"
        ],
        [
         "W"
        ],
        [
         "W"
        ],
        [
         "W"
        ],
        [
         "W"
        ],
        [
         "W"
        ],
        [
         "W"
        ],
        [
         "W"
        ],
        [
         "W"
        ],
        [
         "W"
        ],
        [
         "W"
        ],
        [
         "W"
        ],
        [
         "W"
        ],
        [
         "W"
        ],
        [
         "W"
        ],
        [
         "W"
        ],
        [
         "W"
        ],
        [
         "W"
        ],
        [
         "W"
        ],
        [
         "W"
        ],
        [
         "W"
        ],
        [
         "W"
        ],
        [
         "W"
        ],
        [
         "W"
        ],
        [
         "W"
        ],
        [
         "W"
        ],
        [
         "W"
        ],
        [
         "W"
        ],
        [
         "W"
        ],
        [
         "W"
        ],
        [
         "W"
        ],
        [
         "W"
        ],
        [
         "W"
        ],
        [
         "W"
        ],
        [
         "W"
        ],
        [
         "W"
        ],
        [
         "W"
        ],
        [
         "W"
        ],
        [
         "W"
        ],
        [
         "W"
        ],
        [
         "W"
        ],
        [
         "W"
        ],
        [
         "W"
        ],
        [
         "W"
        ],
        [
         "W"
        ],
        [
         "W"
        ],
        [
         "W"
        ],
        [
         "W"
        ],
        [
         "W"
        ],
        [
         "W"
        ],
        [
         "W"
        ],
        [
         "W"
        ],
        [
         "W"
        ],
        [
         "W"
        ],
        [
         "W"
        ],
        [
         "W"
        ],
        [
         "W"
        ],
        [
         "W"
        ],
        [
         "W"
        ],
        [
         "W"
        ],
        [
         "W"
        ],
        [
         "W"
        ],
        [
         "W"
        ],
        [
         "W"
        ],
        [
         "W"
        ],
        [
         "W"
        ],
        [
         "W"
        ],
        [
         "W"
        ],
        [
         "W"
        ],
        [
         "W"
        ],
        [
         "W"
        ],
        [
         "W"
        ],
        [
         "W"
        ],
        [
         "W"
        ],
        [
         "W"
        ],
        [
         "W"
        ],
        [
         "W"
        ],
        [
         "W"
        ],
        [
         "W"
        ],
        [
         "W"
        ],
        [
         "W"
        ],
        [
         "W"
        ],
        [
         "W"
        ],
        [
         "W"
        ],
        [
         "W"
        ],
        [
         "W"
        ],
        [
         "W"
        ],
        [
         "W"
        ],
        [
         "W"
        ],
        [
         "W"
        ],
        [
         "W"
        ],
        [
         "W"
        ],
        [
         "W"
        ],
        [
         "W"
        ],
        [
         "W"
        ],
        [
         "W"
        ],
        [
         "W"
        ],
        [
         "W"
        ],
        [
         "W"
        ],
        [
         "W"
        ],
        [
         "W"
        ],
        [
         "W"
        ],
        [
         "W"
        ],
        [
         "W"
        ],
        [
         "W"
        ],
        [
         "W"
        ],
        [
         "W"
        ],
        [
         "W"
        ],
        [
         "W"
        ],
        [
         "W"
        ],
        [
         "W"
        ],
        [
         "W"
        ],
        [
         "W"
        ],
        [
         "W"
        ],
        [
         "W"
        ],
        [
         "W"
        ],
        [
         "W"
        ],
        [
         "W"
        ],
        [
         "W"
        ],
        [
         "W"
        ],
        [
         "W"
        ],
        [
         "W"
        ],
        [
         "W"
        ],
        [
         "W"
        ],
        [
         "W"
        ],
        [
         "W"
        ],
        [
         "W"
        ],
        [
         "W"
        ],
        [
         "W"
        ],
        [
         "W"
        ],
        [
         "W"
        ],
        [
         "W"
        ],
        [
         "W"
        ],
        [
         "W"
        ],
        [
         "W"
        ],
        [
         "W"
        ],
        [
         "W"
        ],
        [
         "W"
        ],
        [
         "W"
        ],
        [
         "W"
        ],
        [
         "W"
        ],
        [
         "W"
        ],
        [
         "W"
        ],
        [
         "W"
        ],
        [
         "W"
        ],
        [
         "W"
        ],
        [
         "W"
        ],
        [
         "W"
        ],
        [
         "W"
        ],
        [
         "W"
        ],
        [
         "W"
        ],
        [
         "W"
        ],
        [
         "W"
        ],
        [
         "W"
        ],
        [
         "W"
        ],
        [
         "W"
        ],
        [
         "W"
        ],
        [
         "W"
        ],
        [
         "W"
        ],
        [
         "W"
        ],
        [
         "W"
        ],
        [
         "W"
        ],
        [
         "W"
        ],
        [
         "W"
        ],
        [
         "W"
        ],
        [
         "W"
        ],
        [
         "W"
        ],
        [
         "W"
        ],
        [
         "W"
        ],
        [
         "W"
        ],
        [
         "W"
        ],
        [
         "W"
        ],
        [
         "W"
        ],
        [
         "W"
        ],
        [
         "W"
        ],
        [
         "W"
        ],
        [
         "W"
        ],
        [
         "W"
        ],
        [
         "W"
        ],
        [
         "W"
        ],
        [
         "W"
        ],
        [
         "W"
        ],
        [
         "W"
        ],
        [
         "W"
        ],
        [
         "W"
        ],
        [
         "W"
        ],
        [
         "W"
        ],
        [
         "W"
        ],
        [
         "W"
        ],
        [
         "W"
        ],
        [
         "W"
        ],
        [
         "W"
        ],
        [
         "W"
        ],
        [
         "W"
        ],
        [
         "W"
        ],
        [
         "W"
        ],
        [
         "W"
        ],
        [
         "W"
        ],
        [
         "W"
        ],
        [
         "W"
        ],
        [
         "W"
        ],
        [
         "W"
        ],
        [
         "W"
        ],
        [
         "W"
        ],
        [
         "W"
        ],
        [
         "W"
        ],
        [
         "W"
        ],
        [
         "W"
        ],
        [
         "W"
        ],
        [
         "W"
        ],
        [
         "W"
        ],
        [
         "W"
        ],
        [
         "W"
        ],
        [
         "W"
        ],
        [
         "W"
        ],
        [
         "W"
        ],
        [
         "W"
        ],
        [
         "W"
        ],
        [
         "W"
        ],
        [
         "W"
        ],
        [
         "W"
        ],
        [
         "W"
        ],
        [
         "W"
        ],
        [
         "W"
        ],
        [
         "W"
        ],
        [
         "W"
        ],
        [
         "W"
        ],
        [
         "W"
        ],
        [
         "W"
        ],
        [
         "W"
        ],
        [
         "W"
        ],
        [
         "W"
        ],
        [
         "W"
        ],
        [
         "W"
        ],
        [
         "W"
        ],
        [
         "W"
        ],
        [
         "W"
        ],
        [
         "W"
        ],
        [
         "W"
        ],
        [
         "W"
        ],
        [
         "W"
        ],
        [
         "W"
        ],
        [
         "W"
        ],
        [
         "W"
        ],
        [
         "W"
        ],
        [
         "W"
        ],
        [
         "W"
        ],
        [
         "W"
        ],
        [
         "W"
        ],
        [
         "W"
        ],
        [
         "W"
        ],
        [
         "W"
        ],
        [
         "W"
        ],
        [
         "W"
        ],
        [
         "W"
        ],
        [
         "W"
        ],
        [
         "W"
        ],
        [
         "W"
        ],
        [
         "W"
        ],
        [
         "W"
        ],
        [
         "W"
        ],
        [
         "W"
        ],
        [
         "W"
        ],
        [
         "W"
        ],
        [
         "W"
        ],
        [
         "W"
        ],
        [
         "W"
        ],
        [
         "W"
        ],
        [
         "W"
        ],
        [
         "W"
        ],
        [
         "W"
        ],
        [
         "W"
        ],
        [
         "W"
        ],
        [
         "W"
        ],
        [
         "W"
        ],
        [
         "W"
        ],
        [
         "W"
        ],
        [
         "W"
        ],
        [
         "W"
        ],
        [
         "W"
        ],
        [
         "W"
        ],
        [
         "W"
        ],
        [
         "W"
        ],
        [
         "W"
        ],
        [
         "W"
        ],
        [
         "W"
        ],
        [
         "W"
        ],
        [
         "W"
        ],
        [
         "W"
        ],
        [
         "W"
        ],
        [
         "W"
        ],
        [
         "W"
        ],
        [
         "W"
        ],
        [
         "W"
        ],
        [
         "W"
        ],
        [
         "W"
        ],
        [
         "W"
        ],
        [
         "W"
        ],
        [
         "W"
        ],
        [
         "W"
        ],
        [
         "W"
        ],
        [
         "W"
        ],
        [
         "W"
        ],
        [
         "W"
        ],
        [
         "W"
        ],
        [
         "W"
        ],
        [
         "W"
        ],
        [
         "W"
        ],
        [
         "W"
        ],
        [
         "W"
        ],
        [
         "W"
        ],
        [
         "W"
        ],
        [
         "W"
        ],
        [
         "W"
        ],
        [
         "W"
        ],
        [
         "W"
        ],
        [
         "W"
        ],
        [
         "W"
        ],
        [
         "W"
        ],
        [
         "W"
        ],
        [
         "W"
        ],
        [
         "W"
        ],
        [
         "W"
        ],
        [
         "W"
        ],
        [
         "W"
        ],
        [
         "W"
        ],
        [
         "W"
        ],
        [
         "W"
        ],
        [
         "W"
        ],
        [
         "W"
        ],
        [
         "W"
        ],
        [
         "W"
        ],
        [
         "W"
        ],
        [
         "W"
        ],
        [
         "W"
        ],
        [
         "W"
        ],
        [
         "W"
        ],
        [
         "W"
        ],
        [
         "W"
        ],
        [
         "W"
        ],
        [
         "W"
        ],
        [
         "W"
        ],
        [
         "W"
        ],
        [
         "W"
        ],
        [
         "W"
        ],
        [
         "W"
        ],
        [
         "W"
        ],
        [
         "W"
        ],
        [
         "W"
        ],
        [
         "W"
        ],
        [
         "W"
        ],
        [
         "W"
        ],
        [
         "W"
        ],
        [
         "W"
        ],
        [
         "W"
        ],
        [
         "W"
        ],
        [
         "W"
        ],
        [
         "W"
        ],
        [
         "W"
        ],
        [
         "W"
        ],
        [
         "W"
        ],
        [
         "W"
        ],
        [
         "W"
        ],
        [
         "W"
        ],
        [
         "W"
        ],
        [
         "W"
        ],
        [
         "W"
        ],
        [
         "W"
        ],
        [
         "W"
        ],
        [
         "W"
        ],
        [
         "W"
        ],
        [
         "W"
        ],
        [
         "W"
        ],
        [
         "W"
        ],
        [
         "W"
        ],
        [
         "W"
        ],
        [
         "W"
        ],
        [
         "W"
        ],
        [
         "W"
        ],
        [
         "W"
        ],
        [
         "W"
        ],
        [
         "W"
        ],
        [
         "W"
        ],
        [
         "W"
        ],
        [
         "W"
        ],
        [
         "W"
        ],
        [
         "W"
        ],
        [
         "W"
        ],
        [
         "W"
        ],
        [
         "W"
        ],
        [
         "W"
        ],
        [
         "W"
        ],
        [
         "W"
        ],
        [
         "W"
        ],
        [
         "W"
        ],
        [
         "W"
        ],
        [
         "W"
        ],
        [
         "W"
        ],
        [
         "W"
        ],
        [
         "W"
        ],
        [
         "W"
        ],
        [
         "W"
        ],
        [
         "W"
        ],
        [
         "W"
        ],
        [
         "W"
        ],
        [
         "W"
        ],
        [
         "W"
        ],
        [
         "W"
        ],
        [
         "W"
        ],
        [
         "W"
        ],
        [
         "W"
        ],
        [
         "W"
        ],
        [
         "W"
        ],
        [
         "W"
        ],
        [
         "W"
        ],
        [
         "W"
        ],
        [
         "W"
        ],
        [
         "W"
        ],
        [
         "W"
        ],
        [
         "W"
        ],
        [
         "W"
        ],
        [
         "W"
        ],
        [
         "W"
        ],
        [
         "W"
        ],
        [
         "W"
        ],
        [
         "W"
        ],
        [
         "W"
        ],
        [
         "W"
        ],
        [
         "W"
        ],
        [
         "W"
        ],
        [
         "W"
        ],
        [
         "W"
        ],
        [
         "W"
        ],
        [
         "W"
        ],
        [
         "W"
        ],
        [
         "W"
        ],
        [
         "W"
        ],
        [
         "W"
        ],
        [
         "W"
        ],
        [
         "W"
        ],
        [
         "W"
        ],
        [
         "W"
        ],
        [
         "W"
        ],
        [
         "W"
        ],
        [
         "W"
        ],
        [
         "W"
        ],
        [
         "W"
        ],
        [
         "W"
        ],
        [
         "W"
        ],
        [
         "W"
        ],
        [
         "W"
        ],
        [
         "W"
        ],
        [
         "W"
        ],
        [
         "W"
        ],
        [
         "W"
        ],
        [
         "W"
        ],
        [
         "W"
        ],
        [
         "W"
        ],
        [
         "W"
        ],
        [
         "W"
        ],
        [
         "W"
        ],
        [
         "W"
        ],
        [
         "W"
        ],
        [
         "W"
        ],
        [
         "W"
        ],
        [
         "W"
        ],
        [
         "W"
        ],
        [
         "W"
        ],
        [
         "W"
        ],
        [
         "W"
        ],
        [
         "W"
        ],
        [
         "W"
        ],
        [
         "W"
        ],
        [
         "W"
        ],
        [
         "W"
        ],
        [
         "W"
        ],
        [
         "W"
        ],
        [
         "W"
        ],
        [
         "W"
        ],
        [
         "W"
        ],
        [
         "W"
        ],
        [
         "W"
        ],
        [
         "W"
        ],
        [
         "W"
        ],
        [
         "W"
        ],
        [
         "W"
        ],
        [
         "W"
        ],
        [
         "W"
        ],
        [
         "W"
        ],
        [
         "W"
        ],
        [
         "W"
        ],
        [
         "W"
        ],
        [
         "W"
        ],
        [
         "W"
        ],
        [
         "W"
        ],
        [
         "W"
        ],
        [
         "W"
        ],
        [
         "W"
        ],
        [
         "W"
        ],
        [
         "W"
        ],
        [
         "W"
        ],
        [
         "W"
        ],
        [
         "W"
        ],
        [
         "W"
        ],
        [
         "W"
        ],
        [
         "W"
        ],
        [
         "W"
        ],
        [
         "W"
        ],
        [
         "W"
        ],
        [
         "W"
        ],
        [
         "W"
        ],
        [
         "W"
        ],
        [
         "W"
        ],
        [
         "W"
        ],
        [
         "W"
        ],
        [
         "W"
        ],
        [
         "W"
        ],
        [
         "W"
        ],
        [
         "W"
        ],
        [
         "W"
        ],
        [
         "W"
        ],
        [
         "W"
        ],
        [
         "W"
        ],
        [
         "W"
        ],
        [
         "W"
        ],
        [
         "W"
        ],
        [
         "W"
        ],
        [
         "W"
        ],
        [
         "W"
        ],
        [
         "W"
        ],
        [
         "W"
        ],
        [
         "W"
        ],
        [
         "W"
        ],
        [
         "W"
        ],
        [
         "W"
        ],
        [
         "W"
        ],
        [
         "W"
        ],
        [
         "W"
        ],
        [
         "W"
        ],
        [
         "W"
        ],
        [
         "W"
        ],
        [
         "W"
        ],
        [
         "W"
        ],
        [
         "W"
        ],
        [
         "W"
        ],
        [
         "W"
        ],
        [
         "W"
        ],
        [
         "W"
        ],
        [
         "W"
        ],
        [
         "W"
        ],
        [
         "W"
        ],
        [
         "W"
        ],
        [
         "W"
        ],
        [
         "W"
        ],
        [
         "W"
        ],
        [
         "W"
        ],
        [
         "W"
        ],
        [
         "W"
        ],
        [
         "W"
        ],
        [
         "W"
        ],
        [
         "W"
        ],
        [
         "W"
        ],
        [
         "W"
        ],
        [
         "W"
        ],
        [
         "W"
        ],
        [
         "W"
        ],
        [
         "W"
        ],
        [
         "W"
        ],
        [
         "W"
        ],
        [
         "W"
        ],
        [
         "W"
        ],
        [
         "W"
        ],
        [
         "W"
        ],
        [
         "W"
        ],
        [
         "W"
        ],
        [
         "W"
        ],
        [
         "W"
        ],
        [
         "W"
        ],
        [
         "W"
        ],
        [
         "W"
        ],
        [
         "W"
        ],
        [
         "W"
        ],
        [
         "W"
        ],
        [
         "W"
        ],
        [
         "W"
        ],
        [
         "W"
        ],
        [
         "W"
        ],
        [
         "W"
        ],
        [
         "W"
        ],
        [
         "W"
        ],
        [
         "W"
        ],
        [
         "W"
        ],
        [
         "W"
        ],
        [
         "W"
        ],
        [
         "W"
        ],
        [
         "W"
        ],
        [
         "W"
        ],
        [
         "W"
        ],
        [
         "W"
        ],
        [
         "W"
        ],
        [
         "W"
        ],
        [
         "W"
        ],
        [
         "W"
        ],
        [
         "W"
        ],
        [
         "W"
        ],
        [
         "W"
        ],
        [
         "W"
        ],
        [
         "W"
        ],
        [
         "W"
        ],
        [
         "W"
        ],
        [
         "W"
        ],
        [
         "W"
        ],
        [
         "W"
        ],
        [
         "W"
        ],
        [
         "W"
        ],
        [
         "W"
        ],
        [
         "W"
        ],
        [
         "W"
        ],
        [
         "W"
        ],
        [
         "W"
        ],
        [
         "W"
        ],
        [
         "W"
        ],
        [
         "W"
        ],
        [
         "W"
        ],
        [
         "W"
        ],
        [
         "W"
        ],
        [
         "W"
        ],
        [
         "W"
        ],
        [
         "W"
        ],
        [
         "W"
        ],
        [
         "W"
        ],
        [
         "W"
        ],
        [
         "W"
        ],
        [
         "W"
        ],
        [
         "W"
        ],
        [
         "W"
        ],
        [
         "W"
        ],
        [
         "W"
        ],
        [
         "W"
        ],
        [
         "W"
        ],
        [
         "W"
        ],
        [
         "W"
        ],
        [
         "W"
        ],
        [
         "W"
        ],
        [
         "W"
        ],
        [
         "W"
        ],
        [
         "W"
        ],
        [
         "W"
        ],
        [
         "W"
        ],
        [
         "W"
        ],
        [
         "W"
        ],
        [
         "W"
        ],
        [
         "W"
        ],
        [
         "W"
        ],
        [
         "W"
        ],
        [
         "W"
        ],
        [
         "W"
        ],
        [
         "W"
        ],
        [
         "W"
        ],
        [
         "W"
        ],
        [
         "W"
        ],
        [
         "W"
        ],
        [
         "W"
        ],
        [
         "W"
        ],
        [
         "W"
        ],
        [
         "W"
        ],
        [
         "W"
        ],
        [
         "W"
        ],
        [
         "W"
        ],
        [
         "W"
        ],
        [
         "W"
        ],
        [
         "W"
        ],
        [
         "W"
        ],
        [
         "W"
        ],
        [
         "W"
        ],
        [
         "W"
        ],
        [
         "W"
        ],
        [
         "W"
        ],
        [
         "W"
        ],
        [
         "W"
        ],
        [
         "W"
        ],
        [
         "W"
        ],
        [
         "W"
        ],
        [
         "W"
        ],
        [
         "W"
        ],
        [
         "W"
        ],
        [
         "W"
        ],
        [
         "W"
        ],
        [
         "W"
        ],
        [
         "W"
        ],
        [
         "W"
        ],
        [
         "W"
        ],
        [
         "W"
        ],
        [
         "W"
        ],
        [
         "W"
        ],
        [
         "W"
        ],
        [
         "W"
        ],
        [
         "W"
        ],
        [
         "W"
        ],
        [
         "W"
        ],
        [
         "W"
        ],
        [
         "W"
        ],
        [
         "W"
        ],
        [
         "W"
        ],
        [
         "W"
        ],
        [
         "W"
        ],
        [
         "W"
        ],
        [
         "W"
        ],
        [
         "W"
        ],
        [
         "W"
        ],
        [
         "W"
        ],
        [
         "W"
        ],
        [
         "W"
        ],
        [
         "W"
        ],
        [
         "W"
        ],
        [
         "W"
        ],
        [
         "W"
        ],
        [
         "W"
        ],
        [
         "W"
        ],
        [
         "W"
        ],
        [
         "W"
        ],
        [
         "W"
        ],
        [
         "W"
        ],
        [
         "W"
        ],
        [
         "W"
        ],
        [
         "W"
        ],
        [
         "W"
        ],
        [
         "W"
        ],
        [
         "W"
        ],
        [
         "W"
        ],
        [
         "W"
        ],
        [
         "W"
        ],
        [
         "W"
        ],
        [
         "W"
        ],
        [
         "W"
        ],
        [
         "W"
        ],
        [
         "W"
        ],
        [
         "W"
        ],
        [
         "W"
        ],
        [
         "W"
        ],
        [
         "W"
        ],
        [
         "W"
        ],
        [
         "W"
        ],
        [
         "W"
        ],
        [
         "W"
        ],
        [
         "W"
        ],
        [
         "W"
        ],
        [
         "W"
        ],
        [
         "W"
        ],
        [
         "W"
        ],
        [
         "W"
        ],
        [
         "W"
        ],
        [
         "W"
        ],
        [
         "W"
        ],
        [
         "W"
        ],
        [
         "W"
        ],
        [
         "W"
        ],
        [
         "W"
        ],
        [
         "W"
        ],
        [
         "W"
        ],
        [
         "W"
        ],
        [
         "W"
        ],
        [
         "W"
        ],
        [
         "W"
        ],
        [
         "W"
        ],
        [
         "W"
        ],
        [
         "W"
        ],
        [
         "W"
        ],
        [
         "W"
        ],
        [
         "W"
        ],
        [
         "W"
        ],
        [
         "W"
        ],
        [
         "W"
        ],
        [
         "W"
        ],
        [
         "W"
        ],
        [
         "W"
        ],
        [
         "W"
        ],
        [
         "W"
        ],
        [
         "W"
        ],
        [
         "W"
        ],
        [
         "W"
        ],
        [
         "W"
        ],
        [
         "W"
        ],
        [
         "W"
        ],
        [
         "W"
        ],
        [
         "W"
        ],
        [
         "W"
        ],
        [
         "W"
        ],
        [
         "W"
        ],
        [
         "W"
        ],
        [
         "W"
        ],
        [
         "W"
        ],
        [
         "W"
        ],
        [
         "W"
        ],
        [
         "W"
        ],
        [
         "W"
        ],
        [
         "W"
        ],
        [
         "W"
        ],
        [
         "W"
        ],
        [
         "W"
        ],
        [
         "W"
        ],
        [
         "W"
        ],
        [
         "W"
        ],
        [
         "W"
        ],
        [
         "W"
        ],
        [
         "W"
        ],
        [
         "W"
        ],
        [
         "W"
        ],
        [
         "W"
        ],
        [
         "W"
        ],
        [
         "W"
        ],
        [
         "W"
        ],
        [
         "W"
        ],
        [
         "W"
        ],
        [
         "W"
        ],
        [
         "W"
        ],
        [
         "W"
        ],
        [
         "W"
        ],
        [
         "W"
        ],
        [
         "W"
        ],
        [
         "W"
        ],
        [
         "W"
        ],
        [
         "W"
        ],
        [
         "W"
        ],
        [
         "W"
        ],
        [
         "W"
        ],
        [
         "W"
        ],
        [
         "W"
        ],
        [
         "W"
        ],
        [
         "W"
        ],
        [
         "W"
        ],
        [
         "W"
        ],
        [
         "W"
        ],
        [
         "W"
        ],
        [
         "W"
        ],
        [
         "W"
        ],
        [
         "W"
        ],
        [
         "W"
        ],
        [
         "W"
        ],
        [
         "W"
        ],
        [
         "W"
        ],
        [
         "W"
        ],
        [
         "W"
        ],
        [
         "W"
        ],
        [
         "W"
        ],
        [
         "W"
        ],
        [
         "W"
        ],
        [
         "W"
        ],
        [
         "W"
        ],
        [
         "W"
        ],
        [
         "W"
        ],
        [
         "W"
        ],
        [
         "W"
        ],
        [
         "W"
        ],
        [
         "W"
        ],
        [
         "W"
        ],
        [
         "W"
        ],
        [
         "W"
        ],
        [
         "W"
        ],
        [
         "W"
        ],
        [
         "W"
        ],
        [
         "W"
        ],
        [
         "W"
        ],
        [
         "W"
        ],
        [
         "W"
        ],
        [
         "W"
        ],
        [
         "W"
        ],
        [
         "W"
        ],
        [
         "W"
        ],
        [
         "W"
        ],
        [
         "W"
        ],
        [
         "W"
        ],
        [
         "W"
        ],
        [
         "W"
        ],
        [
         "W"
        ],
        [
         "W"
        ],
        [
         "W"
        ],
        [
         "W"
        ],
        [
         "W"
        ],
        [
         "W"
        ],
        [
         "W"
        ],
        [
         "W"
        ],
        [
         "W"
        ],
        [
         "W"
        ],
        [
         "W"
        ],
        [
         "W"
        ],
        [
         "W"
        ],
        [
         "W"
        ],
        [
         "W"
        ],
        [
         "W"
        ],
        [
         "W"
        ],
        [
         "W"
        ],
        [
         "W"
        ],
        [
         "W"
        ],
        [
         "W"
        ],
        [
         "W"
        ],
        [
         "W"
        ],
        [
         "W"
        ],
        [
         "W"
        ],
        [
         "W"
        ],
        [
         "W"
        ],
        [
         "W"
        ],
        [
         "W"
        ],
        [
         "W"
        ],
        [
         "W"
        ],
        [
         "W"
        ],
        [
         "W"
        ],
        [
         "W"
        ],
        [
         "W"
        ],
        [
         "W"
        ],
        [
         "W"
        ],
        [
         "W"
        ],
        [
         "W"
        ],
        [
         "W"
        ],
        [
         "W"
        ],
        [
         "W"
        ],
        [
         "W"
        ],
        [
         "W"
        ],
        [
         "W"
        ],
        [
         "W"
        ],
        [
         "W"
        ],
        [
         "W"
        ],
        [
         "W"
        ],
        [
         "W"
        ],
        [
         "W"
        ],
        [
         "W"
        ],
        [
         "W"
        ],
        [
         "W"
        ],
        [
         "W"
        ],
        [
         "W"
        ],
        [
         "W"
        ],
        [
         "W"
        ],
        [
         "W"
        ],
        [
         "W"
        ],
        [
         "W"
        ],
        [
         "W"
        ],
        [
         "W"
        ],
        [
         "W"
        ],
        [
         "W"
        ],
        [
         "W"
        ],
        [
         "W"
        ],
        [
         "W"
        ],
        [
         "W"
        ],
        [
         "W"
        ],
        [
         "W"
        ],
        [
         "W"
        ],
        [
         "W"
        ],
        [
         "W"
        ],
        [
         "W"
        ],
        [
         "W"
        ],
        [
         "W"
        ],
        [
         "W"
        ],
        [
         "W"
        ],
        [
         "W"
        ],
        [
         "W"
        ],
        [
         "W"
        ],
        [
         "W"
        ],
        [
         "W"
        ],
        [
         "W"
        ],
        [
         "W"
        ],
        [
         "W"
        ],
        [
         "W"
        ],
        [
         "W"
        ],
        [
         "W"
        ],
        [
         "W"
        ],
        [
         "W"
        ],
        [
         "W"
        ],
        [
         "W"
        ],
        [
         "W"
        ],
        [
         "W"
        ],
        [
         "W"
        ],
        [
         "W"
        ],
        [
         "W"
        ],
        [
         "W"
        ],
        [
         "W"
        ],
        [
         "W"
        ],
        [
         "W"
        ],
        [
         "W"
        ],
        [
         "W"
        ],
        [
         "W"
        ],
        [
         "W"
        ],
        [
         "W"
        ],
        [
         "W"
        ],
        [
         "W"
        ],
        [
         "W"
        ],
        [
         "W"
        ],
        [
         "W"
        ],
        [
         "W"
        ],
        [
         "W"
        ],
        [
         "W"
        ],
        [
         "W"
        ],
        [
         "W"
        ],
        [
         "W"
        ],
        [
         "W"
        ],
        [
         "W"
        ],
        [
         "W"
        ],
        [
         "W"
        ],
        [
         "W"
        ],
        [
         "W"
        ],
        [
         "W"
        ],
        [
         "W"
        ],
        [
         "W"
        ],
        [
         "W"
        ],
        [
         "W"
        ],
        [
         "W"
        ],
        [
         "W"
        ],
        [
         "W"
        ],
        [
         "W"
        ],
        [
         "W"
        ],
        [
         "W"
        ],
        [
         "W"
        ],
        [
         "W"
        ],
        [
         "W"
        ],
        [
         "W"
        ],
        [
         "W"
        ],
        [
         "W"
        ],
        [
         "W"
        ],
        [
         "W"
        ],
        [
         "W"
        ],
        [
         "W"
        ],
        [
         "W"
        ],
        [
         "W"
        ],
        [
         "W"
        ],
        [
         "W"
        ],
        [
         "W"
        ],
        [
         "W"
        ],
        [
         "W"
        ],
        [
         "W"
        ],
        [
         "W"
        ],
        [
         "W"
        ],
        [
         "W"
        ],
        [
         "W"
        ],
        [
         "W"
        ],
        [
         "W"
        ],
        [
         "W"
        ],
        [
         "W"
        ],
        [
         "W"
        ],
        [
         "W"
        ],
        [
         "W"
        ],
        [
         "W"
        ],
        [
         "W"
        ],
        [
         "W"
        ],
        [
         "W"
        ],
        [
         "W"
        ],
        [
         "W"
        ],
        [
         "W"
        ],
        [
         "W"
        ],
        [
         "W"
        ],
        [
         "W"
        ],
        [
         "W"
        ],
        [
         "W"
        ],
        [
         "W"
        ],
        [
         "W"
        ],
        [
         "W"
        ],
        [
         "W"
        ],
        [
         "W"
        ],
        [
         "W"
        ],
        [
         "W"
        ],
        [
         "W"
        ],
        [
         "W"
        ],
        [
         "W"
        ],
        [
         "W"
        ],
        [
         "W"
        ],
        [
         "W"
        ],
        [
         "W"
        ],
        [
         "W"
        ],
        [
         "W"
        ],
        [
         "W"
        ],
        [
         "W"
        ],
        [
         "W"
        ],
        [
         "W"
        ],
        [
         "W"
        ],
        [
         "W"
        ],
        [
         "W"
        ],
        [
         "W"
        ],
        [
         "W"
        ],
        [
         "W"
        ],
        [
         "W"
        ],
        [
         "W"
        ],
        [
         "W"
        ],
        [
         "W"
        ],
        [
         "W"
        ],
        [
         "W"
        ],
        [
         "W"
        ],
        [
         "W"
        ],
        [
         "W"
        ],
        [
         "W"
        ],
        [
         "W"
        ],
        [
         "W"
        ],
        [
         "W"
        ],
        [
         "W"
        ],
        [
         "W"
        ],
        [
         "W"
        ],
        [
         "W"
        ],
        [
         "W"
        ],
        [
         "W"
        ],
        [
         "W"
        ],
        [
         "W"
        ],
        [
         "W"
        ],
        [
         "W"
        ],
        [
         "W"
        ],
        [
         "W"
        ],
        [
         "W"
        ],
        [
         "W"
        ],
        [
         "W"
        ],
        [
         "W"
        ],
        [
         "W"
        ],
        [
         "W"
        ],
        [
         "W"
        ],
        [
         "W"
        ],
        [
         "W"
        ],
        [
         "W"
        ],
        [
         "W"
        ],
        [
         "W"
        ],
        [
         "W"
        ],
        [
         "W"
        ],
        [
         "W"
        ],
        [
         "W"
        ],
        [
         "W"
        ],
        [
         "W"
        ],
        [
         "W"
        ],
        [
         "W"
        ],
        [
         "W"
        ],
        [
         "W"
        ],
        [
         "W"
        ],
        [
         "W"
        ],
        [
         "W"
        ],
        [
         "W"
        ],
        [
         "W"
        ],
        [
         "W"
        ],
        [
         "W"
        ],
        [
         "W"
        ],
        [
         "W"
        ],
        [
         "W"
        ],
        [
         "W"
        ],
        [
         "W"
        ],
        [
         "W"
        ],
        [
         "W"
        ],
        [
         "W"
        ],
        [
         "W"
        ],
        [
         "W"
        ],
        [
         "W"
        ],
        [
         "W"
        ],
        [
         "W"
        ],
        [
         "W"
        ],
        [
         "W"
        ],
        [
         "W"
        ],
        [
         "W"
        ],
        [
         "W"
        ],
        [
         "W"
        ],
        [
         "W"
        ],
        [
         "W"
        ],
        [
         "W"
        ],
        [
         "W"
        ],
        [
         "W"
        ],
        [
         "W"
        ],
        [
         "W"
        ],
        [
         "W"
        ],
        [
         "W"
        ],
        [
         "W"
        ],
        [
         "W"
        ],
        [
         "W"
        ],
        [
         "W"
        ],
        [
         "W"
        ],
        [
         "W"
        ],
        [
         "W"
        ],
        [
         "W"
        ],
        [
         "W"
        ],
        [
         "W"
        ],
        [
         "W"
        ],
        [
         "W"
        ],
        [
         "W"
        ],
        [
         "W"
        ],
        [
         "W"
        ],
        [
         "W"
        ],
        [
         "W"
        ],
        [
         "W"
        ],
        [
         "W"
        ],
        [
         "W"
        ],
        [
         "W"
        ],
        [
         "W"
        ],
        [
         "W"
        ],
        [
         "W"
        ],
        [
         "W"
        ],
        [
         "W"
        ],
        [
         "W"
        ],
        [
         "W"
        ],
        [
         "W"
        ],
        [
         "W"
        ],
        [
         "W"
        ],
        [
         "W"
        ],
        [
         "W"
        ],
        [
         "W"
        ],
        [
         "W"
        ],
        [
         "W"
        ],
        [
         "W"
        ],
        [
         "W"
        ],
        [
         "W"
        ],
        [
         "W"
        ],
        [
         "W"
        ],
        [
         "W"
        ],
        [
         "W"
        ],
        [
         "W"
        ],
        [
         "W"
        ],
        [
         "W"
        ],
        [
         "W"
        ],
        [
         "W"
        ],
        [
         "W"
        ],
        [
         "W"
        ],
        [
         "W"
        ],
        [
         "W"
        ],
        [
         "W"
        ],
        [
         "W"
        ],
        [
         "W"
        ],
        [
         "W"
        ],
        [
         "W"
        ],
        [
         "W"
        ],
        [
         "W"
        ],
        [
         "W"
        ],
        [
         "W"
        ],
        [
         "W"
        ],
        [
         "W"
        ],
        [
         "W"
        ],
        [
         "W"
        ],
        [
         "W"
        ],
        [
         "W"
        ],
        [
         "W"
        ],
        [
         "W"
        ],
        [
         "W"
        ],
        [
         "W"
        ],
        [
         "W"
        ],
        [
         "W"
        ],
        [
         "W"
        ],
        [
         "W"
        ],
        [
         "W"
        ],
        [
         "W"
        ],
        [
         "W"
        ],
        [
         "W"
        ],
        [
         "W"
        ],
        [
         "W"
        ],
        [
         "W"
        ],
        [
         "W"
        ],
        [
         "W"
        ],
        [
         "W"
        ],
        [
         "W"
        ],
        [
         "W"
        ],
        [
         "W"
        ],
        [
         "W"
        ],
        [
         "W"
        ],
        [
         "W"
        ],
        [
         "W"
        ],
        [
         "W"
        ],
        [
         "W"
        ],
        [
         "W"
        ],
        [
         "W"
        ],
        [
         "W"
        ],
        [
         "W"
        ],
        [
         "W"
        ],
        [
         "W"
        ],
        [
         "W"
        ],
        [
         "W"
        ],
        [
         "W"
        ],
        [
         "W"
        ],
        [
         "W"
        ],
        [
         "W"
        ],
        [
         "W"
        ],
        [
         "W"
        ],
        [
         "W"
        ],
        [
         "W"
        ],
        [
         "W"
        ],
        [
         "W"
        ],
        [
         "W"
        ],
        [
         "W"
        ],
        [
         "W"
        ],
        [
         "W"
        ],
        [
         "W"
        ],
        [
         "W"
        ],
        [
         "W"
        ],
        [
         "W"
        ],
        [
         "W"
        ],
        [
         "W"
        ],
        [
         "W"
        ],
        [
         "W"
        ],
        [
         "W"
        ],
        [
         "W"
        ],
        [
         "W"
        ],
        [
         "W"
        ],
        [
         "W"
        ],
        [
         "W"
        ],
        [
         "W"
        ],
        [
         "W"
        ],
        [
         "W"
        ],
        [
         "W"
        ],
        [
         "W"
        ],
        [
         "W"
        ],
        [
         "W"
        ],
        [
         "W"
        ],
        [
         "W"
        ],
        [
         "W"
        ],
        [
         "W"
        ],
        [
         "W"
        ],
        [
         "W"
        ],
        [
         "W"
        ],
        [
         "W"
        ],
        [
         "W"
        ],
        [
         "W"
        ],
        [
         "W"
        ],
        [
         "W"
        ],
        [
         "W"
        ],
        [
         "W"
        ],
        [
         "W"
        ],
        [
         "W"
        ],
        [
         "W"
        ],
        [
         "W"
        ],
        [
         "W"
        ],
        [
         "W"
        ],
        [
         "W"
        ],
        [
         "W"
        ],
        [
         "W"
        ],
        [
         "W"
        ],
        [
         "W"
        ],
        [
         "W"
        ],
        [
         "W"
        ],
        [
         "W"
        ],
        [
         "W"
        ],
        [
         "W"
        ],
        [
         "W"
        ],
        [
         "W"
        ],
        [
         "W"
        ],
        [
         "W"
        ],
        [
         "W"
        ],
        [
         "W"
        ],
        [
         "W"
        ],
        [
         "W"
        ],
        [
         "W"
        ],
        [
         "W"
        ],
        [
         "W"
        ],
        [
         "W"
        ],
        [
         "W"
        ],
        [
         "W"
        ],
        [
         "W"
        ],
        [
         "W"
        ],
        [
         "W"
        ],
        [
         "W"
        ],
        [
         "W"
        ],
        [
         "W"
        ],
        [
         "W"
        ],
        [
         "W"
        ],
        [
         "W"
        ],
        [
         "W"
        ],
        [
         "W"
        ],
        [
         "W"
        ],
        [
         "W"
        ],
        [
         "W"
        ],
        [
         "W"
        ],
        [
         "W"
        ],
        [
         "W"
        ],
        [
         "W"
        ],
        [
         "W"
        ],
        [
         "W"
        ],
        [
         "W"
        ],
        [
         "W"
        ],
        [
         "W"
        ],
        [
         "W"
        ],
        [
         "W"
        ],
        [
         "W"
        ],
        [
         "W"
        ],
        [
         "W"
        ],
        [
         "W"
        ],
        [
         "W"
        ],
        [
         "W"
        ],
        [
         "W"
        ],
        [
         "W"
        ],
        [
         "W"
        ],
        [
         "W"
        ],
        [
         "W"
        ],
        [
         "W"
        ],
        [
         "W"
        ],
        [
         "W"
        ],
        [
         "W"
        ],
        [
         "W"
        ],
        [
         "W"
        ],
        [
         "W"
        ],
        [
         "W"
        ],
        [
         "W"
        ],
        [
         "W"
        ],
        [
         "W"
        ],
        [
         "W"
        ],
        [
         "W"
        ],
        [
         "W"
        ],
        [
         "W"
        ],
        [
         "W"
        ],
        [
         "W"
        ],
        [
         "W"
        ],
        [
         "W"
        ],
        [
         "W"
        ],
        [
         "W"
        ],
        [
         "W"
        ],
        [
         "W"
        ],
        [
         "W"
        ],
        [
         "W"
        ],
        [
         "W"
        ],
        [
         "W"
        ],
        [
         "W"
        ],
        [
         "W"
        ],
        [
         "W"
        ],
        [
         "W"
        ],
        [
         "W"
        ],
        [
         "W"
        ],
        [
         "W"
        ],
        [
         "W"
        ],
        [
         "W"
        ],
        [
         "W"
        ],
        [
         "W"
        ],
        [
         "W"
        ],
        [
         "W"
        ],
        [
         "W"
        ],
        [
         "W"
        ],
        [
         "W"
        ],
        [
         "W"
        ],
        [
         "W"
        ],
        [
         "W"
        ],
        [
         "W"
        ],
        [
         "W"
        ],
        [
         "W"
        ],
        [
         "W"
        ],
        [
         "W"
        ],
        [
         "W"
        ],
        [
         "W"
        ],
        [
         "W"
        ],
        [
         "W"
        ],
        [
         "W"
        ],
        [
         "W"
        ],
        [
         "W"
        ],
        [
         "W"
        ],
        [
         "W"
        ],
        [
         "W"
        ],
        [
         "W"
        ],
        [
         "W"
        ],
        [
         "W"
        ],
        [
         "W"
        ],
        [
         "W"
        ],
        [
         "W"
        ],
        [
         "W"
        ],
        [
         "W"
        ],
        [
         "W"
        ],
        [
         "W"
        ],
        [
         "W"
        ],
        [
         "W"
        ],
        [
         "W"
        ],
        [
         "W"
        ],
        [
         "W"
        ],
        [
         "W"
        ],
        [
         "W"
        ],
        [
         "W"
        ],
        [
         "W"
        ],
        [
         "W"
        ],
        [
         "W"
        ],
        [
         "W"
        ],
        [
         "W"
        ],
        [
         "W"
        ],
        [
         "W"
        ],
        [
         "W"
        ],
        [
         "W"
        ],
        [
         "W"
        ],
        [
         "W"
        ],
        [
         "W"
        ],
        [
         "W"
        ],
        [
         "W"
        ],
        [
         "W"
        ],
        [
         "W"
        ],
        [
         "W"
        ],
        [
         "W"
        ],
        [
         "W"
        ],
        [
         "W"
        ],
        [
         "W"
        ],
        [
         "W"
        ],
        [
         "W"
        ],
        [
         "W"
        ],
        [
         "W"
        ],
        [
         "W"
        ],
        [
         "W"
        ],
        [
         "W"
        ],
        [
         "W"
        ],
        [
         "W"
        ],
        [
         "W"
        ],
        [
         "W"
        ],
        [
         "W"
        ],
        [
         "W"
        ],
        [
         "W"
        ],
        [
         "W"
        ],
        [
         "W"
        ],
        [
         "W"
        ],
        [
         "W"
        ],
        [
         "W"
        ],
        [
         "W"
        ],
        [
         "W"
        ],
        [
         "W"
        ],
        [
         "W"
        ],
        [
         "W"
        ],
        [
         "W"
        ],
        [
         "W"
        ],
        [
         "W"
        ],
        [
         "W"
        ],
        [
         "W"
        ],
        [
         "W"
        ],
        [
         "W"
        ],
        [
         "W"
        ],
        [
         "W"
        ],
        [
         "W"
        ],
        [
         "W"
        ],
        [
         "W"
        ],
        [
         "W"
        ],
        [
         "W"
        ],
        [
         "W"
        ],
        [
         "W"
        ],
        [
         "W"
        ],
        [
         "W"
        ],
        [
         "W"
        ],
        [
         "W"
        ],
        [
         "W"
        ],
        [
         "W"
        ],
        [
         "W"
        ],
        [
         "W"
        ],
        [
         "W"
        ],
        [
         "W"
        ],
        [
         "W"
        ],
        [
         "W"
        ],
        [
         "W"
        ],
        [
         "W"
        ],
        [
         "W"
        ],
        [
         "W"
        ],
        [
         "W"
        ],
        [
         "W"
        ],
        [
         "W"
        ],
        [
         "W"
        ],
        [
         "W"
        ],
        [
         "W"
        ],
        [
         "W"
        ],
        [
         "W"
        ],
        [
         "W"
        ],
        [
         "W"
        ],
        [
         "W"
        ],
        [
         "W"
        ],
        [
         "W"
        ],
        [
         "W"
        ],
        [
         "W"
        ],
        [
         "W"
        ],
        [
         "W"
        ],
        [
         "W"
        ],
        [
         "W"
        ],
        [
         "W"
        ],
        [
         "W"
        ],
        [
         "W"
        ],
        [
         "W"
        ],
        [
         "W"
        ],
        [
         "W"
        ],
        [
         "W"
        ],
        [
         "W"
        ],
        [
         "W"
        ],
        [
         "W"
        ],
        [
         "W"
        ],
        [
         "W"
        ],
        [
         "W"
        ],
        [
         "W"
        ],
        [
         "W"
        ],
        [
         "W"
        ],
        [
         "W"
        ],
        [
         "W"
        ],
        [
         "W"
        ],
        [
         "W"
        ],
        [
         "W"
        ],
        [
         "W"
        ],
        [
         "W"
        ],
        [
         "W"
        ],
        [
         "W"
        ],
        [
         "W"
        ],
        [
         "W"
        ],
        [
         "W"
        ],
        [
         "W"
        ],
        [
         "W"
        ],
        [
         "W"
        ],
        [
         "W"
        ],
        [
         "W"
        ],
        [
         "W"
        ],
        [
         "W"
        ],
        [
         "W"
        ],
        [
         "W"
        ],
        [
         "W"
        ],
        [
         "W"
        ],
        [
         "W"
        ],
        [
         "W"
        ],
        [
         "W"
        ],
        [
         "W"
        ],
        [
         "W"
        ],
        [
         "W"
        ],
        [
         "W"
        ],
        [
         "W"
        ],
        [
         "W"
        ],
        [
         "W"
        ],
        [
         "W"
        ],
        [
         "W"
        ],
        [
         "W"
        ],
        [
         "W"
        ],
        [
         "W"
        ],
        [
         "W"
        ],
        [
         "W"
        ],
        [
         "W"
        ],
        [
         "W"
        ],
        [
         "W"
        ],
        [
         "W"
        ],
        [
         "W"
        ],
        [
         "W"
        ],
        [
         "W"
        ],
        [
         "W"
        ],
        [
         "W"
        ],
        [
         "W"
        ],
        [
         "W"
        ],
        [
         "W"
        ],
        [
         "W"
        ],
        [
         "W"
        ],
        [
         "W"
        ],
        [
         "W"
        ],
        [
         "W"
        ],
        [
         "W"
        ],
        [
         "W"
        ],
        [
         "W"
        ],
        [
         "W"
        ],
        [
         "W"
        ],
        [
         "W"
        ],
        [
         "W"
        ],
        [
         "W"
        ],
        [
         "W"
        ],
        [
         "W"
        ],
        [
         "W"
        ],
        [
         "W"
        ],
        [
         "W"
        ],
        [
         "W"
        ],
        [
         "W"
        ],
        [
         "W"
        ],
        [
         "W"
        ],
        [
         "W"
        ],
        [
         "W"
        ],
        [
         "W"
        ],
        [
         "W"
        ],
        [
         "W"
        ],
        [
         "W"
        ],
        [
         "W"
        ],
        [
         "W"
        ],
        [
         "W"
        ],
        [
         "W"
        ],
        [
         "W"
        ],
        [
         "W"
        ],
        [
         "W"
        ],
        [
         "W"
        ],
        [
         "W"
        ],
        [
         "W"
        ],
        [
         "W"
        ],
        [
         "W"
        ],
        [
         "W"
        ],
        [
         "W"
        ],
        [
         "W"
        ],
        [
         "W"
        ],
        [
         "W"
        ],
        [
         "W"
        ],
        [
         "W"
        ],
        [
         "W"
        ],
        [
         "W"
        ],
        [
         "W"
        ],
        [
         "W"
        ],
        [
         "W"
        ],
        [
         "W"
        ],
        [
         "W"
        ],
        [
         "W"
        ],
        [
         "W"
        ],
        [
         "W"
        ],
        [
         "W"
        ],
        [
         "W"
        ],
        [
         "W"
        ],
        [
         "W"
        ],
        [
         "W"
        ],
        [
         "W"
        ],
        [
         "W"
        ],
        [
         "W"
        ],
        [
         "W"
        ],
        [
         "W"
        ],
        [
         "W"
        ],
        [
         "W"
        ],
        [
         "W"
        ],
        [
         "W"
        ],
        [
         "W"
        ],
        [
         "W"
        ],
        [
         "W"
        ],
        [
         "W"
        ],
        [
         "W"
        ],
        [
         "W"
        ],
        [
         "W"
        ],
        [
         "W"
        ],
        [
         "W"
        ],
        [
         "W"
        ],
        [
         "W"
        ],
        [
         "W"
        ],
        [
         "W"
        ],
        [
         "W"
        ],
        [
         "W"
        ],
        [
         "W"
        ],
        [
         "W"
        ],
        [
         "W"
        ],
        [
         "W"
        ],
        [
         "W"
        ],
        [
         "W"
        ],
        [
         "W"
        ],
        [
         "W"
        ],
        [
         "W"
        ],
        [
         "W"
        ],
        [
         "W"
        ],
        [
         "W"
        ],
        [
         "W"
        ],
        [
         "W"
        ],
        [
         "W"
        ],
        [
         "W"
        ],
        [
         "W"
        ],
        [
         "W"
        ],
        [
         "W"
        ],
        [
         "W"
        ],
        [
         "W"
        ],
        [
         "W"
        ],
        [
         "W"
        ],
        [
         "W"
        ],
        [
         "W"
        ],
        [
         "W"
        ],
        [
         "W"
        ],
        [
         "W"
        ],
        [
         "W"
        ],
        [
         "W"
        ],
        [
         "W"
        ],
        [
         "W"
        ],
        [
         "W"
        ],
        [
         "W"
        ],
        [
         "W"
        ],
        [
         "W"
        ],
        [
         "W"
        ],
        [
         "W"
        ],
        [
         "W"
        ],
        [
         "W"
        ],
        [
         "W"
        ],
        [
         "W"
        ],
        [
         "W"
        ],
        [
         "W"
        ],
        [
         "W"
        ],
        [
         "W"
        ],
        [
         "W"
        ],
        [
         "W"
        ],
        [
         "W"
        ],
        [
         "W"
        ],
        [
         "W"
        ],
        [
         "W"
        ],
        [
         "W"
        ],
        [
         "W"
        ],
        [
         "W"
        ],
        [
         "W"
        ],
        [
         "W"
        ],
        [
         "W"
        ],
        [
         "W"
        ],
        [
         "W"
        ],
        [
         "W"
        ],
        [
         "W"
        ],
        [
         "W"
        ],
        [
         "W"
        ],
        [
         "W"
        ],
        [
         "W"
        ],
        [
         "W"
        ],
        [
         "W"
        ],
        [
         "W"
        ],
        [
         "W"
        ],
        [
         "W"
        ],
        [
         "W"
        ],
        [
         "W"
        ],
        [
         "W"
        ],
        [
         "W"
        ],
        [
         "W"
        ],
        [
         "W"
        ],
        [
         "W"
        ],
        [
         "W"
        ],
        [
         "W"
        ],
        [
         "W"
        ],
        [
         "W"
        ],
        [
         "W"
        ],
        [
         "W"
        ],
        [
         "W"
        ],
        [
         "W"
        ],
        [
         "W"
        ],
        [
         "W"
        ],
        [
         "W"
        ],
        [
         "W"
        ],
        [
         "W"
        ],
        [
         "W"
        ],
        [
         "W"
        ],
        [
         "W"
        ],
        [
         "W"
        ],
        [
         "W"
        ],
        [
         "W"
        ],
        [
         "W"
        ],
        [
         "W"
        ],
        [
         "W"
        ],
        [
         "W"
        ],
        [
         "W"
        ],
        [
         "W"
        ],
        [
         "W"
        ],
        [
         "W"
        ],
        [
         "W"
        ],
        [
         "W"
        ],
        [
         "W"
        ],
        [
         "W"
        ],
        [
         "W"
        ],
        [
         "W"
        ],
        [
         "W"
        ],
        [
         "W"
        ],
        [
         "W"
        ],
        [
         "W"
        ],
        [
         "W"
        ],
        [
         "W"
        ],
        [
         "W"
        ],
        [
         "W"
        ],
        [
         "W"
        ],
        [
         "W"
        ],
        [
         "W"
        ],
        [
         "W"
        ],
        [
         "W"
        ],
        [
         "W"
        ],
        [
         "W"
        ]
       ],
       "datasetInfos": [],
       "dbfsResultPath": null,
       "isJsonSchema": true,
       "metadata": {},
       "overflow": false,
       "plotOptions": {
        "customPlotOptions": {},
        "displayType": "table",
        "pivotAggregation": null,
        "pivotColumns": null,
        "xColumns": null,
        "yColumns": null
       },
       "removedWidgets": [],
       "schema": [
        {
         "metadata": "{}",
         "name": "type_deposit_withdrawal",
         "type": "\"string\""
        }
       ],
       "type": "table"
      }
     },
     "output_type": "display_data"
    }
   ],
   "source": [
    "%sql\n",
    "select type_deposit_withdrawal from transaction where type_deposit_withdrawal='W';"
   ]
  },
  {
   "cell_type": "code",
   "execution_count": 0,
   "metadata": {
    "application/vnd.databricks.v1+cell": {
     "cellMetadata": {
      "byteLimit": 2048000,
      "implicitDf": true,
      "rowLimit": 10000
     },
     "inputWidgets": {},
     "nuid": "58dfccf0-ed69-4f8f-aa79-45916db3ed96",
     "showTitle": false,
     "title": ""
    }
   },
   "outputs": [
    {
     "output_type": "display_data",
     "data": {
      "text/html": [
       "<style scoped>\n",
       "  .table-result-container {\n",
       "    max-height: 300px;\n",
       "    overflow: auto;\n",
       "  }\n",
       "  table, th, td {\n",
       "    border: 1px solid black;\n",
       "    border-collapse: collapse;\n",
       "  }\n",
       "  th, td {\n",
       "    padding: 5px;\n",
       "  }\n",
       "  th {\n",
       "    text-align: left;\n",
       "  }\n",
       "</style><div class='table-result-container'><table class='table-result'><thead style='background-color: white'><tr><th>product_type</th><th>Feedback_type</th><th>count</th></tr></thead><tbody><tr><td>MOTOR INSURANCE</td><td>Negative</td><td>48</td></tr><tr><td>HOME LOAN</td><td>Negative</td><td>50</td></tr><tr><td>CREDIT CARD</td><td>Negative</td><td>85</td></tr><tr><td>HEALTH INSURANCE</td><td>Negative</td><td>49</td></tr><tr><td>SAVINGS ACCOUNT</td><td>Negative</td><td>66</td></tr><tr><td>LIFE INSURANCE</td><td>Positive</td><td>194</td></tr><tr><td>CREDIT CARD</td><td>Positive</td><td>316</td></tr><tr><td>MOTOR INSURANCE</td><td>Positive</td><td>210</td></tr><tr><td>HEALTH INSURANCE</td><td>Positive</td><td>200</td></tr><tr><td>SAVINGS ACCOUNT</td><td>Positive</td><td>254</td></tr></tbody></table></div>"
      ]
     },
     "metadata": {
      "application/vnd.databricks.v1+output": {
       "addedWidgets": {},
       "aggData": [],
       "aggError": "",
       "aggOverflow": false,
       "aggSchema": [],
       "aggSeriesLimitReached": false,
       "aggType": "",
       "arguments": {},
       "columnCustomDisplayInfos": {},
       "data": [
        [
         "MOTOR INSURANCE",
         "Negative",
         48
        ],
        [
         "HOME LOAN",
         "Negative",
         50
        ],
        [
         "CREDIT CARD",
         "Negative",
         85
        ],
        [
         "HEALTH INSURANCE",
         "Negative",
         49
        ],
        [
         "SAVINGS ACCOUNT",
         "Negative",
         66
        ],
        [
         "LIFE INSURANCE",
         "Positive",
         194
        ],
        [
         "CREDIT CARD",
         "Positive",
         316
        ],
        [
         "MOTOR INSURANCE",
         "Positive",
         210
        ],
        [
         "HEALTH INSURANCE",
         "Positive",
         200
        ],
        [
         "SAVINGS ACCOUNT",
         "Positive",
         254
        ]
       ],
       "datasetInfos": [],
       "dbfsResultPath": null,
       "isJsonSchema": true,
       "metadata": {},
       "overflow": false,
       "plotOptions": {
        "customPlotOptions": {},
        "displayType": "table",
        "pivotAggregation": null,
        "pivotColumns": null,
        "xColumns": null,
        "yColumns": null
       },
       "removedWidgets": [],
       "schema": [
        {
         "metadata": "{}",
         "name": "product_type",
         "type": "\"string\""
        },
        {
         "metadata": "{}",
         "name": "Feedback_type",
         "type": "\"string\""
        },
        {
         "metadata": "{}",
         "name": "count",
         "type": "\"long\""
        }
       ],
       "type": "table"
      }
     },
     "output_type": "display_data"
    }
   ],
   "source": [
    "%sql\n",
    "SELECT product_type, Feedback_type, count\n",
    "FROM (\n",
    "    SELECT p.product_type, s.Feedback_type, COUNT(s.Feedback_type) AS count\n",
    "    FROM product p\n",
    "    INNER JOIN src s ON s.product_id = p.product_id\n",
    "    WHERE s.Feedback_type = 'Negative'\n",
    "    GROUP BY p.product_type, s.Feedback_type\n",
    "    ORDER BY count DESC, p.product_type ASC\n",
    "    LIMIT 5\n",
    ") AS negative_feedback\n",
    "UNION\n",
    "SELECT product_type, Feedback_type, count\n",
    "FROM (\n",
    "    SELECT p.product_type, s.Feedback_type, COUNT(s.Feedback_type) AS count\n",
    "    FROM product p\n",
    "    INNER JOIN src s ON s.product_id = p.product_id\n",
    "    WHERE s.Feedback_type = 'Positive'\n",
    "    GROUP BY p.product_type, s.Feedback_type\n",
    "    ORDER BY count DESC, p.product_type ASC\n",
    "    LIMIT 5\n",
    ") AS positive_feedback;\n",
    "\n"
   ]
  },
  {
   "cell_type": "code",
   "execution_count": 0,
   "metadata": {
    "application/vnd.databricks.v1+cell": {
     "cellMetadata": {
      "byteLimit": 2048000,
      "implicitDf": true,
      "rowLimit": 10000
     },
     "inputWidgets": {},
     "nuid": "94bbba5b-ffdc-43e4-a50f-284c2938db2e",
     "showTitle": false,
     "title": ""
    }
   },
   "outputs": [
    {
     "output_type": "display_data",
     "data": {
      "text/html": [
       "<style scoped>\n",
       "  .table-result-container {\n",
       "    max-height: 300px;\n",
       "    overflow: auto;\n",
       "  }\n",
       "  table, th, td {\n",
       "    border: 1px solid black;\n",
       "    border-collapse: collapse;\n",
       "  }\n",
       "  th, td {\n",
       "    padding: 5px;\n",
       "  }\n",
       "  th {\n",
       "    text-align: left;\n",
       "  }\n",
       "</style><div class='table-result-container'><table class='table-result'><thead style='background-color: white'><tr><th>channel</th><th>Feedback_type</th><th>count</th></tr></thead><tbody><tr><td>Phone Banking</td><td>Positive</td><td>791</td></tr><tr><td>Branch</td><td>Positive</td><td>788</td></tr><tr><td>Net Banking</td><td>Positive</td><td>777</td></tr><tr><td>Branch</td><td>Negative</td><td>190</td></tr><tr><td>Phone Banking</td><td>Negative</td><td>187</td></tr><tr><td>Net Banking</td><td>Negative</td><td>203</td></tr></tbody></table></div>"
      ]
     },
     "metadata": {
      "application/vnd.databricks.v1+output": {
       "addedWidgets": {},
       "aggData": [],
       "aggError": "",
       "aggOverflow": false,
       "aggSchema": [],
       "aggSeriesLimitReached": false,
       "aggType": "",
       "arguments": {},
       "columnCustomDisplayInfos": {},
       "data": [
        [
         "Phone Banking",
         "Positive",
         791
        ],
        [
         "Branch",
         "Positive",
         788
        ],
        [
         "Net Banking",
         "Positive",
         777
        ],
        [
         "Branch",
         "Negative",
         190
        ],
        [
         "Phone Banking",
         "Negative",
         187
        ],
        [
         "Net Banking",
         "Negative",
         203
        ]
       ],
       "datasetInfos": [],
       "dbfsResultPath": null,
       "isJsonSchema": true,
       "metadata": {},
       "overflow": false,
       "plotOptions": {
        "customPlotOptions": {},
        "displayType": "table",
        "pivotAggregation": null,
        "pivotColumns": null,
        "xColumns": null,
        "yColumns": null
       },
       "removedWidgets": [],
       "schema": [
        {
         "metadata": "{}",
         "name": "channel",
         "type": "\"string\""
        },
        {
         "metadata": "{}",
         "name": "Feedback_type",
         "type": "\"string\""
        },
        {
         "metadata": "{}",
         "name": "count",
         "type": "\"long\""
        }
       ],
       "type": "table"
      }
     },
     "output_type": "display_data"
    }
   ],
   "source": [
    "%sql \n",
    "-- 2\n",
    "-- select channel, count(Feedback_type) from src where Feedback_type='Positive' group by channel order by 2 desc, 1 asc\n",
    "-- union all\n",
    "-- select channel, Feedback_type, count(Feedback_type) from src where Feedback_type='Positive' group by channel, Feedback_type order by 3 desc, 1 asc;\n",
    "select channel, Feedback_type, count  from ( select channel, Feedback_type, count(Feedback_type) as count from src where Feedback_type='Positive' group by channel, Feedback_type order by 3 desc, 1 asc ) as positive_feedback \n",
    "union \n",
    "select channel, Feedback_type, count from ( select channel, Feedback_type, count(Feedback_type) as count from src where Feedback_type='Negative' group by channel, Feedback_type order by 3 desc, 1 asc ) as negative_feedback \n",
    "\n"
   ]
  },
  {
   "cell_type": "code",
   "execution_count": 0,
   "metadata": {
    "application/vnd.databricks.v1+cell": {
     "cellMetadata": {
      "byteLimit": 2048000,
      "implicitDf": true,
      "rowLimit": 10000
     },
     "inputWidgets": {},
     "nuid": "cfed1e60-01c6-4c36-b909-9d25b27b92c3",
     "showTitle": false,
     "title": ""
    }
   },
   "outputs": [
    {
     "output_type": "display_data",
     "data": {
      "text/html": [
       "<style scoped>\n",
       "  .table-result-container {\n",
       "    max-height: 300px;\n",
       "    overflow: auto;\n",
       "  }\n",
       "  table, th, td {\n",
       "    border: 1px solid black;\n",
       "    border-collapse: collapse;\n",
       "  }\n",
       "  th, td {\n",
       "    padding: 5px;\n",
       "  }\n",
       "  th {\n",
       "    text-align: left;\n",
       "  }\n",
       "</style><div class='table-result-container'><table class='table-result'><thead style='background-color: white'><tr><th>product_type</th><th>c</th></tr></thead><tbody><tr><td>HEALTH INSURANCE</td><td>912</td></tr><tr><td>MOTOR INSURANCE</td><td>874</td></tr><tr><td>HOME LOAN</td><td>843</td></tr><tr><td>LIFE INSURANCE</td><td>823</td></tr><tr><td>HOME INSURANCE</td><td>785</td></tr></tbody></table></div>"
      ]
     },
     "metadata": {
      "application/vnd.databricks.v1+output": {
       "addedWidgets": {},
       "aggData": [],
       "aggError": "",
       "aggOverflow": false,
       "aggSchema": [],
       "aggSeriesLimitReached": false,
       "aggType": "",
       "arguments": {},
       "columnCustomDisplayInfos": {},
       "data": [
        [
         "HEALTH INSURANCE",
         912
        ],
        [
         "MOTOR INSURANCE",
         874
        ],
        [
         "HOME LOAN",
         843
        ],
        [
         "LIFE INSURANCE",
         823
        ],
        [
         "HOME INSURANCE",
         785
        ]
       ],
       "datasetInfos": [],
       "dbfsResultPath": null,
       "isJsonSchema": true,
       "metadata": {},
       "overflow": false,
       "plotOptions": {
        "customPlotOptions": {},
        "displayType": "table",
        "pivotAggregation": null,
        "pivotColumns": null,
        "xColumns": null,
        "yColumns": null
       },
       "removedWidgets": [],
       "schema": [
        {
         "metadata": "{}",
         "name": "product_type",
         "type": "\"string\""
        },
        {
         "metadata": "{}",
         "name": "c",
         "type": "\"long\""
        }
       ],
       "type": "table"
      }
     },
     "output_type": "display_data"
    }
   ],
   "source": [
    "%sql \n",
    "-- 3 \n",
    "select p.product_type, count(t.channel) as c from product p inner join transaction t on p.product_id=t.product_id where t.type_deposit_withdrawal='D' group by p.product_type order by 2 desc limit 5;"
   ]
  },
  {
   "cell_type": "code",
   "execution_count": 0,
   "metadata": {
    "application/vnd.databricks.v1+cell": {
     "cellMetadata": {
      "byteLimit": 2048000,
      "implicitDf": true,
      "rowLimit": 10000
     },
     "inputWidgets": {},
     "nuid": "4f7ce97b-a276-428e-86e0-d602ae53049c",
     "showTitle": false,
     "title": ""
    }
   },
   "outputs": [
    {
     "output_type": "display_data",
     "data": {
      "text/plain": [
       ""
      ]
     },
     "metadata": {
      "application/vnd.databricks.v1+output": {
       "arguments": {},
       "data": "",
       "errorSummary": "Command skipped",
       "errorTraceType": "ansi",
       "metadata": {},
       "type": "ipynbError"
      }
     },
     "output_type": "display_data"
    }
   ],
   "source": [
    "%sql \n",
    "-- 4 \n",
    "select p.product_type, count(t.channel) as c from product p inner join transaction t on p.product_id=t.product_id where t.type_deposit_withdrawal='W' group by p.product_type order by 2 desc limit 5;"
   ]
  },
  {
   "cell_type": "code",
   "execution_count": 0,
   "metadata": {
    "application/vnd.databricks.v1+cell": {
     "cellMetadata": {
      "byteLimit": 2048000,
      "implicitDf": true,
      "rowLimit": 10000
     },
     "inputWidgets": {},
     "nuid": "80cf55d1-1c87-4506-a274-b6111a2941b3",
     "showTitle": false,
     "title": ""
    }
   },
   "outputs": [
    {
     "output_type": "display_data",
     "data": {
      "text/html": [
       "<style scoped>\n",
       "  .table-result-container {\n",
       "    max-height: 300px;\n",
       "    overflow: auto;\n",
       "  }\n",
       "  table, th, td {\n",
       "    border: 1px solid black;\n",
       "    border-collapse: collapse;\n",
       "  }\n",
       "  th, td {\n",
       "    padding: 5px;\n",
       "  }\n",
       "  th {\n",
       "    text-align: left;\n",
       "  }\n",
       "</style><div class='table-result-container'><table class='table-result'><thead style='background-color: white'><tr><th>product_type</th><th>low_income_count</th><th>medium_income_count</th><th>high_income_count</th></tr></thead><tbody><tr><td>CREDIT CARD</td><td>231</td><td>218</td><td>230</td></tr><tr><td>SAVINGS ACCOUNT</td><td>155</td><td>151</td><td>162</td></tr><tr><td>HEALTH INSURANCE</td><td>147</td><td>149</td><td>134</td></tr><tr><td>LIFE INSURANCE</td><td>145</td><td>119</td><td>121</td></tr><tr><td>MOTOR INSURANCE</td><td>128</td><td>127</td><td>129</td></tr></tbody></table></div>"
      ]
     },
     "metadata": {
      "application/vnd.databricks.v1+output": {
       "addedWidgets": {},
       "aggData": [],
       "aggError": "",
       "aggOverflow": false,
       "aggSchema": [],
       "aggSeriesLimitReached": false,
       "aggType": "",
       "arguments": {},
       "columnCustomDisplayInfos": {},
       "data": [
        [
         "CREDIT CARD",
         231,
         218,
         230
        ],
        [
         "SAVINGS ACCOUNT",
         155,
         151,
         162
        ],
        [
         "HEALTH INSURANCE",
         147,
         149,
         134
        ],
        [
         "LIFE INSURANCE",
         145,
         119,
         121
        ],
        [
         "MOTOR INSURANCE",
         128,
         127,
         129
        ]
       ],
       "datasetInfos": [],
       "dbfsResultPath": null,
       "isJsonSchema": true,
       "metadata": {},
       "overflow": false,
       "plotOptions": {
        "customPlotOptions": {},
        "displayType": "table",
        "pivotAggregation": null,
        "pivotColumns": null,
        "xColumns": null,
        "yColumns": null
       },
       "removedWidgets": [],
       "schema": [
        {
         "metadata": "{}",
         "name": "product_type",
         "type": "\"string\""
        },
        {
         "metadata": "{}",
         "name": "low_income_count",
         "type": "\"long\""
        },
        {
         "metadata": "{}",
         "name": "medium_income_count",
         "type": "\"long\""
        },
        {
         "metadata": "{}",
         "name": "high_income_count",
         "type": "\"long\""
        }
       ],
       "type": "table"
      }
     },
     "output_type": "display_data"
    }
   ],
   "source": [
    "%sql \n",
    "SELECT\n",
    "    p.product_type,\n",
    "    SUM(CASE WHEN c.income_level = 'Low' THEN 1 ELSE 0 END) AS low_income_count,\n",
    "    SUM(CASE WHEN c.income_level = 'Medium' THEN 1 ELSE 0 END) AS medium_income_count,\n",
    "    SUM(CASE WHEN c.income_level = 'High' THEN 1 ELSE 0 END) AS high_income_count\n",
    "FROM\n",
    "    customer c\n",
    "JOIN\n",
    "    product p ON c.customer_id = p.customer_id\n",
    "GROUP BY\n",
    "    p.product_type\n",
    "ORDER BY\n",
    "    (low_income_count + medium_income_count + high_income_count) DESC\n",
    "LIMIT 5;\n"
   ]
  },
  {
   "cell_type": "code",
   "execution_count": 0,
   "metadata": {
    "application/vnd.databricks.v1+cell": {
     "cellMetadata": {
      "byteLimit": 2048000,
      "implicitDf": true,
      "rowLimit": 10000
     },
     "inputWidgets": {},
     "nuid": "c0631ded-6806-4ac9-bc1e-ba1f715ab2a2",
     "showTitle": false,
     "title": ""
    }
   },
   "outputs": [
    {
     "output_type": "display_data",
     "data": {
      "text/html": [
       "<style scoped>\n",
       "  .table-result-container {\n",
       "    max-height: 300px;\n",
       "    overflow: auto;\n",
       "  }\n",
       "  table, th, td {\n",
       "    border: 1px solid black;\n",
       "    border-collapse: collapse;\n",
       "  }\n",
       "  th, td {\n",
       "    padding: 5px;\n",
       "  }\n",
       "  th {\n",
       "    text-align: left;\n",
       "  }\n",
       "</style><div class='table-result-container'><table class='table-result'><thead style='background-color: white'><tr><th>state</th><th>Feedback_type</th><th>count</th><th>product_type</th></tr></thead><tbody><tr><td>California</td><td>Positive</td><td>182</td><td>CREDIT CARD</td></tr><tr><td>Texas</td><td>Positive</td><td>174</td><td>CREDIT CARD</td></tr><tr><td>California</td><td>Positive</td><td>159</td><td>FIXED DEPOSIT</td></tr><tr><td>California</td><td>Positive</td><td>159</td><td>CAR LOAN</td></tr><tr><td>California</td><td>Positive</td><td>150</td><td>HOME INSURANCE</td></tr><tr><td>California</td><td>Positive</td><td>134</td><td>SAVINGS ACCOUNT</td></tr><tr><td>Texas</td><td>Positive</td><td>131</td><td>HEALTH INSURANCE</td></tr><tr><td>Texas</td><td>Positive</td><td>131</td><td>SAVINGS ACCOUNT</td></tr><tr><td>Florida</td><td>Positive</td><td>127</td><td>CREDIT CARD</td></tr><tr><td>California</td><td>Positive</td><td>124</td><td>LIFE INSURANCE</td></tr><tr><td>California</td><td>Positive</td><td>123</td><td>MOTOR INSURANCE</td></tr><tr><td>California</td><td>Positive</td><td>122</td><td>HOME LOAN</td></tr><tr><td>Florida</td><td>Positive</td><td>116</td><td>HOME INSURANCE</td></tr><tr><td>California</td><td>Positive</td><td>107</td><td>PERSONAL LOAN</td></tr><tr><td>Texas</td><td>Positive</td><td>105</td><td>EQUITIES</td></tr><tr><td>Texas</td><td>Positive</td><td>104</td><td>MOTOR INSURANCE</td></tr><tr><td>Texas</td><td>Positive</td><td>102</td><td>HOME LOAN</td></tr><tr><td>Virginia</td><td>Positive</td><td>99</td><td>HEALTH INSURANCE</td></tr><tr><td>Texas</td><td>Positive</td><td>98</td><td>PERSONAL LOAN</td></tr><tr><td>Florida</td><td>Positive</td><td>97</td><td>SAVINGS ACCOUNT</td></tr><tr><td>California</td><td>Positive</td><td>94</td><td>HEALTH INSURANCE</td></tr><tr><td>Florida</td><td>Positive</td><td>94</td><td>LIFE INSURANCE</td></tr><tr><td>Texas</td><td>Positive</td><td>91</td><td>HOME INSURANCE</td></tr><tr><td>California</td><td>Positive</td><td>90</td><td>EDUCATIONAL LOAN</td></tr><tr><td>Florida</td><td>Positive</td><td>89</td><td>HEALTH INSURANCE</td></tr><tr><td>Texas</td><td>Positive</td><td>89</td><td>EDUCATIONAL LOAN</td></tr><tr><td>New York</td><td>Positive</td><td>85</td><td>CREDIT CARD</td></tr><tr><td>Virginia</td><td>Positive</td><td>84</td><td>MOTOR INSURANCE</td></tr><tr><td>Texas</td><td>Positive</td><td>84</td><td>LIFE INSURANCE</td></tr><tr><td>Virginia</td><td>Positive</td><td>82</td><td>CREDIT CARD</td></tr><tr><td>Texas</td><td>Positive</td><td>82</td><td>FIXED DEPOSIT</td></tr><tr><td>Florida</td><td>Positive</td><td>81</td><td>HOME LOAN</td></tr><tr><td>Texas</td><td>Positive</td><td>79</td><td>CAR LOAN</td></tr><tr><td>Arizona</td><td>Positive</td><td>72</td><td>CREDIT CARD</td></tr><tr><td>Florida</td><td>Positive</td><td>66</td><td>CAR LOAN</td></tr><tr><td>New York</td><td>Positive</td><td>65</td><td>HEALTH INSURANCE</td></tr><tr><td>Virginia</td><td>Positive</td><td>64</td><td>HOME INSURANCE</td></tr><tr><td>Florida</td><td>Positive</td><td>62</td><td>EDUCATIONAL LOAN</td></tr><tr><td>Virginia</td><td>Positive</td><td>59</td><td>LIFE INSURANCE</td></tr><tr><td>Texas</td><td>Positive</td><td>58</td><td>MUTUAL FUNDS</td></tr><tr><td>Michigan</td><td>Positive</td><td>56</td><td>FIXED DEPOSIT</td></tr><tr><td>Georgia</td><td>Positive</td><td>56</td><td>CREDIT CARD</td></tr><tr><td>New York</td><td>Positive</td><td>55</td><td>PERSONAL LOAN</td></tr><tr><td>Virginia</td><td>Positive</td><td>55</td><td>SAVINGS ACCOUNT</td></tr><tr><td>Ohio</td><td>Positive</td><td>55</td><td>FIXED DEPOSIT</td></tr><tr><td>New York</td><td>Positive</td><td>54</td><td>SAVINGS ACCOUNT</td></tr><tr><td>Virginia</td><td>Positive</td><td>54</td><td>EDUCATIONAL LOAN</td></tr><tr><td>Georgia</td><td>Positive</td><td>54</td><td>LIFE INSURANCE</td></tr><tr><td>Ohio</td><td>Positive</td><td>54</td><td>CREDIT CARD</td></tr><tr><td>New York</td><td>Negative</td><td>52</td><td>MOTOR INSURANCE</td></tr><tr><td>Florida</td><td>Positive</td><td>52</td><td>PERSONAL LOAN</td></tr><tr><td>Kansas</td><td>Positive</td><td>52</td><td>HEALTH INSURANCE</td></tr><tr><td>District of Columbia</td><td>Positive</td><td>51</td><td>CREDIT CARD</td></tr><tr><td>North Carolina</td><td>Positive</td><td>50</td><td>HOME LOAN</td></tr><tr><td>Indiana</td><td>Positive</td><td>50</td><td>MOTOR INSURANCE</td></tr><tr><td>New York</td><td>Positive</td><td>50</td><td>HOME INSURANCE</td></tr><tr><td>Kansas</td><td>Positive</td><td>50</td><td>MOTOR INSURANCE</td></tr><tr><td>Pennsylvania</td><td>Positive</td><td>49</td><td>HEALTH INSURANCE</td></tr><tr><td>New York</td><td>Positive</td><td>48</td><td>MOTOR INSURANCE</td></tr><tr><td>New York</td><td>Positive</td><td>48</td><td>MUTUAL FUNDS</td></tr><tr><td>Ohio</td><td>Positive</td><td>47</td><td>HOME LOAN</td></tr><tr><td>California</td><td>Positive</td><td>47</td><td>EQUITIES</td></tr><tr><td>New York</td><td>Positive</td><td>46</td><td>HOME LOAN</td></tr><tr><td>Pennsylvania</td><td>Positive</td><td>46</td><td>CREDIT CARD</td></tr><tr><td>Pennsylvania</td><td>Positive</td><td>45</td><td>SAVINGS ACCOUNT</td></tr><tr><td>Virginia</td><td>Positive</td><td>45</td><td>PERSONAL LOAN</td></tr><tr><td>Florida</td><td>Negative</td><td>45</td><td>HEALTH INSURANCE</td></tr><tr><td>New York</td><td>Negative</td><td>45</td><td>CREDIT CARD</td></tr><tr><td>Illinois</td><td>Positive</td><td>45</td><td>HEALTH INSURANCE</td></tr><tr><td>Pennsylvania</td><td>Positive</td><td>45</td><td>HOME LOAN</td></tr><tr><td>Virginia</td><td>Positive</td><td>43</td><td>FIXED DEPOSIT</td></tr><tr><td>Michigan</td><td>Positive</td><td>43</td><td>CREDIT CARD</td></tr><tr><td>Arizona</td><td>Positive</td><td>43</td><td>MOTOR INSURANCE</td></tr><tr><td>Missouri</td><td>Positive</td><td>42</td><td>HEALTH INSURANCE</td></tr><tr><td>Georgia</td><td>Positive</td><td>42</td><td>HOME LOAN</td></tr><tr><td>Kansas</td><td>Positive</td><td>41</td><td>CREDIT CARD</td></tr><tr><td>California</td><td>Positive</td><td>41</td><td>CURRENT ACCOUNT</td></tr><tr><td>District of Columbia</td><td>Positive</td><td>41</td><td>LIFE INSURANCE</td></tr><tr><td>Florida</td><td>Positive</td><td>41</td><td>CURRENT ACCOUNT</td></tr><tr><td>North Carolina</td><td>Positive</td><td>41</td><td>SAVINGS ACCOUNT</td></tr><tr><td>Michigan</td><td>Positive</td><td>41</td><td>SAVINGS ACCOUNT</td></tr><tr><td>California</td><td>Positive</td><td>41</td><td>MUTUAL FUNDS</td></tr><tr><td>Illinois</td><td>Positive</td><td>41</td><td>CREDIT CARD</td></tr><tr><td>Arizona</td><td>Positive</td><td>40</td><td>EQUITIES</td></tr><tr><td>New York</td><td>Negative</td><td>40</td><td>HEALTH INSURANCE</td></tr><tr><td>Kansas</td><td>Positive</td><td>40</td><td>LIFE INSURANCE</td></tr><tr><td>Virginia</td><td>Positive</td><td>40</td><td>CAR LOAN</td></tr><tr><td>District of Columbia</td><td>Positive</td><td>39</td><td>HOME LOAN</td></tr><tr><td>Virginia</td><td>Positive</td><td>39</td><td>HOME LOAN</td></tr><tr><td>Michigan</td><td>Positive</td><td>39</td><td>HEALTH INSURANCE</td></tr><tr><td>North Carolina</td><td>Positive</td><td>39</td><td>CREDIT CARD</td></tr><tr><td>Ohio</td><td>Positive</td><td>39</td><td>MOTOR INSURANCE</td></tr><tr><td>District of Columbia</td><td>Positive</td><td>38</td><td>HOME INSURANCE</td></tr><tr><td>Minnesota</td><td>Positive</td><td>38</td><td>CREDIT CARD</td></tr><tr><td>Indiana</td><td>Positive</td><td>38</td><td>CAR LOAN</td></tr><tr><td>Georgia</td><td>Positive</td><td>38</td><td>FIXED DEPOSIT</td></tr><tr><td>Ohio</td><td>Positive</td><td>38</td><td>LIFE INSURANCE</td></tr><tr><td>Kansas</td><td>Positive</td><td>38</td><td>PERSONAL LOAN</td></tr><tr><td>Arizona</td><td>Positive</td><td>37</td><td>EDUCATIONAL LOAN</td></tr><tr><td>Indiana</td><td>Positive</td><td>37</td><td>CREDIT CARD</td></tr><tr><td>Kentucky</td><td>Positive</td><td>37</td><td>CREDIT CARD</td></tr><tr><td>Pennsylvania</td><td>Positive</td><td>37</td><td>HOME INSURANCE</td></tr><tr><td>New York</td><td>Positive</td><td>37</td><td>LIFE INSURANCE</td></tr><tr><td>Kansas</td><td>Positive</td><td>36</td><td>SAVINGS ACCOUNT</td></tr><tr><td>Ohio</td><td>Positive</td><td>36</td><td>HEALTH INSURANCE</td></tr><tr><td>Colorado</td><td>Positive</td><td>36</td><td>LIFE INSURANCE</td></tr><tr><td>Illinois</td><td>Positive</td><td>36</td><td>SAVINGS ACCOUNT</td></tr><tr><td>Texas</td><td>Positive</td><td>36</td><td>CURRENT ACCOUNT</td></tr><tr><td>California</td><td>Negative</td><td>35</td><td>CREDIT CARD</td></tr><tr><td>Indiana</td><td>Positive</td><td>35</td><td>SAVINGS ACCOUNT</td></tr><tr><td>Ohio</td><td>Positive</td><td>35</td><td>SAVINGS ACCOUNT</td></tr><tr><td>Virginia</td><td>Positive</td><td>35</td><td>EQUITIES</td></tr><tr><td>Indiana</td><td>Positive</td><td>35</td><td>LIFE INSURANCE</td></tr><tr><td>New York</td><td>Positive</td><td>35</td><td>CAR LOAN</td></tr><tr><td>Iowa</td><td>Positive</td><td>35</td><td>CREDIT CARD</td></tr><tr><td>Arizona</td><td>Positive</td><td>34</td><td>SAVINGS ACCOUNT</td></tr><tr><td>Pennsylvania</td><td>Positive</td><td>34</td><td>LIFE INSURANCE</td></tr><tr><td>Iowa</td><td>Positive</td><td>34</td><td>EQUITIES</td></tr><tr><td>Nebraska</td><td>Positive</td><td>34</td><td>CAR LOAN</td></tr><tr><td>Indiana</td><td>Positive</td><td>34</td><td>EDUCATIONAL LOAN</td></tr><tr><td>Washington</td><td>Positive</td><td>34</td><td>LIFE INSURANCE</td></tr><tr><td>California</td><td>Negative</td><td>34</td><td>HEALTH INSURANCE</td></tr><tr><td>North Carolina</td><td>Positive</td><td>34</td><td>HEALTH INSURANCE</td></tr><tr><td>District of Columbia</td><td>Positive</td><td>34</td><td>EQUITIES</td></tr><tr><td>Oregon</td><td>Positive</td><td>33</td><td>EQUITIES</td></tr><tr><td>Ohio</td><td>Positive</td><td>33</td><td>HOME INSURANCE</td></tr><tr><td>Missouri</td><td>Positive</td><td>33</td><td>CREDIT CARD</td></tr><tr><td>California</td><td>Negative</td><td>33</td><td>SAVINGS ACCOUNT</td></tr><tr><td>Kentucky</td><td>Positive</td><td>33</td><td>SAVINGS ACCOUNT</td></tr><tr><td>Georgia</td><td>Positive</td><td>33</td><td>EQUITIES</td></tr><tr><td>Georgia</td><td>Positive</td><td>33</td><td>HOME INSURANCE</td></tr><tr><td>North Carolina</td><td>Positive</td><td>33</td><td>FIXED DEPOSIT</td></tr><tr><td>Colorado</td><td>Positive</td><td>33</td><td>CREDIT CARD</td></tr><tr><td>District of Columbia</td><td>Positive</td><td>33</td><td>MOTOR INSURANCE</td></tr><tr><td>California</td><td>Negative</td><td>32</td><td>MOTOR INSURANCE</td></tr><tr><td>Arizona</td><td>Positive</td><td>32</td><td>FIXED DEPOSIT</td></tr><tr><td>Nebraska</td><td>Positive</td><td>32</td><td>CREDIT CARD</td></tr><tr><td>Arizona</td><td>Positive</td><td>32</td><td>HOME LOAN</td></tr><tr><td>Missouri</td><td>Positive</td><td>32</td><td>HOME LOAN</td></tr><tr><td>New York</td><td>Positive</td><td>32</td><td>FIXED DEPOSIT</td></tr><tr><td>District of Columbia</td><td>Positive</td><td>31</td><td>HEALTH INSURANCE</td></tr><tr><td>California</td><td>Negative</td><td>31</td><td>FIXED DEPOSIT</td></tr><tr><td>Illinois</td><td>Positive</td><td>31</td><td>LIFE INSURANCE</td></tr><tr><td>Georgia</td><td>Positive</td><td>31</td><td>MOTOR INSURANCE</td></tr><tr><td>Florida</td><td>Negative</td><td>31</td><td>CREDIT CARD</td></tr><tr><td>Michigan</td><td>Positive</td><td>31</td><td>CAR LOAN</td></tr><tr><td>Arizona</td><td>Positive</td><td>31</td><td>PERSONAL LOAN</td></tr><tr><td>South Dakota</td><td>Positive</td><td>31</td><td>LIFE INSURANCE</td></tr><tr><td>Florida</td><td>Positive</td><td>31</td><td>FIXED DEPOSIT</td></tr><tr><td>Texas</td><td>Negative</td><td>30</td><td>FIXED DEPOSIT</td></tr><tr><td>Alabama</td><td>Positive</td><td>30</td><td>MOTOR INSURANCE</td></tr><tr><td>Michigan</td><td>Positive</td><td>30</td><td>LIFE INSURANCE</td></tr><tr><td>Georgia</td><td>Positive</td><td>30</td><td>SAVINGS ACCOUNT</td></tr><tr><td>Tennessee</td><td>Positive</td><td>30</td><td>CREDIT CARD</td></tr><tr><td>Tennessee</td><td>Positive</td><td>30</td><td>HEALTH INSURANCE</td></tr><tr><td>Florida</td><td>Negative</td><td>30</td><td>PERSONAL LOAN</td></tr><tr><td>Missouri</td><td>Positive</td><td>29</td><td>HOME INSURANCE</td></tr><tr><td>New York</td><td>Negative</td><td>29</td><td>EQUITIES</td></tr><tr><td>Maryland</td><td>Positive</td><td>29</td><td>CREDIT CARD</td></tr><tr><td>California</td><td>Negative</td><td>29</td><td>EQUITIES</td></tr><tr><td>Indiana</td><td>Positive</td><td>29</td><td>EQUITIES</td></tr><tr><td>New York</td><td>Positive</td><td>29</td><td>EDUCATIONAL LOAN</td></tr><tr><td>Iowa</td><td>Positive</td><td>29</td><td>MOTOR INSURANCE</td></tr><tr><td>District of Columbia</td><td>Positive</td><td>28</td><td>CAR LOAN</td></tr><tr><td>Massachusetts</td><td>Positive</td><td>28</td><td>CAR LOAN</td></tr><tr><td>Georgia</td><td>Positive</td><td>28</td><td>CAR LOAN</td></tr><tr><td>Indiana</td><td>Positive</td><td>28</td><td>FIXED DEPOSIT</td></tr><tr><td>Kansas</td><td>Positive</td><td>28</td><td>FIXED DEPOSIT</td></tr><tr><td>District of Columbia</td><td>Negative</td><td>28</td><td>HEALTH INSURANCE</td></tr><tr><td>Kansas</td><td>Positive</td><td>28</td><td>EQUITIES</td></tr><tr><td>Washington</td><td>Positive</td><td>28</td><td>CREDIT CARD</td></tr><tr><td>Louisiana</td><td>Positive</td><td>28</td><td>EDUCATIONAL LOAN</td></tr><tr><td>South Carolina</td><td>Positive</td><td>28</td><td>CREDIT CARD</td></tr><tr><td>Pennsylvania</td><td>Positive</td><td>28</td><td>EDUCATIONAL LOAN</td></tr><tr><td>Michigan</td><td>Positive</td><td>28</td><td>EQUITIES</td></tr><tr><td>District of Columbia</td><td>Positive</td><td>27</td><td>SAVINGS ACCOUNT</td></tr><tr><td>Tennessee</td><td>Positive</td><td>27</td><td>SAVINGS ACCOUNT</td></tr><tr><td>Maryland</td><td>Positive</td><td>27</td><td>LIFE INSURANCE</td></tr><tr><td>Florida</td><td>Positive</td><td>27</td><td>MUTUAL FUNDS</td></tr><tr><td>California</td><td>Negative</td><td>27</td><td>LIFE INSURANCE</td></tr><tr><td>Ohio</td><td>Negative</td><td>27</td><td>CREDIT CARD</td></tr><tr><td>Arizona</td><td>Positive</td><td>27</td><td>HOME INSURANCE</td></tr><tr><td>Kansas</td><td>Positive</td><td>27</td><td>HOME LOAN</td></tr><tr><td>Massachusetts</td><td>Positive</td><td>27</td><td>HOME LOAN</td></tr><tr><td>Ohio</td><td>Positive</td><td>27</td><td>EDUCATIONAL LOAN</td></tr><tr><td>Florida</td><td>Negative</td><td>27</td><td>LIFE INSURANCE</td></tr><tr><td>New Jersey</td><td>Positive</td><td>26</td><td>MOTOR INSURANCE</td></tr><tr><td>New Jersey</td><td>Positive</td><td>26</td><td>HEALTH INSURANCE</td></tr><tr><td>Illinois</td><td>Positive</td><td>26</td><td>FIXED DEPOSIT</td></tr><tr><td>Kentucky</td><td>Positive</td><td>26</td><td>PERSONAL LOAN</td></tr><tr><td>Tennessee</td><td>Positive</td><td>26</td><td>FIXED DEPOSIT</td></tr><tr><td>Indiana</td><td>Positive</td><td>26</td><td>HOME LOAN</td></tr><tr><td>Massachusetts</td><td>Positive</td><td>26</td><td>SAVINGS ACCOUNT</td></tr><tr><td>District of Columbia</td><td>Positive</td><td>26</td><td>PERSONAL LOAN</td></tr><tr><td>Alabama</td><td>Positive</td><td>26</td><td>CREDIT CARD</td></tr><tr><td>Minnesota</td><td>Positive</td><td>26</td><td>SAVINGS ACCOUNT</td></tr><tr><td>Arizona</td><td>Positive</td><td>26</td><td>CAR LOAN</td></tr><tr><td>Missouri</td><td>Positive</td><td>26</td><td>EQUITIES</td></tr><tr><td>Pennsylvania</td><td>Positive</td><td>26</td><td>FIXED DEPOSIT</td></tr><tr><td>Iowa</td><td>Positive</td><td>26</td><td>HOME INSURANCE</td></tr><tr><td>Illinois</td><td>Positive</td><td>26</td><td>MOTOR INSURANCE</td></tr><tr><td>Oregon</td><td>Positive</td><td>26</td><td>CREDIT CARD</td></tr><tr><td>Maryland</td><td>Positive</td><td>25</td><td>HEALTH INSURANCE</td></tr><tr><td>Kentucky</td><td>Positive</td><td>25</td><td>EQUITIES</td></tr><tr><td>Massachusetts</td><td>Positive</td><td>25</td><td>LIFE INSURANCE</td></tr><tr><td>Louisiana</td><td>Positive</td><td>25</td><td>HEALTH INSURANCE</td></tr><tr><td>Massachusetts</td><td>Positive</td><td>25</td><td>EDUCATIONAL LOAN</td></tr><tr><td>Florida</td><td>Positive</td><td>25</td><td>EQUITIES</td></tr><tr><td>Florida</td><td>Negative</td><td>25</td><td>CAR LOAN</td></tr><tr><td>Missouri</td><td>Negative</td><td>25</td><td>PERSONAL LOAN</td></tr><tr><td>New York</td><td>Negative</td><td>25</td><td>HOME LOAN</td></tr><tr><td>Indiana</td><td>Positive</td><td>24</td><td>HEALTH INSURANCE</td></tr><tr><td>Iowa</td><td>Positive</td><td>24</td><td>SAVINGS ACCOUNT</td></tr><tr><td>Oregon</td><td>Positive</td><td>24</td><td>HOME LOAN</td></tr><tr><td>North Carolina</td><td>Positive</td><td>24</td><td>CAR LOAN</td></tr><tr><td>Illinois</td><td>Positive</td><td>24</td><td>HOME INSURANCE</td></tr><tr><td>Florida</td><td>Negative</td><td>24</td><td>HOME LOAN</td></tr><tr><td>Missouri</td><td>Positive</td><td>24</td><td>SAVINGS ACCOUNT</td></tr><tr><td>Michigan</td><td>Positive</td><td>24</td><td>MOTOR INSURANCE</td></tr><tr><td>Tennessee</td><td>Positive</td><td>24</td><td>PERSONAL LOAN</td></tr><tr><td>California</td><td>Negative</td><td>24</td><td>CAR LOAN</td></tr><tr><td>Kentucky</td><td>Positive</td><td>24</td><td>HOME LOAN</td></tr><tr><td>Oregon</td><td>Positive</td><td>24</td><td>MOTOR INSURANCE</td></tr><tr><td>Texas</td><td>Negative</td><td>24</td><td>CREDIT CARD</td></tr><tr><td>Florida</td><td>Negative</td><td>24</td><td>FIXED DEPOSIT</td></tr><tr><td>Minnesota</td><td>Positive</td><td>23</td><td>PERSONAL LOAN</td></tr><tr><td>Washington</td><td>Positive</td><td>23</td><td>HEALTH INSURANCE</td></tr><tr><td>Mississippi</td><td>Positive</td><td>23</td><td>LIFE INSURANCE</td></tr><tr><td>Pennsylvania</td><td>Negative</td><td>23</td><td>MOTOR INSURANCE</td></tr><tr><td>Pennsylvania</td><td>Negative</td><td>23</td><td>CREDIT CARD</td></tr><tr><td>Ohio</td><td>Negative</td><td>23</td><td>FIXED DEPOSIT</td></tr><tr><td>North Carolina</td><td>Positive</td><td>23</td><td>HOME INSURANCE</td></tr><tr><td>New York</td><td>Positive</td><td>23</td><td>EQUITIES</td></tr><tr><td>Florida</td><td>Negative</td><td>23</td><td>EDUCATIONAL LOAN</td></tr><tr><td>Kentucky</td><td>Positive</td><td>23</td><td>HEALTH INSURANCE</td></tr><tr><td>Illinois</td><td>Positive</td><td>23</td><td>PERSONAL LOAN</td></tr><tr><td>Florida</td><td>Negative</td><td>23</td><td>HOME INSURANCE</td></tr><tr><td>Louisiana</td><td>Positive</td><td>23</td><td>LIFE INSURANCE</td></tr><tr><td>Florida</td><td>Negative</td><td>23</td><td>SAVINGS ACCOUNT</td></tr><tr><td>District of Columbia</td><td>Negative</td><td>23</td><td>MOTOR INSURANCE</td></tr><tr><td>Colorado</td><td>Positive</td><td>23</td><td>HOME INSURANCE</td></tr><tr><td>Maryland</td><td>Positive</td><td>23</td><td>SAVINGS ACCOUNT</td></tr><tr><td>Arizona</td><td>Positive</td><td>23</td><td>HEALTH INSURANCE</td></tr><tr><td>Massachusetts</td><td>Positive</td><td>23</td><td>PERSONAL LOAN</td></tr><tr><td>Ohio</td><td>Positive</td><td>22</td><td>EQUITIES</td></tr><tr><td>Maryland</td><td>Positive</td><td>22</td><td>FIXED DEPOSIT</td></tr><tr><td>Minnesota</td><td>Positive</td><td>22</td><td>HOME INSURANCE</td></tr><tr><td>Colorado</td><td>Positive</td><td>22</td><td>CAR LOAN</td></tr><tr><td>Georgia</td><td>Positive</td><td>22</td><td>PERSONAL LOAN</td></tr><tr><td>Hawaii</td><td>Positive</td><td>22</td><td>LIFE INSURANCE</td></tr><tr><td>Nebraska</td><td>Positive</td><td>22</td><td>HOME LOAN</td></tr><tr><td>Oklahoma</td><td>Positive</td><td>22</td><td>CREDIT CARD</td></tr><tr><td>Massachusetts</td><td>Positive</td><td>22</td><td>CREDIT CARD</td></tr><tr><td>Georgia</td><td>Positive</td><td>22</td><td>MUTUAL FUNDS</td></tr><tr><td>Texas</td><td>Negative</td><td>21</td><td>MOTOR INSURANCE</td></tr><tr><td>Florida</td><td>Positive</td><td>21</td><td>MOTOR INSURANCE</td></tr><tr><td>Indiana</td><td>Positive</td><td>21</td><td>HOME INSURANCE</td></tr><tr><td>Michigan</td><td>Positive</td><td>21</td><td>HOME LOAN</td></tr><tr><td>Georgia</td><td>Negative</td><td>21</td><td>HOME LOAN</td></tr><tr><td>New Hampshire</td><td>Positive</td><td>21</td><td>CAR LOAN</td></tr><tr><td>Ohio</td><td>Negative</td><td>21</td><td>HEALTH INSURANCE</td></tr><tr><td>South Carolina</td><td>Positive</td><td>21</td><td>HOME INSURANCE</td></tr><tr><td>New York</td><td>Negative</td><td>21</td><td>LIFE INSURANCE</td></tr><tr><td>West Virginia</td><td>Negative</td><td>20</td><td>PERSONAL LOAN</td></tr><tr><td>Oregon</td><td>Positive</td><td>20</td><td>FIXED DEPOSIT</td></tr><tr><td>Nebraska</td><td>Positive</td><td>20</td><td>EDUCATIONAL LOAN</td></tr><tr><td>Georgia</td><td>Positive</td><td>20</td><td>HEALTH INSURANCE</td></tr><tr><td>Ohio</td><td>Positive</td><td>20</td><td>CAR LOAN</td></tr><tr><td>District of Columbia</td><td>Positive</td><td>20</td><td>FIXED DEPOSIT</td></tr><tr><td>Nevada</td><td>Positive</td><td>20</td><td>SAVINGS ACCOUNT</td></tr><tr><td>New York</td><td>Negative</td><td>20</td><td>MUTUAL FUNDS</td></tr><tr><td>Michigan</td><td>Positive</td><td>20</td><td>PERSONAL LOAN</td></tr><tr><td>New Jersey</td><td>Positive</td><td>20</td><td>CREDIT CARD</td></tr><tr><td>Indiana</td><td>Positive</td><td>20</td><td>PERSONAL LOAN</td></tr><tr><td>New Jersey</td><td>Positive</td><td>20</td><td>HOME LOAN</td></tr><tr><td>Nevada</td><td>Positive</td><td>20</td><td>HOME INSURANCE</td></tr><tr><td>Kentucky</td><td>Positive</td><td>20</td><td>HOME INSURANCE</td></tr><tr><td>Iowa</td><td>Positive</td><td>20</td><td>FIXED DEPOSIT</td></tr><tr><td>Wisconsin</td><td>Negative</td><td>20</td><td>LIFE INSURANCE</td></tr><tr><td>Texas</td><td>Negative</td><td>19</td><td>SAVINGS ACCOUNT</td></tr><tr><td>Colorado</td><td>Positive</td><td>19</td><td>HEALTH INSURANCE</td></tr><tr><td>Illinois</td><td>Positive</td><td>19</td><td>HOME LOAN</td></tr><tr><td>Florida</td><td>Negative</td><td>19</td><td>MUTUAL FUNDS</td></tr><tr><td>Massachusetts</td><td>Positive</td><td>19</td><td>HEALTH INSURANCE</td></tr><tr><td>Nebraska</td><td>Positive</td><td>19</td><td>HEALTH INSURANCE</td></tr><tr><td>Nevada</td><td>Positive</td><td>19</td><td>FIXED DEPOSIT</td></tr><tr><td>Minnesota</td><td>Positive</td><td>19</td><td>LIFE INSURANCE</td></tr><tr><td>Missouri</td><td>Positive</td><td>19</td><td>FIXED DEPOSIT</td></tr><tr><td>Kansas</td><td>Positive</td><td>19</td><td>CAR LOAN</td></tr><tr><td>New York</td><td>Positive</td><td>19</td><td>CURRENT ACCOUNT</td></tr><tr><td>Tennessee</td><td>Positive</td><td>19</td><td>MOTOR INSURANCE</td></tr><tr><td>South Dakota</td><td>Positive</td><td>19</td><td>CAR LOAN</td></tr><tr><td>Minnesota</td><td>Positive</td><td>19</td><td>HEALTH INSURANCE</td></tr><tr><td>Wisconsin</td><td>Negative</td><td>18</td><td>PERSONAL LOAN</td></tr><tr><td>District of Columbia</td><td>Negative</td><td>18</td><td>CREDIT CARD</td></tr><tr><td>Illinois</td><td>Positive</td><td>18</td><td>EDUCATIONAL LOAN</td></tr><tr><td>Nebraska</td><td>Positive</td><td>18</td><td>LIFE INSURANCE</td></tr><tr><td>Louisiana</td><td>Positive</td><td>18</td><td>CREDIT CARD</td></tr><tr><td>Maryland</td><td>Positive</td><td>18</td><td>EDUCATIONAL LOAN</td></tr><tr><td>Mississippi</td><td>Positive</td><td>18</td><td>EQUITIES</td></tr><tr><td>Pennsylvania</td><td>Negative</td><td>18</td><td>HOME LOAN</td></tr><tr><td>Oregon</td><td>Positive</td><td>18</td><td>LIFE INSURANCE</td></tr><tr><td>Maryland</td><td>Positive</td><td>18</td><td>CAR LOAN</td></tr><tr><td>New York</td><td>Negative</td><td>18</td><td>FIXED DEPOSIT</td></tr><tr><td>Wisconsin</td><td>Negative</td><td>18</td><td>CREDIT CARD</td></tr><tr><td>West Virginia</td><td>Negative</td><td>18</td><td>FIXED DEPOSIT</td></tr><tr><td>Maryland</td><td>Positive</td><td>18</td><td>PERSONAL LOAN</td></tr><tr><td>District of Columbia</td><td>Negative</td><td>17</td><td>SAVINGS ACCOUNT</td></tr><tr><td>Ohio</td><td>Negative</td><td>17</td><td>EQUITIES</td></tr><tr><td>Nevada</td><td>Positive</td><td>17</td><td>CREDIT CARD</td></tr><tr><td>Arizona</td><td>Positive</td><td>17</td><td>MUTUAL FUNDS</td></tr><tr><td>Iowa</td><td>Positive</td><td>17</td><td>PERSONAL LOAN</td></tr><tr><td>New York</td><td>Negative</td><td>17</td><td>SAVINGS ACCOUNT</td></tr><tr><td>Arizona</td><td>Positive</td><td>17</td><td>LIFE INSURANCE</td></tr><tr><td>Minnesota</td><td>Positive</td><td>17</td><td>HOME LOAN</td></tr><tr><td>North Carolina</td><td>Positive</td><td>17</td><td>MOTOR INSURANCE</td></tr><tr><td>New Jersey</td><td>Positive</td><td>17</td><td>CAR LOAN</td></tr><tr><td>Michigan</td><td>Positive</td><td>17</td><td>CURRENT ACCOUNT</td></tr><tr><td>District of Columbia</td><td>Positive</td><td>17</td><td>MUTUAL FUNDS</td></tr><tr><td>Maryland</td><td>Positive</td><td>17</td><td>CURRENT ACCOUNT</td></tr><tr><td>California</td><td>Negative</td><td>17</td><td>HOME LOAN</td></tr><tr><td>Iowa</td><td>Positive</td><td>17</td><td>EDUCATIONAL LOAN</td></tr><tr><td>Pennsylvania</td><td>Positive</td><td>17</td><td>MOTOR INSURANCE</td></tr><tr><td>Arkansas</td><td>Negative</td><td>17</td><td>LIFE INSURANCE</td></tr><tr><td>Massachusetts</td><td>Positive</td><td>17</td><td>FIXED DEPOSIT</td></tr><tr><td>Washington</td><td>Positive</td><td>17</td><td>PERSONAL LOAN</td></tr><tr><td>Wisconsin</td><td>Negative</td><td>16</td><td>SAVINGS ACCOUNT</td></tr><tr><td>Virginia</td><td>Negative</td><td>16</td><td>CREDIT CARD</td></tr><tr><td>Georgia</td><td>Positive</td><td>16</td><td>EDUCATIONAL LOAN</td></tr><tr><td>Washington</td><td>Positive</td><td>16</td><td>EQUITIES</td></tr><tr><td>Nevada</td><td>Negative</td><td>16</td><td>CREDIT CARD</td></tr><tr><td>Alabama</td><td>Positive</td><td>16</td><td>EDUCATIONAL LOAN</td></tr><tr><td>Wisconsin</td><td>Negative</td><td>16</td><td>HOME LOAN</td></tr><tr><td>Alabama</td><td>Negative</td><td>16</td><td>CREDIT CARD</td></tr><tr><td>Mississippi</td><td>Positive</td><td>16</td><td>SAVINGS ACCOUNT</td></tr><tr><td>Utah</td><td>Positive</td><td>16</td><td>CREDIT CARD</td></tr><tr><td>West Virginia</td><td>Negative</td><td>16</td><td>HEALTH INSURANCE</td></tr><tr><td>Colorado</td><td>Positive</td><td>16</td><td>HOME LOAN</td></tr><tr><td>South Carolina</td><td>Positive</td><td>16</td><td>FIXED DEPOSIT</td></tr><tr><td>Utah</td><td>Positive</td><td>16</td><td>PERSONAL LOAN</td></tr><tr><td>Minnesota</td><td>Positive</td><td>16</td><td>CAR LOAN</td></tr><tr><td>Arizona</td><td>Negative</td><td>16</td><td>MUTUAL FUNDS</td></tr><tr><td>Washington</td><td>Positive</td><td>16</td><td>FIXED DEPOSIT</td></tr><tr><td>Tennessee</td><td>Positive</td><td>16</td><td>EDUCATIONAL LOAN</td></tr><tr><td>Pennsylvania</td><td>Positive</td><td>16</td><td>EQUITIES</td></tr><tr><td>District of Columbia</td><td>Negative</td><td>16</td><td>HOME LOAN</td></tr><tr><td>Texas</td><td>Negative</td><td>16</td><td>HOME INSURANCE</td></tr><tr><td>Nevada</td><td>Negative</td><td>16</td><td>FIXED DEPOSIT</td></tr><tr><td>North Carolina</td><td>Positive</td><td>16</td><td>LIFE INSURANCE</td></tr><tr><td>Pennsylvania</td><td>Negative</td><td>16</td><td>CAR LOAN</td></tr><tr><td>Nebraska</td><td>Positive</td><td>15</td><td>MUTUAL FUNDS</td></tr><tr><td>Tennessee</td><td>Positive</td><td>15</td><td>LIFE INSURANCE</td></tr><tr><td>Mississippi</td><td>Positive</td><td>15</td><td>CREDIT CARD</td></tr><tr><td>Kentucky</td><td>Positive</td><td>15</td><td>EDUCATIONAL LOAN</td></tr><tr><td>New York</td><td>Negative</td><td>15</td><td>CAR LOAN</td></tr><tr><td>North Carolina</td><td>Positive</td><td>15</td><td>EQUITIES</td></tr><tr><td>Tennessee</td><td>Positive</td><td>15</td><td>HOME INSURANCE</td></tr><tr><td>Missouri</td><td>Positive</td><td>15</td><td>PERSONAL LOAN</td></tr><tr><td>Kansas</td><td>Positive</td><td>15</td><td>CURRENT ACCOUNT</td></tr><tr><td>Illinois</td><td>Positive</td><td>15</td><td>EQUITIES</td></tr><tr><td>New Jersey</td><td>Positive</td><td>15</td><td>SAVINGS ACCOUNT</td></tr><tr><td>Wyoming</td><td>Positive</td><td>15</td><td>EQUITIES</td></tr><tr><td>Alabama</td><td>Positive</td><td>15</td><td>HOME INSURANCE</td></tr><tr><td>Iowa</td><td>Positive</td><td>15</td><td>MUTUAL FUNDS</td></tr><tr><td>Virginia</td><td>Negative</td><td>15</td><td>SAVINGS ACCOUNT</td></tr><tr><td>Georgia</td><td>Negative</td><td>15</td><td>EDUCATIONAL LOAN</td></tr><tr><td>Wyoming</td><td>Positive</td><td>15</td><td>EDUCATIONAL LOAN</td></tr><tr><td>North Carolina</td><td>Positive</td><td>15</td><td>EDUCATIONAL LOAN</td></tr><tr><td>South Carolina</td><td>Positive</td><td>15</td><td>EQUITIES</td></tr><tr><td>Texas</td><td>Negative</td><td>15</td><td>HEALTH INSURANCE</td></tr><tr><td>Kentucky</td><td>Positive</td><td>15</td><td>FIXED DEPOSIT</td></tr><tr><td>West Virginia</td><td>Negative</td><td>15</td><td>CREDIT CARD</td></tr><tr><td>New Jersey</td><td>Positive</td><td>15</td><td>PERSONAL LOAN</td></tr><tr><td>Nevada</td><td>Positive</td><td>15</td><td>HOME LOAN</td></tr><tr><td>District of Columbia</td><td>Negative</td><td>15</td><td>HOME INSURANCE</td></tr><tr><td>Oregon</td><td>Positive</td><td>15</td><td>EDUCATIONAL LOAN</td></tr><tr><td>Missouri</td><td>Positive</td><td>15</td><td>MOTOR INSURANCE</td></tr><tr><td>Iowa</td><td>Positive</td><td>15</td><td>CURRENT ACCOUNT</td></tr><tr><td>Ohio</td><td>Negative</td><td>15</td><td>PERSONAL LOAN</td></tr><tr><td>District of Columbia</td><td>Negative</td><td>14</td><td>LIFE INSURANCE</td></tr><tr><td>Oklahoma</td><td>Positive</td><td>14</td><td>PERSONAL LOAN</td></tr><tr><td>Tennessee</td><td>Positive</td><td>14</td><td>CURRENT ACCOUNT</td></tr><tr><td>Texas</td><td>Negative</td><td>14</td><td>CAR LOAN</td></tr><tr><td>Kentucky</td><td>Positive</td><td>14</td><td>LIFE INSURANCE</td></tr><tr><td>Minnesota</td><td>Positive</td><td>14</td><td>EQUITIES</td></tr><tr><td>Ohio</td><td>Negative</td><td>14</td><td>MOTOR INSURANCE</td></tr><tr><td>New Mexico</td><td>Positive</td><td>14</td><td>HEALTH INSURANCE</td></tr><tr><td>Montana</td><td>Positive</td><td>14</td><td>HOME LOAN</td></tr><tr><td>Nebraska</td><td>Positive</td><td>14</td><td>FIXED DEPOSIT</td></tr><tr><td>Nevada</td><td>Positive</td><td>14</td><td>PERSONAL LOAN</td></tr><tr><td>Minnesota</td><td>Positive</td><td>14</td><td>FIXED DEPOSIT</td></tr><tr><td>Nebraska</td><td>Negative</td><td>14</td><td>CREDIT CARD</td></tr><tr><td>Maryland</td><td>Positive</td><td>14</td><td>HOME LOAN</td></tr><tr><td>New Jersey</td><td>Positive</td><td>14</td><td>HOME INSURANCE</td></tr><tr><td>New Mexico</td><td>Positive</td><td>14</td><td>CREDIT CARD</td></tr><tr><td>New Hampshire</td><td>Positive</td><td>14</td><td>LIFE INSURANCE</td></tr><tr><td>District of Columbia</td><td>Positive</td><td>14</td><td>EDUCATIONAL LOAN</td></tr><tr><td>South Carolina</td><td>Positive</td><td>14</td><td>PERSONAL LOAN</td></tr><tr><td>Oklahoma</td><td>Positive</td><td>14</td><td>LIFE INSURANCE</td></tr><tr><td>California</td><td>Negative</td><td>14</td><td>CURRENT ACCOUNT</td></tr><tr><td>Connecticut</td><td>Positive</td><td>14</td><td>EQUITIES</td></tr><tr><td>Colorado</td><td>Positive</td><td>14</td><td>MOTOR INSURANCE</td></tr><tr><td>Virginia</td><td>Negative</td><td>14</td><td>HEALTH INSURANCE</td></tr><tr><td>Colorado</td><td>Positive</td><td>14</td><td>SAVINGS ACCOUNT</td></tr><tr><td>Iowa</td><td>Positive</td><td>14</td><td>HOME LOAN</td></tr><tr><td>Washington</td><td>Positive</td><td>14</td><td>CAR LOAN</td></tr><tr><td>Utah</td><td>Positive</td><td>13</td><td>SAVINGS ACCOUNT</td></tr><tr><td>Iowa</td><td>Positive</td><td>13</td><td>HEALTH INSURANCE</td></tr><tr><td>Washington</td><td>Positive</td><td>13</td><td>MUTUAL FUNDS</td></tr><tr><td>Pennsylvania</td><td>Positive</td><td>13</td><td>CAR LOAN</td></tr><tr><td>Alabama</td><td>Positive</td><td>13</td><td>EQUITIES</td></tr><tr><td>New Hampshire</td><td>Positive</td><td>13</td><td>HEALTH INSURANCE</td></tr><tr><td>Iowa</td><td>Positive</td><td>13</td><td>LIFE INSURANCE</td></tr><tr><td>Kansas</td><td>Positive</td><td>13</td><td>EDUCATIONAL LOAN</td></tr><tr><td>Nebraska</td><td>Positive</td><td>13</td><td>HOME INSURANCE</td></tr><tr><td>New Hampshire</td><td>Positive</td><td>13</td><td>CREDIT CARD</td></tr><tr><td>Washington</td><td>Positive</td><td>13</td><td>MOTOR INSURANCE</td></tr><tr><td>Colorado</td><td>Positive</td><td>13</td><td>EQUITIES</td></tr><tr><td>Nevada</td><td>Positive</td><td>13</td><td>MOTOR INSURANCE</td></tr><tr><td>Texas</td><td>Negative</td><td>13</td><td>HOME LOAN</td></tr><tr><td>Missouri</td><td>Negative</td><td>13</td><td>CAR LOAN</td></tr><tr><td>Missouri</td><td>Positive</td><td>13</td><td>CAR LOAN</td></tr><tr><td>Colorado</td><td>Positive</td><td>13</td><td>FIXED DEPOSIT</td></tr><tr><td>Oregon</td><td>Positive</td><td>13</td><td>SAVINGS ACCOUNT</td></tr><tr><td>North Carolina</td><td>Negative</td><td>13</td><td>EDUCATIONAL LOAN</td></tr><tr><td>Utah</td><td>Positive</td><td>13</td><td>MUTUAL FUNDS</td></tr><tr><td>New Mexico</td><td>Positive</td><td>13</td><td>SAVINGS ACCOUNT</td></tr><tr><td>Colorado</td><td>Negative</td><td>13</td><td>HOME LOAN</td></tr><tr><td>California</td><td>Negative</td><td>13</td><td>MUTUAL FUNDS</td></tr><tr><td>Oklahoma</td><td>Positive</td><td>13</td><td>MOTOR INSURANCE</td></tr><tr><td>Tennessee</td><td>Positive</td><td>13</td><td>CAR LOAN</td></tr><tr><td>South Dakota</td><td>Positive</td><td>13</td><td>MOTOR INSURANCE</td></tr><tr><td>Missouri</td><td>Negative</td><td>13</td><td>CREDIT CARD</td></tr><tr><td>Nebraska</td><td>Positive</td><td>12</td><td>SAVINGS ACCOUNT</td></tr><tr><td>Nebraska</td><td>Negative</td><td>12</td><td>SAVINGS ACCOUNT</td></tr><tr><td>Washington</td><td>Positive</td><td>12</td><td>HOME LOAN</td></tr><tr><td>Pennsylvania</td><td>Negative</td><td>12</td><td>SAVINGS ACCOUNT</td></tr><tr><td>Alaska</td><td>Positive</td><td>12</td><td>CREDIT CARD</td></tr><tr><td>Tennessee</td><td>Negative</td><td>12</td><td>SAVINGS ACCOUNT</td></tr><tr><td>Oklahoma</td><td>Positive</td><td>12</td><td>FIXED DEPOSIT</td></tr><tr><td>Oklahoma</td><td>Positive</td><td>12</td><td>EDUCATIONAL LOAN</td></tr><tr><td>Missouri</td><td>Negative</td><td>12</td><td>HOME INSURANCE</td></tr><tr><td>Michigan</td><td>Positive</td><td>12</td><td>HOME INSURANCE</td></tr><tr><td>Kentucky</td><td>Positive</td><td>12</td><td>MUTUAL FUNDS</td></tr><tr><td>Mississippi</td><td>Positive</td><td>12</td><td>MOTOR INSURANCE</td></tr><tr><td>Alabama</td><td>Positive</td><td>12</td><td>SAVINGS ACCOUNT</td></tr><tr><td>Tennessee</td><td>Negative</td><td>12</td><td>PERSONAL LOAN</td></tr><tr><td>Tennessee</td><td>Positive</td><td>12</td><td>MUTUAL FUNDS</td></tr><tr><td>Nebraska</td><td>Positive</td><td>12</td><td>EQUITIES</td></tr><tr><td>Kentucky</td><td>Positive</td><td>12</td><td>CAR LOAN</td></tr><tr><td>Hawaii</td><td>Positive</td><td>12</td><td>SAVINGS ACCOUNT</td></tr><tr><td>Minnesota</td><td>Positive</td><td>12</td><td>MOTOR INSURANCE</td></tr><tr><td>Colorado</td><td>Positive</td><td>12</td><td>PERSONAL LOAN</td></tr><tr><td>Georgia</td><td>Negative</td><td>12</td><td>PERSONAL LOAN</td></tr><tr><td>Pennsylvania</td><td>Negative</td><td>12</td><td>PERSONAL LOAN</td></tr><tr><td>Missouri</td><td>Negative</td><td>12</td><td>SAVINGS ACCOUNT</td></tr><tr><td>Mississippi</td><td>Positive</td><td>12</td><td>PERSONAL LOAN</td></tr><tr><td>Oregon</td><td>Negative</td><td>12</td><td>LIFE INSURANCE</td></tr><tr><td>Nebraska</td><td>Negative</td><td>12</td><td>FIXED DEPOSIT</td></tr><tr><td>Alaska</td><td>Negative</td><td>12</td><td>FIXED DEPOSIT</td></tr><tr><td>Alaska</td><td>Negative</td><td>12</td><td>EQUITIES</td></tr><tr><td>Louisiana</td><td>Positive</td><td>12</td><td>FIXED DEPOSIT</td></tr><tr><td>Texas</td><td>Negative</td><td>11</td><td>EDUCATIONAL LOAN</td></tr><tr><td>Alaska</td><td>Positive</td><td>11</td><td>LIFE INSURANCE</td></tr><tr><td>West Virginia</td><td>Negative</td><td>11</td><td>LIFE INSURANCE</td></tr><tr><td>Alabama</td><td>Negative</td><td>11</td><td>SAVINGS ACCOUNT</td></tr><tr><td>California</td><td>Negative</td><td>11</td><td>PERSONAL LOAN</td></tr><tr><td>New York</td><td>Negative</td><td>11</td><td>EDUCATIONAL LOAN</td></tr><tr><td>Georgia</td><td>Negative</td><td>11</td><td>CAR LOAN</td></tr><tr><td>Louisiana</td><td>Negative</td><td>11</td><td>PERSONAL LOAN</td></tr><tr><td>Virginia</td><td>Positive</td><td>11</td><td>CURRENT ACCOUNT</td></tr><tr><td>Iowa</td><td>Positive</td><td>11</td><td>CAR LOAN</td></tr><tr><td>New Jersey</td><td>Positive</td><td>11</td><td>LIFE INSURANCE</td></tr><tr><td>Illinois</td><td>Positive</td><td>11</td><td>CAR LOAN</td></tr><tr><td>Nevada</td><td>Positive</td><td>11</td><td>CURRENT ACCOUNT</td></tr><tr><td>Kentucky</td><td>Positive</td><td>11</td><td>MOTOR INSURANCE</td></tr><tr><td>Washington</td><td>Positive</td><td>11</td><td>SAVINGS ACCOUNT</td></tr><tr><td>Illinois</td><td>Negative</td><td>11</td><td>EDUCATIONAL LOAN</td></tr><tr><td>South Carolina</td><td>Positive</td><td>11</td><td>SAVINGS ACCOUNT</td></tr><tr><td>California</td><td>Negative</td><td>11</td><td>EDUCATIONAL LOAN</td></tr><tr><td>Ohio</td><td>Positive</td><td>11</td><td>CURRENT ACCOUNT</td></tr><tr><td>New Hampshire</td><td>Positive</td><td>11</td><td>SAVINGS ACCOUNT</td></tr><tr><td>Nevada</td><td>Negative</td><td>11</td><td>HOME INSURANCE</td></tr><tr><td>Minnesota</td><td>Positive</td><td>11</td><td>EDUCATIONAL LOAN</td></tr><tr><td>Mississippi</td><td>Positive</td><td>11</td><td>CAR LOAN</td></tr><tr><td>New York</td><td>Negative</td><td>11</td><td>PERSONAL LOAN</td></tr><tr><td>Louisiana</td><td>Positive</td><td>11</td><td>MOTOR INSURANCE</td></tr><tr><td>Arizona</td><td>Negative</td><td>11</td><td>SAVINGS ACCOUNT</td></tr><tr><td>Georgia</td><td>Negative</td><td>11</td><td>CREDIT CARD</td></tr><tr><td>Iowa</td><td>Negative</td><td>11</td><td>HOME LOAN</td></tr><tr><td>Missouri</td><td>Negative</td><td>11</td><td>HEALTH INSURANCE</td></tr><tr><td>South Carolina</td><td>Positive</td><td>11</td><td>HOME LOAN</td></tr><tr><td>District of Columbia</td><td>Negative</td><td>11</td><td>CAR LOAN</td></tr><tr><td>Iowa</td><td>Negative</td><td>11</td><td>SAVINGS ACCOUNT</td></tr><tr><td>Illinois</td><td>Positive</td><td>10</td><td>CURRENT ACCOUNT</td></tr><tr><td>Tennessee</td><td>Positive</td><td>10</td><td>EQUITIES</td></tr><tr><td>North Carolina</td><td>Positive</td><td>10</td><td>MUTUAL FUNDS</td></tr><tr><td>Alabama</td><td>Positive</td><td>10</td><td>FIXED DEPOSIT</td></tr><tr><td>Connecticut</td><td>Positive</td><td>10</td><td>CREDIT CARD</td></tr><tr><td>Nebraska</td><td>Negative</td><td>10</td><td>HOME LOAN</td></tr><tr><td>Ohio</td><td>Negative</td><td>10</td><td>HOME INSURANCE</td></tr><tr><td>Virginia</td><td>Negative</td><td>10</td><td>HOME INSURANCE</td></tr><tr><td>West Virginia</td><td>Negative</td><td>10</td><td>EQUITIES</td></tr><tr><td>Wisconsin</td><td>Positive</td><td>10</td><td>CREDIT CARD</td></tr><tr><td>Virginia</td><td>Negative</td><td>10</td><td>CURRENT ACCOUNT</td></tr><tr><td>Maryland</td><td>Positive</td><td>10</td><td>MUTUAL FUNDS</td></tr><tr><td>South Dakota</td><td>Positive</td><td>10</td><td>FIXED DEPOSIT</td></tr><tr><td>South Carolina</td><td>Positive</td><td>10</td><td>MOTOR INSURANCE</td></tr><tr><td>Indiana</td><td>Positive</td><td>10</td><td>CURRENT ACCOUNT</td></tr><tr><td>Ohio</td><td>Negative</td><td>10</td><td>SAVINGS ACCOUNT</td></tr><tr><td>Oregon</td><td>Positive</td><td>10</td><td>PERSONAL LOAN</td></tr><tr><td>Alabama</td><td>Negative</td><td>10</td><td>FIXED DEPOSIT</td></tr><tr><td>Hawaii</td><td>Positive</td><td>10</td><td>HEALTH INSURANCE</td></tr><tr><td>Washington</td><td>Positive</td><td>10</td><td>EDUCATIONAL LOAN</td></tr><tr><td>Missouri</td><td>Positive</td><td>10</td><td>LIFE INSURANCE</td></tr><tr><td>Alabama</td><td>Positive</td><td>10</td><td>LIFE INSURANCE</td></tr><tr><td>Georgia</td><td>Negative</td><td>10</td><td>HOME INSURANCE</td></tr><tr><td>Montana</td><td>Positive</td><td>10</td><td>MOTOR INSURANCE</td></tr><tr><td>Louisiana</td><td>Positive</td><td>10</td><td>HOME INSURANCE</td></tr><tr><td>New Hampshire</td><td>Positive</td><td>10</td><td>MOTOR INSURANCE</td></tr><tr><td>Louisiana</td><td>Negative</td><td>10</td><td>CAR LOAN</td></tr><tr><td>Arkansas</td><td>Positive</td><td>10</td><td>LIFE INSURANCE</td></tr><tr><td>Mississippi</td><td>Positive</td><td>10</td><td>EDUCATIONAL LOAN</td></tr><tr><td>North Carolina</td><td>Negative</td><td>10</td><td>CREDIT CARD</td></tr><tr><td>Massachusetts</td><td>Positive</td><td>10</td><td>HOME INSURANCE</td></tr><tr><td>Ohio</td><td>Positive</td><td>10</td><td>PERSONAL LOAN</td></tr><tr><td>Maryland</td><td>Positive</td><td>10</td><td>EQUITIES</td></tr><tr><td>Michigan</td><td>Positive</td><td>10</td><td>EDUCATIONAL LOAN</td></tr><tr><td>Hawaii</td><td>Positive</td><td>10</td><td>CURRENT ACCOUNT</td></tr><tr><td>Washington</td><td>Positive</td><td>10</td><td>HOME INSURANCE</td></tr><tr><td>Colorado</td><td>Positive</td><td>10</td><td>MUTUAL FUNDS</td></tr><tr><td>Virginia</td><td>Negative</td><td>10</td><td>MOTOR INSURANCE</td></tr><tr><td>Wisconsin</td><td>Positive</td><td>10</td><td>FIXED DEPOSIT</td></tr><tr><td>Minnesota</td><td>Negative</td><td>10</td><td>CAR LOAN</td></tr><tr><td>Pennsylvania</td><td>Positive</td><td>9</td><td>PERSONAL LOAN</td></tr><tr><td>Pennsylvania</td><td>Negative</td><td>9</td><td>FIXED DEPOSIT</td></tr><tr><td>Nebraska</td><td>Negative</td><td>9</td><td>MOTOR INSURANCE</td></tr><tr><td>Utah</td><td>Positive</td><td>9</td><td>CAR LOAN</td></tr><tr><td>Hawaii</td><td>Positive</td><td>9</td><td>PERSONAL LOAN</td></tr><tr><td>Alabama</td><td>Negative</td><td>9</td><td>MUTUAL FUNDS</td></tr><tr><td>Pennsylvania</td><td>Positive</td><td>9</td><td>MUTUAL FUNDS</td></tr><tr><td>Idaho</td><td>Positive</td><td>9</td><td>HOME LOAN</td></tr><tr><td>Oregon</td><td>Positive</td><td>9</td><td>CAR LOAN</td></tr><tr><td>Minnesota</td><td>Negative</td><td>9</td><td>SAVINGS ACCOUNT</td></tr><tr><td>New Jersey</td><td>Positive</td><td>9</td><td>FIXED DEPOSIT</td></tr><tr><td>Oklahoma</td><td>Positive</td><td>9</td><td>CAR LOAN</td></tr><tr><td>Kansas</td><td>Positive</td><td>9</td><td>HOME INSURANCE</td></tr><tr><td>District of Columbia</td><td>Negative</td><td>9</td><td>EDUCATIONAL LOAN</td></tr><tr><td>Oklahoma</td><td>Positive</td><td>9</td><td>HEALTH INSURANCE</td></tr><tr><td>Nebraska</td><td>Positive</td><td>9</td><td>MOTOR INSURANCE</td></tr><tr><td>Illinois</td><td>Negative</td><td>9</td><td>CREDIT CARD</td></tr><tr><td>South Carolina</td><td>Positive</td><td>9</td><td>MUTUAL FUNDS</td></tr><tr><td>Alaska</td><td>Positive</td><td>9</td><td>SAVINGS ACCOUNT</td></tr><tr><td>Michigan</td><td>Positive</td><td>9</td><td>MUTUAL FUNDS</td></tr><tr><td>Nevada</td><td>Positive</td><td>9</td><td>CAR LOAN</td></tr><tr><td>Missouri</td><td>Negative</td><td>8</td><td>EQUITIES</td></tr><tr><td>West Virginia</td><td>Negative</td><td>8</td><td>MUTUAL FUNDS</td></tr><tr><td>Alabama</td><td>Negative</td><td>8</td><td>EQUITIES</td></tr><tr><td>South Carolina</td><td>Positive</td><td>8</td><td>LIFE INSURANCE</td></tr><tr><td>South Carolina</td><td>Positive</td><td>8</td><td>CAR LOAN</td></tr><tr><td>Idaho</td><td>Positive</td><td>8</td><td>CAR LOAN</td></tr><tr><td>Virginia</td><td>Positive</td><td>8</td><td>MUTUAL FUNDS</td></tr><tr><td>New Mexico</td><td>Positive</td><td>8</td><td>EDUCATIONAL LOAN</td></tr><tr><td>Pennsylvania</td><td>Negative</td><td>8</td><td>EQUITIES</td></tr><tr><td>Oklahoma</td><td>Positive</td><td>8</td><td>SAVINGS ACCOUNT</td></tr><tr><td>Louisiana</td><td>Positive</td><td>8</td><td>CAR LOAN</td></tr><tr><td>Pennsylvania</td><td>Negative</td><td>8</td><td>CURRENT ACCOUNT</td></tr><tr><td>New York</td><td>Negative</td><td>8</td><td>HOME INSURANCE</td></tr><tr><td>Connecticut</td><td>Positive</td><td>8</td><td>CURRENT ACCOUNT</td></tr><tr><td>Wisconsin</td><td>Positive</td><td>8</td><td>MOTOR INSURANCE</td></tr><tr><td>District of Columbia</td><td>Positive</td><td>8</td><td>CURRENT ACCOUNT</td></tr><tr><td>District of Columbia</td><td>Negative</td><td>8</td><td>PERSONAL LOAN</td></tr><tr><td>Utah</td><td>Negative</td><td>8</td><td>CAR LOAN</td></tr><tr><td>Hawaii</td><td>Positive</td><td>8</td><td>CREDIT CARD</td></tr><tr><td>Louisiana</td><td>Negative</td><td>8</td><td>CREDIT CARD</td></tr><tr><td>Minnesota</td><td>Positive</td><td>8</td><td>MUTUAL FUNDS</td></tr><tr><td>Washington</td><td>Negative</td><td>8</td><td>EQUITIES</td></tr><tr><td>South Dakota</td><td>Positive</td><td>8</td><td>PERSONAL LOAN</td></tr><tr><td>Texas</td><td>Negative</td><td>8</td><td>LIFE INSURANCE</td></tr><tr><td>Utah</td><td>Positive</td><td>8</td><td>EQUITIES</td></tr><tr><td>Minnesota</td><td>Negative</td><td>8</td><td>MOTOR INSURANCE</td></tr><tr><td>Connecticut</td><td>Positive</td><td>8</td><td>SAVINGS ACCOUNT</td></tr><tr><td>Wisconsin</td><td>Positive</td><td>8</td><td>CAR LOAN</td></tr><tr><td>Massachusetts</td><td>Positive</td><td>8</td><td>MOTOR INSURANCE</td></tr><tr><td>Colorado</td><td>Negative</td><td>8</td><td>MOTOR INSURANCE</td></tr><tr><td>Arizona</td><td>Positive</td><td>8</td><td>CURRENT ACCOUNT</td></tr><tr><td>Oregon</td><td>Positive</td><td>8</td><td>HEALTH INSURANCE</td></tr><tr><td>Colorado</td><td>Positive</td><td>8</td><td>CURRENT ACCOUNT</td></tr><tr><td>Mississippi</td><td>Positive</td><td>8</td><td>HEALTH INSURANCE</td></tr><tr><td>Colorado</td><td>Negative</td><td>8</td><td>SAVINGS ACCOUNT</td></tr><tr><td>Illinois</td><td>Negative</td><td>8</td><td>HOME LOAN</td></tr><tr><td>Florida</td><td>Negative</td><td>7</td><td>EQUITIES</td></tr><tr><td>Oklahoma</td><td>Negative</td><td>7</td><td>CAR LOAN</td></tr><tr><td>New Hampshire</td><td>Positive</td><td>7</td><td>PERSONAL LOAN</td></tr><tr><td>Alabama</td><td>Negative</td><td>7</td><td>EDUCATIONAL LOAN</td></tr><tr><td>Illinois</td><td>Negative</td><td>7</td><td>SAVINGS ACCOUNT</td></tr><tr><td>Nevada</td><td>Positive</td><td>7</td><td>MUTUAL FUNDS</td></tr><tr><td>Oklahoma</td><td>Negative</td><td>7</td><td>HEALTH INSURANCE</td></tr><tr><td>Oklahoma</td><td>Negative</td><td>7</td><td>EQUITIES</td></tr><tr><td>Virginia</td><td>Negative</td><td>7</td><td>MUTUAL FUNDS</td></tr><tr><td>Oklahoma</td><td>Negative</td><td>7</td><td>CREDIT CARD</td></tr><tr><td>Idaho</td><td>Positive</td><td>7</td><td>CREDIT CARD</td></tr><tr><td>District of Columbia</td><td>Negative</td><td>7</td><td>CURRENT ACCOUNT</td></tr><tr><td>Arkansas</td><td>Positive</td><td>7</td><td>CREDIT CARD</td></tr><tr><td>Colorado</td><td>Negative</td><td>7</td><td>HEALTH INSURANCE</td></tr><tr><td>Tennessee</td><td>Negative</td><td>7</td><td>EDUCATIONAL LOAN</td></tr><tr><td>Georgia</td><td>Positive</td><td>7</td><td>CURRENT ACCOUNT</td></tr><tr><td>Tennessee</td><td>Positive</td><td>7</td><td>HOME LOAN</td></tr><tr><td>Florida</td><td>Negative</td><td>7</td><td>MOTOR INSURANCE</td></tr><tr><td>Louisiana</td><td>Negative</td><td>7</td><td>EQUITIES</td></tr><tr><td>Indiana</td><td>Positive</td><td>7</td><td>MUTUAL FUNDS</td></tr><tr><td>New Hampshire</td><td>Positive</td><td>7</td><td>HOME LOAN</td></tr><tr><td>Nebraska</td><td>Negative</td><td>7</td><td>HOME INSURANCE</td></tr><tr><td>Hawaii</td><td>Positive</td><td>7</td><td>CAR LOAN</td></tr><tr><td>Arkansas</td><td>Negative</td><td>7</td><td>SAVINGS ACCOUNT</td></tr><tr><td>Tennessee</td><td>Negative</td><td>7</td><td>CREDIT CARD</td></tr><tr><td>Colorado</td><td>Negative</td><td>7</td><td>CREDIT CARD</td></tr><tr><td>Arkansas</td><td>Negative</td><td>7</td><td>HOME INSURANCE</td></tr><tr><td>Louisiana</td><td>Negative</td><td>7</td><td>SAVINGS ACCOUNT</td></tr><tr><td>Illinois</td><td>Negative</td><td>7</td><td>PERSONAL LOAN</td></tr><tr><td>Missouri</td><td>Positive</td><td>7</td><td>EDUCATIONAL LOAN</td></tr><tr><td>Nevada</td><td>Negative</td><td>7</td><td>HEALTH INSURANCE</td></tr><tr><td>Wisconsin</td><td>Negative</td><td>7</td><td>EDUCATIONAL LOAN</td></tr><tr><td>Alaska</td><td>Positive</td><td>7</td><td>HEALTH INSURANCE</td></tr><tr><td>Oklahoma</td><td>Positive</td><td>7</td><td>HOME LOAN</td></tr><tr><td>North Carolina</td><td>Positive</td><td>7</td><td>CURRENT ACCOUNT</td></tr><tr><td>New Mexico</td><td>Positive</td><td>7</td><td>MOTOR INSURANCE</td></tr><tr><td>New Mexico</td><td>Positive</td><td>7</td><td>CURRENT ACCOUNT</td></tr><tr><td>Alabama</td><td>Positive</td><td>7</td><td>CAR LOAN</td></tr><tr><td>Georgia</td><td>Negative</td><td>7</td><td>MOTOR INSURANCE</td></tr><tr><td>Texas</td><td>Negative</td><td>7</td><td>EQUITIES</td></tr><tr><td>Alabama</td><td>Positive</td><td>7</td><td>PERSONAL LOAN</td></tr><tr><td>Arizona</td><td>Negative</td><td>7</td><td>HEALTH INSURANCE</td></tr><tr><td>Montana</td><td>Positive</td><td>7</td><td>SAVINGS ACCOUNT</td></tr><tr><td>Connecticut</td><td>Positive</td><td>7</td><td>PERSONAL LOAN</td></tr><tr><td>Nebraska</td><td>Negative</td><td>7</td><td>LIFE INSURANCE</td></tr><tr><td>Virginia</td><td>Negative</td><td>7</td><td>HOME LOAN</td></tr><tr><td>Pennsylvania</td><td>Negative</td><td>6</td><td>EDUCATIONAL LOAN</td></tr><tr><td>Oregon</td><td>Negative</td><td>6</td><td>FIXED DEPOSIT</td></tr><tr><td>Virginia</td><td>Negative</td><td>6</td><td>CAR LOAN</td></tr><tr><td>Connecticut</td><td>Negative</td><td>6</td><td>CREDIT CARD</td></tr><tr><td>Connecticut</td><td>Positive</td><td>6</td><td>LIFE INSURANCE</td></tr><tr><td>Iowa</td><td>Negative</td><td>6</td><td>HEALTH INSURANCE</td></tr><tr><td>South Carolina</td><td>Positive</td><td>6</td><td>EDUCATIONAL LOAN</td></tr><tr><td>Oregon</td><td>Negative</td><td>6</td><td>CREDIT CARD</td></tr><tr><td>Ohio</td><td>Negative</td><td>6</td><td>LIFE INSURANCE</td></tr><tr><td>Nevada</td><td>Negative</td><td>6</td><td>CURRENT ACCOUNT</td></tr><tr><td>Arizona</td><td>Negative</td><td>6</td><td>CREDIT CARD</td></tr><tr><td>Maryland</td><td>Positive</td><td>6</td><td>HOME INSURANCE</td></tr><tr><td>Iowa</td><td>Negative</td><td>6</td><td>CREDIT CARD</td></tr><tr><td>Connecticut</td><td>Negative</td><td>6</td><td>SAVINGS ACCOUNT</td></tr><tr><td>Idaho</td><td>Negative</td><td>6</td><td>HOME LOAN</td></tr><tr><td>Oklahoma</td><td>Positive</td><td>6</td><td>HOME INSURANCE</td></tr><tr><td>Utah</td><td>Positive</td><td>6</td><td>FIXED DEPOSIT</td></tr><tr><td>Wisconsin</td><td>Negative</td><td>6</td><td>FIXED DEPOSIT</td></tr><tr><td>Tennessee</td><td>Negative</td><td>6</td><td>HOME INSURANCE</td></tr><tr><td>Oregon</td><td>Negative</td><td>6</td><td>CAR LOAN</td></tr><tr><td>Alaska</td><td>Positive</td><td>6</td><td>PERSONAL LOAN</td></tr><tr><td>Utah</td><td>Negative</td><td>6</td><td>CURRENT ACCOUNT</td></tr><tr><td>Michigan</td><td>Negative</td><td>6</td><td>HOME LOAN</td></tr><tr><td>Idaho</td><td>Positive</td><td>6</td><td>SAVINGS ACCOUNT</td></tr><tr><td>Wisconsin</td><td>Positive</td><td>6</td><td>SAVINGS ACCOUNT</td></tr><tr><td>Hawaii</td><td>Positive</td><td>6</td><td>HOME LOAN</td></tr><tr><td>Ohio</td><td>Negative</td><td>6</td><td>CAR LOAN</td></tr><tr><td>Oregon</td><td>Negative</td><td>6</td><td>CURRENT ACCOUNT</td></tr><tr><td>Oregon</td><td>Negative</td><td>6</td><td>SAVINGS ACCOUNT</td></tr><tr><td>Tennessee</td><td>Negative</td><td>6</td><td>MUTUAL FUNDS</td></tr><tr><td>Utah</td><td>Negative</td><td>6</td><td>MOTOR INSURANCE</td></tr><tr><td>Tennessee</td><td>Negative</td><td>6</td><td>CURRENT ACCOUNT</td></tr><tr><td>Minnesota</td><td>Positive</td><td>6</td><td>CURRENT ACCOUNT</td></tr><tr><td>North Carolina</td><td>Positive</td><td>6</td><td>PERSONAL LOAN</td></tr><tr><td>Nevada</td><td>Negative</td><td>6</td><td>SAVINGS ACCOUNT</td></tr><tr><td>Alaska</td><td>Negative</td><td>6</td><td>SAVINGS ACCOUNT</td></tr><tr><td>Tennessee</td><td>Negative</td><td>6</td><td>CAR LOAN</td></tr><tr><td>Tennessee</td><td>Negative</td><td>6</td><td>LIFE INSURANCE</td></tr><tr><td>Alaska</td><td>Negative</td><td>6</td><td>HEALTH INSURANCE</td></tr><tr><td>Colorado</td><td>Negative</td><td>6</td><td>EQUITIES</td></tr><tr><td>Alaska</td><td>Negative</td><td>6</td><td>CREDIT CARD</td></tr><tr><td>Arizona</td><td>Negative</td><td>6</td><td>PERSONAL LOAN</td></tr><tr><td>Texas</td><td>Negative</td><td>6</td><td>CURRENT ACCOUNT</td></tr><tr><td>Michigan</td><td>Negative</td><td>6</td><td>CAR LOAN</td></tr><tr><td>New Jersey</td><td>Positive</td><td>6</td><td>EQUITIES</td></tr><tr><td>Hawaii</td><td>Positive</td><td>6</td><td>EQUITIES</td></tr><tr><td>Ohio</td><td>Negative</td><td>6</td><td>EDUCATIONAL LOAN</td></tr><tr><td>Georgia</td><td>Negative</td><td>6</td><td>SAVINGS ACCOUNT</td></tr><tr><td>Alabama</td><td>Positive</td><td>6</td><td>HOME LOAN</td></tr><tr><td>Iowa</td><td>Negative</td><td>6</td><td>HOME INSURANCE</td></tr><tr><td>Utah</td><td>Negative</td><td>6</td><td>SAVINGS ACCOUNT</td></tr><tr><td>Alabama</td><td>Negative</td><td>5</td><td>MOTOR INSURANCE</td></tr><tr><td>Nebraska</td><td>Negative</td><td>5</td><td>EQUITIES</td></tr><tr><td>Massachusetts</td><td>Negative</td><td>5</td><td>MUTUAL FUNDS</td></tr><tr><td>Maine</td><td>Negative</td><td>5</td><td>PERSONAL LOAN</td></tr><tr><td>Virginia</td><td>Negative</td><td>5</td><td>PERSONAL LOAN</td></tr><tr><td>Wyoming</td><td>Positive</td><td>5</td><td>SAVINGS ACCOUNT</td></tr><tr><td>North Dakota</td><td>Positive</td><td>5</td><td>PERSONAL LOAN</td></tr><tr><td>Missouri</td><td>Negative</td><td>5</td><td>CURRENT ACCOUNT</td></tr><tr><td>Alaska</td><td>Positive</td><td>5</td><td>EQUITIES</td></tr><tr><td>Utah</td><td>Positive</td><td>5</td><td>MOTOR INSURANCE</td></tr><tr><td>West Virginia</td><td>Negative</td><td>5</td><td>SAVINGS ACCOUNT</td></tr><tr><td>Nevada</td><td>Negative</td><td>5</td><td>MUTUAL FUNDS</td></tr><tr><td>Louisiana</td><td>Positive</td><td>5</td><td>EQUITIES</td></tr><tr><td>Nevada</td><td>Negative</td><td>5</td><td>EQUITIES</td></tr><tr><td>Kentucky</td><td>Positive</td><td>5</td><td>CURRENT ACCOUNT</td></tr><tr><td>Maine</td><td>Negative</td><td>5</td><td>HEALTH INSURANCE</td></tr><tr><td>Louisiana</td><td>Positive</td><td>5</td><td>HOME LOAN</td></tr><tr><td>Louisiana</td><td>Negative</td><td>5</td><td>MOTOR INSURANCE</td></tr><tr><td>North Carolina</td><td>Negative</td><td>5</td><td>SAVINGS ACCOUNT</td></tr><tr><td>North Carolina</td><td>Negative</td><td>5</td><td>HEALTH INSURANCE</td></tr><tr><td>Pennsylvania</td><td>Negative</td><td>5</td><td>MUTUAL FUNDS</td></tr><tr><td>Missouri</td><td>Negative</td><td>5</td><td>MOTOR INSURANCE</td></tr><tr><td>Kansas</td><td>Negative</td><td>5</td><td>PERSONAL LOAN</td></tr><tr><td>Kansas</td><td>Negative</td><td>5</td><td>CREDIT CARD</td></tr><tr><td>Oregon</td><td>Positive</td><td>5</td><td>MUTUAL FUNDS</td></tr><tr><td>Wyoming</td><td>Positive</td><td>5</td><td>MOTOR INSURANCE</td></tr><tr><td>Kansas</td><td>Negative</td><td>5</td><td>SAVINGS ACCOUNT</td></tr><tr><td>Rhode Island</td><td>Positive</td><td>5</td><td>CREDIT CARD</td></tr><tr><td>Washington</td><td>Negative</td><td>5</td><td>SAVINGS ACCOUNT</td></tr><tr><td>North Dakota</td><td>Positive</td><td>5</td><td>HEALTH INSURANCE</td></tr><tr><td>North Dakota</td><td>Positive</td><td>5</td><td>HOME LOAN</td></tr><tr><td>Wyoming</td><td>Positive</td><td>5</td><td>CURRENT ACCOUNT</td></tr><tr><td>Idaho</td><td>Positive</td><td>5</td><td>HEALTH INSURANCE</td></tr><tr><td>Iowa</td><td>Negative</td><td>5</td><td>CAR LOAN</td></tr><tr><td>Nebraska</td><td>Positive</td><td>5</td><td>PERSONAL LOAN</td></tr><tr><td>Alabama</td><td>Positive</td><td>5</td><td>HEALTH INSURANCE</td></tr><tr><td>North Dakota</td><td>Positive</td><td>5</td><td>CREDIT CARD</td></tr><tr><td>Illinois</td><td>Negative</td><td>5</td><td>LIFE INSURANCE</td></tr><tr><td>Georgia</td><td>Negative</td><td>5</td><td>CURRENT ACCOUNT</td></tr><tr><td>Nevada</td><td>Negative</td><td>5</td><td>MOTOR INSURANCE</td></tr><tr><td>Arkansas</td><td>Negative</td><td>5</td><td>PERSONAL LOAN</td></tr><tr><td>California</td><td>Negative</td><td>5</td><td>HOME INSURANCE</td></tr><tr><td>Missouri</td><td>Positive</td><td>5</td><td>CURRENT ACCOUNT</td></tr><tr><td>Utah</td><td>Positive</td><td>5</td><td>HEALTH INSURANCE</td></tr><tr><td>Iowa</td><td>Negative</td><td>5</td><td>EDUCATIONAL LOAN</td></tr><tr><td>Texas</td><td>Negative</td><td>5</td><td>MUTUAL FUNDS</td></tr><tr><td>South Dakota</td><td>Positive</td><td>5</td><td>EDUCATIONAL LOAN</td></tr><tr><td>Wyoming</td><td>Positive</td><td>5</td><td>HOME INSURANCE</td></tr><tr><td>Iowa</td><td>Negative</td><td>5</td><td>LIFE INSURANCE</td></tr><tr><td>Kansas</td><td>Negative</td><td>5</td><td>EDUCATIONAL LOAN</td></tr><tr><td>Maine</td><td>Negative</td><td>5</td><td>CREDIT CARD</td></tr><tr><td>North Carolina</td><td>Negative</td><td>5</td><td>CAR LOAN</td></tr><tr><td>Kansas</td><td>Negative</td><td>5</td><td>HEALTH INSURANCE</td></tr><tr><td>Louisiana</td><td>Negative</td><td>5</td><td>HEALTH INSURANCE</td></tr><tr><td>Arkansas</td><td>Negative</td><td>5</td><td>CURRENT ACCOUNT</td></tr><tr><td>Texas</td><td>Negative</td><td>5</td><td>PERSONAL LOAN</td></tr><tr><td>Arkansas</td><td>Negative</td><td>5</td><td>HOME LOAN</td></tr><tr><td>West Virginia</td><td>Negative</td><td>5</td><td>MOTOR INSURANCE</td></tr><tr><td>Wyoming</td><td>Positive</td><td>5</td><td>HEALTH INSURANCE</td></tr><tr><td>Rhode Island</td><td>Positive</td><td>5</td><td>LIFE INSURANCE</td></tr><tr><td>Maine</td><td>Negative</td><td>5</td><td>LIFE INSURANCE</td></tr><tr><td>Kansas</td><td>Negative</td><td>5</td><td>CAR LOAN</td></tr><tr><td>South Dakota</td><td>Positive</td><td>5</td><td>HOME INSURANCE</td></tr><tr><td>Louisiana</td><td>Negative</td><td>5</td><td>FIXED DEPOSIT</td></tr><tr><td>Nebraska</td><td>Negative</td><td>5</td><td>EDUCATIONAL LOAN</td></tr><tr><td>Massachusetts</td><td>Negative</td><td>5</td><td>HEALTH INSURANCE</td></tr><tr><td>Massachusetts</td><td>Negative</td><td>5</td><td>CREDIT CARD</td></tr><tr><td>Wyoming</td><td>Positive</td><td>5</td><td>CREDIT CARD</td></tr><tr><td>Louisiana</td><td>Positive</td><td>5</td><td>PERSONAL LOAN</td></tr><tr><td>Maine</td><td>Negative</td><td>5</td><td>HOME LOAN</td></tr><tr><td>New Jersey</td><td>Positive</td><td>5</td><td>EDUCATIONAL LOAN</td></tr><tr><td>Colorado</td><td>Negative</td><td>4</td><td>LIFE INSURANCE</td></tr><tr><td>Utah</td><td>Negative</td><td>4</td><td>HEALTH INSURANCE</td></tr><tr><td>Hawaii</td><td>Positive</td><td>4</td><td>HOME INSURANCE</td></tr><tr><td>Wisconsin</td><td>Positive</td><td>4</td><td>EDUCATIONAL LOAN</td></tr><tr><td>Wisconsin</td><td>Positive</td><td>4</td><td>LIFE INSURANCE</td></tr><tr><td>Minnesota</td><td>Negative</td><td>4</td><td>HOME LOAN</td></tr><tr><td>Washington</td><td>Negative</td><td>4</td><td>FIXED DEPOSIT</td></tr><tr><td>Washington</td><td>Negative</td><td>4</td><td>PERSONAL LOAN</td></tr><tr><td>Alaska</td><td>Positive</td><td>4</td><td>HOME LOAN</td></tr><tr><td>Washington</td><td>Negative</td><td>4</td><td>CURRENT ACCOUNT</td></tr><tr><td>Rhode Island</td><td>Positive</td><td>4</td><td>SAVINGS ACCOUNT</td></tr><tr><td>Arizona</td><td>Negative</td><td>4</td><td>CAR LOAN</td></tr><tr><td>Nevada</td><td>Positive</td><td>4</td><td>HEALTH INSURANCE</td></tr><tr><td>District of Columbia</td><td>Negative</td><td>4</td><td>EQUITIES</td></tr><tr><td>Washington</td><td>Negative</td><td>4</td><td>HOME LOAN</td></tr><tr><td>Washington</td><td>Negative</td><td>4</td><td>HEALTH INSURANCE</td></tr><tr><td>West Virginia</td><td>Positive</td><td>4</td><td>EDUCATIONAL LOAN</td></tr><tr><td>Nevada</td><td>Negative</td><td>4</td><td>EDUCATIONAL LOAN</td></tr><tr><td>Oklahoma</td><td>Positive</td><td>4</td><td>CURRENT ACCOUNT</td></tr><tr><td>Delaware</td><td>Positive</td><td>4</td><td>MUTUAL FUNDS</td></tr><tr><td>Washington</td><td>Negative</td><td>4</td><td>CREDIT CARD</td></tr><tr><td>Michigan</td><td>Negative</td><td>4</td><td>FIXED DEPOSIT</td></tr><tr><td>Wisconsin</td><td>Positive</td><td>4</td><td>HOME INSURANCE</td></tr><tr><td>District of Columbia</td><td>Negative</td><td>4</td><td>MUTUAL FUNDS</td></tr><tr><td>District of Columbia</td><td>Negative</td><td>4</td><td>FIXED DEPOSIT</td></tr><tr><td>Wisconsin</td><td>Positive</td><td>4</td><td>EQUITIES</td></tr><tr><td>Idaho</td><td>Positive</td><td>4</td><td>LIFE INSURANCE</td></tr><tr><td>New Mexico</td><td>Positive</td><td>4</td><td>HOME INSURANCE</td></tr><tr><td>Mississippi</td><td>Positive</td><td>4</td><td>CURRENT ACCOUNT</td></tr><tr><td>Montana</td><td>Negative</td><td>4</td><td>EQUITIES</td></tr><tr><td>Michigan</td><td>Negative</td><td>4</td><td>SAVINGS ACCOUNT</td></tr><tr><td>Ohio</td><td>Positive</td><td>4</td><td>MUTUAL FUNDS</td></tr><tr><td>Michigan</td><td>Negative</td><td>4</td><td>EDUCATIONAL LOAN</td></tr><tr><td>Washington</td><td>Negative</td><td>4</td><td>HOME INSURANCE</td></tr><tr><td>Idaho</td><td>Positive</td><td>4</td><td>FIXED DEPOSIT</td></tr><tr><td>Delaware</td><td>Positive</td><td>4</td><td>HOME INSURANCE</td></tr><tr><td>Arizona</td><td>Negative</td><td>4</td><td>EDUCATIONAL LOAN</td></tr><tr><td>Massachusetts</td><td>Positive</td><td>4</td><td>EQUITIES</td></tr><tr><td>Alaska</td><td>Positive</td><td>4</td><td>EDUCATIONAL LOAN</td></tr><tr><td>Arizona</td><td>Negative</td><td>4</td><td>FIXED DEPOSIT</td></tr><tr><td>Connecticut</td><td>Negative</td><td>4</td><td>EDUCATIONAL LOAN</td></tr><tr><td>Connecticut</td><td>Negative</td><td>4</td><td>PERSONAL LOAN</td></tr><tr><td>North Carolina</td><td>Negative</td><td>4</td><td>FIXED DEPOSIT</td></tr><tr><td>Rhode Island</td><td>Positive</td><td>4</td><td>HEALTH INSURANCE</td></tr><tr><td>Wisconsin</td><td>Negative</td><td>4</td><td>HOME INSURANCE</td></tr><tr><td>Connecticut</td><td>Negative</td><td>4</td><td>CAR LOAN</td></tr><tr><td>Connecticut</td><td>Negative</td><td>4</td><td>HOME LOAN</td></tr><tr><td>North Carolina</td><td>Negative</td><td>4</td><td>HOME INSURANCE</td></tr><tr><td>New Hampshire</td><td>Positive</td><td>4</td><td>HOME INSURANCE</td></tr><tr><td>Utah</td><td>Positive</td><td>4</td><td>LIFE INSURANCE</td></tr><tr><td>Connecticut</td><td>Negative</td><td>4</td><td>MOTOR INSURANCE</td></tr><tr><td>West Virginia</td><td>Positive</td><td>4</td><td>FIXED DEPOSIT</td></tr><tr><td>Wisconsin</td><td>Negative</td><td>4</td><td>HEALTH INSURANCE</td></tr><tr><td>Massachusetts</td><td>Negative</td><td>4</td><td>EDUCATIONAL LOAN</td></tr><tr><td>West Virginia</td><td>Positive</td><td>4</td><td>SAVINGS ACCOUNT</td></tr><tr><td>West Virginia</td><td>Positive</td><td>4</td><td>HOME INSURANCE</td></tr><tr><td>Connecticut</td><td>Negative</td><td>4</td><td>EQUITIES</td></tr><tr><td>Louisiana</td><td>Positive</td><td>4</td><td>SAVINGS ACCOUNT</td></tr><tr><td>Minnesota</td><td>Negative</td><td>4</td><td>CREDIT CARD</td></tr><tr><td>Connecticut</td><td>Negative</td><td>4</td><td>LIFE INSURANCE</td></tr><tr><td>Idaho</td><td>Positive</td><td>4</td><td>MOTOR INSURANCE</td></tr><tr><td>Rhode Island</td><td>Positive</td><td>4</td><td>CAR LOAN</td></tr><tr><td>Utah</td><td>Negative</td><td>4</td><td>HOME INSURANCE</td></tr><tr><td>Alabama</td><td>Negative</td><td>4</td><td>HEALTH INSURANCE</td></tr><tr><td>Alaska</td><td>Positive</td><td>3</td><td>FIXED DEPOSIT</td></tr><tr><td>Idaho</td><td>Negative</td><td>3</td><td>EQUITIES</td></tr><tr><td>North Carolina</td><td>Negative</td><td>3</td><td>PERSONAL LOAN</td></tr><tr><td>Alabama</td><td>Positive</td><td>3</td><td>CURRENT ACCOUNT</td></tr><tr><td>Oregon</td><td>Positive</td><td>3</td><td>HOME INSURANCE</td></tr><tr><td>Virginia</td><td>Negative</td><td>3</td><td>LIFE INSURANCE</td></tr><tr><td>Ohio</td><td>Negative</td><td>3</td><td>HOME LOAN</td></tr><tr><td>Massachusetts</td><td>Negative</td><td>3</td><td>SAVINGS ACCOUNT</td></tr><tr><td>Mississippi</td><td>Negative</td><td>3</td><td>LIFE INSURANCE</td></tr><tr><td>New Mexico</td><td>Positive</td><td>3</td><td>CAR LOAN</td></tr><tr><td>Pennsylvania</td><td>Positive</td><td>3</td><td>CURRENT ACCOUNT</td></tr><tr><td>Massachusetts</td><td>Negative</td><td>3</td><td>HOME INSURANCE</td></tr><tr><td>Connecticut</td><td>Positive</td><td>3</td><td>HOME INSURANCE</td></tr><tr><td>Minnesota</td><td>Negative</td><td>3</td><td>HEALTH INSURANCE</td></tr><tr><td>Illinois</td><td>Negative</td><td>3</td><td>HEALTH INSURANCE</td></tr><tr><td>Ohio</td><td>Negative</td><td>3</td><td>MUTUAL FUNDS</td></tr><tr><td>Minnesota</td><td>Negative</td><td>3</td><td>PERSONAL LOAN</td></tr><tr><td>New Hampshire</td><td>Positive</td><td>3</td><td>FIXED DEPOSIT</td></tr><tr><td>Idaho</td><td>Negative</td><td>3</td><td>CREDIT CARD</td></tr><tr><td>Idaho</td><td>Negative</td><td>3</td><td>HOME INSURANCE</td></tr><tr><td>Mississippi</td><td>Negative</td><td>3</td><td>CREDIT CARD</td></tr><tr><td>Kentucky</td><td>Negative</td><td>3</td><td>PERSONAL LOAN</td></tr><tr><td>Minnesota</td><td>Negative</td><td>3</td><td>EDUCATIONAL LOAN</td></tr><tr><td>Michigan</td><td>Negative</td><td>3</td><td>CREDIT CARD</td></tr><tr><td>Arkansas</td><td>Positive</td><td>3</td><td>PERSONAL LOAN</td></tr><tr><td>West Virginia</td><td>Positive</td><td>3</td><td>EQUITIES</td></tr><tr><td>Arkansas</td><td>Positive</td><td>3</td><td>HEALTH INSURANCE</td></tr><tr><td>West Virginia</td><td>Positive</td><td>3</td><td>MOTOR INSURANCE</td></tr><tr><td>Idaho</td><td>Negative</td><td>3</td><td>EDUCATIONAL LOAN</td></tr><tr><td>New Hampshire</td><td>Positive</td><td>3</td><td>EDUCATIONAL LOAN</td></tr><tr><td>Michigan</td><td>Negative</td><td>3</td><td>MOTOR INSURANCE</td></tr><tr><td>Nebraska</td><td>Negative</td><td>3</td><td>HEALTH INSURANCE</td></tr><tr><td>New Mexico</td><td>Positive</td><td>3</td><td>FIXED DEPOSIT</td></tr><tr><td>Louisiana</td><td>Positive</td><td>3</td><td>MUTUAL FUNDS</td></tr><tr><td>Utah</td><td>Positive</td><td>3</td><td>HOME INSURANCE</td></tr><tr><td>Connecticut</td><td>Positive</td><td>3</td><td>HEALTH INSURANCE</td></tr><tr><td>West Virginia</td><td>Positive</td><td>3</td><td>LIFE INSURANCE</td></tr><tr><td>Mississippi</td><td>Negative</td><td>3</td><td>CURRENT ACCOUNT</td></tr><tr><td>Alaska</td><td>Positive</td><td>3</td><td>MOTOR INSURANCE</td></tr><tr><td>Mississippi</td><td>Negative</td><td>3</td><td>SAVINGS ACCOUNT</td></tr><tr><td>Arizona</td><td>Negative</td><td>3</td><td>MOTOR INSURANCE</td></tr><tr><td>New Mexico</td><td>Positive</td><td>3</td><td>PERSONAL LOAN</td></tr><tr><td>Massachusetts</td><td>Negative</td><td>3</td><td>HOME LOAN</td></tr><tr><td>New York</td><td>Negative</td><td>3</td><td>CURRENT ACCOUNT</td></tr><tr><td>Idaho</td><td>Negative</td><td>3</td><td>PERSONAL LOAN</td></tr><tr><td>Arizona</td><td>Negative</td><td>3</td><td>CURRENT ACCOUNT</td></tr><tr><td>Alabama</td><td>Negative</td><td>3</td><td>CAR LOAN</td></tr><tr><td>New Mexico</td><td>Positive</td><td>3</td><td>EQUITIES</td></tr><tr><td>West Virginia</td><td>Negative</td><td>3</td><td>EDUCATIONAL LOAN</td></tr><tr><td>West Virginia</td><td>Positive</td><td>3</td><td>CREDIT CARD</td></tr><tr><td>Massachusetts</td><td>Negative</td><td>3</td><td>MOTOR INSURANCE</td></tr><tr><td>Montana</td><td>Positive</td><td>2</td><td>EDUCATIONAL LOAN</td></tr><tr><td>Montana</td><td>Negative</td><td>2</td><td>HOME LOAN</td></tr><tr><td>North Dakota</td><td>Positive</td><td>2</td><td>SAVINGS ACCOUNT</td></tr><tr><td>North Dakota</td><td>Positive</td><td>2</td><td>FIXED DEPOSIT</td></tr><tr><td>Alabama</td><td>Positive</td><td>2</td><td>MUTUAL FUNDS</td></tr><tr><td>Mississippi</td><td>Positive</td><td>2</td><td>HOME INSURANCE</td></tr><tr><td>Kentucky</td><td>Negative</td><td>2</td><td>HOME INSURANCE</td></tr><tr><td>Connecticut</td><td>Negative</td><td>2</td><td>CURRENT ACCOUNT</td></tr><tr><td>Wisconsin</td><td>Negative</td><td>2</td><td>CAR LOAN</td></tr><tr><td>North Dakota</td><td>Positive</td><td>2</td><td>MOTOR INSURANCE</td></tr><tr><td>Nevada</td><td>Negative</td><td>2</td><td>LIFE INSURANCE</td></tr><tr><td>Montana</td><td>Negative</td><td>2</td><td>CREDIT CARD</td></tr><tr><td>North Carolina</td><td>Negative</td><td>2</td><td>EQUITIES</td></tr><tr><td>Nevada</td><td>Positive</td><td>2</td><td>EDUCATIONAL LOAN</td></tr><tr><td>Connecticut</td><td>Negative</td><td>2</td><td>HOME INSURANCE</td></tr><tr><td>Connecticut</td><td>Negative</td><td>2</td><td>FIXED DEPOSIT</td></tr><tr><td>Montana</td><td>Positive</td><td>2</td><td>HOME INSURANCE</td></tr><tr><td>South Carolina</td><td>Positive</td><td>2</td><td>HEALTH INSURANCE</td></tr><tr><td>Montana</td><td>Positive</td><td>2</td><td>CURRENT ACCOUNT</td></tr><tr><td>Louisiana</td><td>Negative</td><td>2</td><td>HOME INSURANCE</td></tr><tr><td>Arkansas</td><td>Positive</td><td>2</td><td>EDUCATIONAL LOAN</td></tr><tr><td>Virginia</td><td>Negative</td><td>2</td><td>FIXED DEPOSIT</td></tr><tr><td>Colorado</td><td>Positive</td><td>2</td><td>EDUCATIONAL LOAN</td></tr><tr><td>Massachusetts</td><td>Positive</td><td>2</td><td>CURRENT ACCOUNT</td></tr><tr><td>Montana</td><td>Positive</td><td>2</td><td>CREDIT CARD</td></tr><tr><td>Delaware</td><td>Positive</td><td>2</td><td>CREDIT CARD</td></tr><tr><td>Montana</td><td>Negative</td><td>2</td><td>HEALTH INSURANCE</td></tr><tr><td>Arizona</td><td>Negative</td><td>2</td><td>HOME INSURANCE</td></tr><tr><td>Hawaii</td><td>Positive</td><td>2</td><td>MOTOR INSURANCE</td></tr><tr><td>New Jersey</td><td>Positive</td><td>2</td><td>MUTUAL FUNDS</td></tr><tr><td>Delaware</td><td>Positive</td><td>2</td><td>FIXED DEPOSIT</td></tr><tr><td>Alabama</td><td>Negative</td><td>2</td><td>CURRENT ACCOUNT</td></tr><tr><td>Connecticut</td><td>Positive</td><td>2</td><td>CAR LOAN</td></tr><tr><td>Arkansas</td><td>Positive</td><td>2</td><td>CAR LOAN</td></tr><tr><td>Pennsylvania</td><td>Negative</td><td>2</td><td>LIFE INSURANCE</td></tr><tr><td>Idaho</td><td>Positive</td><td>2</td><td>HOME INSURANCE</td></tr><tr><td>Arkansas</td><td>Negative</td><td>2</td><td>CREDIT CARD</td></tr><tr><td>Massachusetts</td><td>Positive</td><td>2</td><td>MUTUAL FUNDS</td></tr><tr><td>Connecticut</td><td>Negative</td><td>2</td><td>HEALTH INSURANCE</td></tr><tr><td>Kentucky</td><td>Negative</td><td>2</td><td>FIXED DEPOSIT</td></tr><tr><td>Nebraska</td><td>Positive</td><td>2</td><td>CURRENT ACCOUNT</td></tr><tr><td>Washington</td><td>Negative</td><td>2</td><td>MOTOR INSURANCE</td></tr><tr><td>Arkansas</td><td>Positive</td><td>2</td><td>SAVINGS ACCOUNT</td></tr><tr><td>Montana</td><td>Positive</td><td>2</td><td>FIXED DEPOSIT</td></tr><tr><td>Arkansas</td><td>Negative</td><td>2</td><td>MUTUAL FUNDS</td></tr><tr><td>Louisiana</td><td>Negative</td><td>2</td><td>CURRENT ACCOUNT</td></tr><tr><td>West Virginia</td><td>Positive</td><td>2</td><td>HOME LOAN</td></tr><tr><td>North Dakota</td><td>Positive</td><td>2</td><td>HOME INSURANCE</td></tr><tr><td>West Virginia</td><td>Negative</td><td>2</td><td>HOME LOAN</td></tr><tr><td>Mississippi</td><td>Positive</td><td>2</td><td>FIXED DEPOSIT</td></tr><tr><td>West Virginia</td><td>Negative</td><td>2</td><td>CAR LOAN</td></tr><tr><td>Connecticut</td><td>Positive</td><td>2</td><td>MUTUAL FUNDS</td></tr><tr><td>Alabama</td><td>Negative</td><td>2</td><td>LIFE INSURANCE</td></tr><tr><td>Connecticut</td><td>Positive</td><td>2</td><td>MOTOR INSURANCE</td></tr><tr><td>Wisconsin</td><td>Negative</td><td>2</td><td>EQUITIES</td></tr><tr><td>Kentucky</td><td>Negative</td><td>2</td><td>SAVINGS ACCOUNT</td></tr><tr><td>Missouri</td><td>Negative</td><td>2</td><td>LIFE INSURANCE</td></tr><tr><td>Arizona</td><td>Negative</td><td>2</td><td>EQUITIES</td></tr><tr><td>Kentucky</td><td>Negative</td><td>2</td><td>LIFE INSURANCE</td></tr><tr><td>Arkansas</td><td>Negative</td><td>2</td><td>EQUITIES</td></tr><tr><td>Arkansas</td><td>Negative</td><td>2</td><td>EDUCATIONAL LOAN</td></tr><tr><td>Illinois</td><td>Negative</td><td>1</td><td>MUTUAL FUNDS</td></tr><tr><td>Wisconsin</td><td>Negative</td><td>1</td><td>MOTOR INSURANCE</td></tr><tr><td>West Virginia</td><td>Positive</td><td>1</td><td>PERSONAL LOAN</td></tr><tr><td>Massachusetts</td><td>Negative</td><td>1</td><td>CAR LOAN</td></tr><tr><td>Minnesota</td><td>Negative</td><td>1</td><td>CURRENT ACCOUNT</td></tr><tr><td>Kentucky</td><td>Negative</td><td>1</td><td>CREDIT CARD</td></tr><tr><td>West Virginia</td><td>Positive</td><td>1</td><td>CAR LOAN</td></tr><tr><td>Colorado</td><td>Negative</td><td>1</td><td>CURRENT ACCOUNT</td></tr><tr><td>New Mexico</td><td>Positive</td><td>1</td><td>LIFE INSURANCE</td></tr><tr><td>Minnesota</td><td>Negative</td><td>1</td><td>HOME INSURANCE</td></tr><tr><td>Rhode Island</td><td>Positive</td><td>1</td><td>FIXED DEPOSIT</td></tr><tr><td>Colorado</td><td>Negative</td><td>1</td><td>HOME INSURANCE</td></tr><tr><td>Massachusetts</td><td>Negative</td><td>1</td><td>PERSONAL LOAN</td></tr><tr><td>Rhode Island</td><td>Positive</td><td>1</td><td>EQUITIES</td></tr><tr><td>Connecticut</td><td>Positive</td><td>1</td><td>HOME LOAN</td></tr><tr><td>North Carolina</td><td>Negative</td><td>1</td><td>HOME LOAN</td></tr><tr><td>Idaho</td><td>Positive</td><td>1</td><td>EDUCATIONAL LOAN</td></tr><tr><td>Georgia</td><td>Negative</td><td>1</td><td>FIXED DEPOSIT</td></tr><tr><td>Tennessee</td><td>Negative</td><td>1</td><td>HEALTH INSURANCE</td></tr><tr><td>West Virginia</td><td>Positive</td><td>1</td><td>HEALTH INSURANCE</td></tr><tr><td>Colorado</td><td>Negative</td><td>1</td><td>EDUCATIONAL LOAN</td></tr><tr><td>Louisiana</td><td>Negative</td><td>1</td><td>HOME LOAN</td></tr><tr><td>North Carolina</td><td>Negative</td><td>1</td><td>MOTOR INSURANCE</td></tr><tr><td>Nebraska</td><td>Negative</td><td>1</td><td>PERSONAL LOAN</td></tr><tr><td>Oklahoma</td><td>Positive</td><td>1</td><td>MUTUAL FUNDS</td></tr><tr><td>Alaska</td><td>Positive</td><td>1</td><td>CURRENT ACCOUNT</td></tr></tbody></table></div>"
      ]
     },
     "metadata": {
      "application/vnd.databricks.v1+output": {
       "addedWidgets": {},
       "aggData": [],
       "aggError": "",
       "aggOverflow": false,
       "aggSchema": [],
       "aggSeriesLimitReached": false,
       "aggType": "",
       "arguments": {},
       "columnCustomDisplayInfos": {},
       "data": [
        [
         "California",
         "Positive",
         182,
         "CREDIT CARD"
        ],
        [
         "Texas",
         "Positive",
         174,
         "CREDIT CARD"
        ],
        [
         "California",
         "Positive",
         159,
         "FIXED DEPOSIT"
        ],
        [
         "California",
         "Positive",
         159,
         "CAR LOAN"
        ],
        [
         "California",
         "Positive",
         150,
         "HOME INSURANCE"
        ],
        [
         "California",
         "Positive",
         134,
         "SAVINGS ACCOUNT"
        ],
        [
         "Texas",
         "Positive",
         131,
         "HEALTH INSURANCE"
        ],
        [
         "Texas",
         "Positive",
         131,
         "SAVINGS ACCOUNT"
        ],
        [
         "Florida",
         "Positive",
         127,
         "CREDIT CARD"
        ],
        [
         "California",
         "Positive",
         124,
         "LIFE INSURANCE"
        ],
        [
         "California",
         "Positive",
         123,
         "MOTOR INSURANCE"
        ],
        [
         "California",
         "Positive",
         122,
         "HOME LOAN"
        ],
        [
         "Florida",
         "Positive",
         116,
         "HOME INSURANCE"
        ],
        [
         "California",
         "Positive",
         107,
         "PERSONAL LOAN"
        ],
        [
         "Texas",
         "Positive",
         105,
         "EQUITIES"
        ],
        [
         "Texas",
         "Positive",
         104,
         "MOTOR INSURANCE"
        ],
        [
         "Texas",
         "Positive",
         102,
         "HOME LOAN"
        ],
        [
         "Virginia",
         "Positive",
         99,
         "HEALTH INSURANCE"
        ],
        [
         "Texas",
         "Positive",
         98,
         "PERSONAL LOAN"
        ],
        [
         "Florida",
         "Positive",
         97,
         "SAVINGS ACCOUNT"
        ],
        [
         "California",
         "Positive",
         94,
         "HEALTH INSURANCE"
        ],
        [
         "Florida",
         "Positive",
         94,
         "LIFE INSURANCE"
        ],
        [
         "Texas",
         "Positive",
         91,
         "HOME INSURANCE"
        ],
        [
         "California",
         "Positive",
         90,
         "EDUCATIONAL LOAN"
        ],
        [
         "Florida",
         "Positive",
         89,
         "HEALTH INSURANCE"
        ],
        [
         "Texas",
         "Positive",
         89,
         "EDUCATIONAL LOAN"
        ],
        [
         "New York",
         "Positive",
         85,
         "CREDIT CARD"
        ],
        [
         "Virginia",
         "Positive",
         84,
         "MOTOR INSURANCE"
        ],
        [
         "Texas",
         "Positive",
         84,
         "LIFE INSURANCE"
        ],
        [
         "Virginia",
         "Positive",
         82,
         "CREDIT CARD"
        ],
        [
         "Texas",
         "Positive",
         82,
         "FIXED DEPOSIT"
        ],
        [
         "Florida",
         "Positive",
         81,
         "HOME LOAN"
        ],
        [
         "Texas",
         "Positive",
         79,
         "CAR LOAN"
        ],
        [
         "Arizona",
         "Positive",
         72,
         "CREDIT CARD"
        ],
        [
         "Florida",
         "Positive",
         66,
         "CAR LOAN"
        ],
        [
         "New York",
         "Positive",
         65,
         "HEALTH INSURANCE"
        ],
        [
         "Virginia",
         "Positive",
         64,
         "HOME INSURANCE"
        ],
        [
         "Florida",
         "Positive",
         62,
         "EDUCATIONAL LOAN"
        ],
        [
         "Virginia",
         "Positive",
         59,
         "LIFE INSURANCE"
        ],
        [
         "Texas",
         "Positive",
         58,
         "MUTUAL FUNDS"
        ],
        [
         "Michigan",
         "Positive",
         56,
         "FIXED DEPOSIT"
        ],
        [
         "Georgia",
         "Positive",
         56,
         "CREDIT CARD"
        ],
        [
         "New York",
         "Positive",
         55,
         "PERSONAL LOAN"
        ],
        [
         "Virginia",
         "Positive",
         55,
         "SAVINGS ACCOUNT"
        ],
        [
         "Ohio",
         "Positive",
         55,
         "FIXED DEPOSIT"
        ],
        [
         "New York",
         "Positive",
         54,
         "SAVINGS ACCOUNT"
        ],
        [
         "Virginia",
         "Positive",
         54,
         "EDUCATIONAL LOAN"
        ],
        [
         "Georgia",
         "Positive",
         54,
         "LIFE INSURANCE"
        ],
        [
         "Ohio",
         "Positive",
         54,
         "CREDIT CARD"
        ],
        [
         "New York",
         "Negative",
         52,
         "MOTOR INSURANCE"
        ],
        [
         "Florida",
         "Positive",
         52,
         "PERSONAL LOAN"
        ],
        [
         "Kansas",
         "Positive",
         52,
         "HEALTH INSURANCE"
        ],
        [
         "District of Columbia",
         "Positive",
         51,
         "CREDIT CARD"
        ],
        [
         "North Carolina",
         "Positive",
         50,
         "HOME LOAN"
        ],
        [
         "Indiana",
         "Positive",
         50,
         "MOTOR INSURANCE"
        ],
        [
         "New York",
         "Positive",
         50,
         "HOME INSURANCE"
        ],
        [
         "Kansas",
         "Positive",
         50,
         "MOTOR INSURANCE"
        ],
        [
         "Pennsylvania",
         "Positive",
         49,
         "HEALTH INSURANCE"
        ],
        [
         "New York",
         "Positive",
         48,
         "MOTOR INSURANCE"
        ],
        [
         "New York",
         "Positive",
         48,
         "MUTUAL FUNDS"
        ],
        [
         "Ohio",
         "Positive",
         47,
         "HOME LOAN"
        ],
        [
         "California",
         "Positive",
         47,
         "EQUITIES"
        ],
        [
         "New York",
         "Positive",
         46,
         "HOME LOAN"
        ],
        [
         "Pennsylvania",
         "Positive",
         46,
         "CREDIT CARD"
        ],
        [
         "Pennsylvania",
         "Positive",
         45,
         "SAVINGS ACCOUNT"
        ],
        [
         "Virginia",
         "Positive",
         45,
         "PERSONAL LOAN"
        ],
        [
         "Florida",
         "Negative",
         45,
         "HEALTH INSURANCE"
        ],
        [
         "New York",
         "Negative",
         45,
         "CREDIT CARD"
        ],
        [
         "Illinois",
         "Positive",
         45,
         "HEALTH INSURANCE"
        ],
        [
         "Pennsylvania",
         "Positive",
         45,
         "HOME LOAN"
        ],
        [
         "Virginia",
         "Positive",
         43,
         "FIXED DEPOSIT"
        ],
        [
         "Michigan",
         "Positive",
         43,
         "CREDIT CARD"
        ],
        [
         "Arizona",
         "Positive",
         43,
         "MOTOR INSURANCE"
        ],
        [
         "Missouri",
         "Positive",
         42,
         "HEALTH INSURANCE"
        ],
        [
         "Georgia",
         "Positive",
         42,
         "HOME LOAN"
        ],
        [
         "Kansas",
         "Positive",
         41,
         "CREDIT CARD"
        ],
        [
         "California",
         "Positive",
         41,
         "CURRENT ACCOUNT"
        ],
        [
         "District of Columbia",
         "Positive",
         41,
         "LIFE INSURANCE"
        ],
        [
         "Florida",
         "Positive",
         41,
         "CURRENT ACCOUNT"
        ],
        [
         "North Carolina",
         "Positive",
         41,
         "SAVINGS ACCOUNT"
        ],
        [
         "Michigan",
         "Positive",
         41,
         "SAVINGS ACCOUNT"
        ],
        [
         "California",
         "Positive",
         41,
         "MUTUAL FUNDS"
        ],
        [
         "Illinois",
         "Positive",
         41,
         "CREDIT CARD"
        ],
        [
         "Arizona",
         "Positive",
         40,
         "EQUITIES"
        ],
        [
         "New York",
         "Negative",
         40,
         "HEALTH INSURANCE"
        ],
        [
         "Kansas",
         "Positive",
         40,
         "LIFE INSURANCE"
        ],
        [
         "Virginia",
         "Positive",
         40,
         "CAR LOAN"
        ],
        [
         "District of Columbia",
         "Positive",
         39,
         "HOME LOAN"
        ],
        [
         "Virginia",
         "Positive",
         39,
         "HOME LOAN"
        ],
        [
         "Michigan",
         "Positive",
         39,
         "HEALTH INSURANCE"
        ],
        [
         "North Carolina",
         "Positive",
         39,
         "CREDIT CARD"
        ],
        [
         "Ohio",
         "Positive",
         39,
         "MOTOR INSURANCE"
        ],
        [
         "District of Columbia",
         "Positive",
         38,
         "HOME INSURANCE"
        ],
        [
         "Minnesota",
         "Positive",
         38,
         "CREDIT CARD"
        ],
        [
         "Indiana",
         "Positive",
         38,
         "CAR LOAN"
        ],
        [
         "Georgia",
         "Positive",
         38,
         "FIXED DEPOSIT"
        ],
        [
         "Ohio",
         "Positive",
         38,
         "LIFE INSURANCE"
        ],
        [
         "Kansas",
         "Positive",
         38,
         "PERSONAL LOAN"
        ],
        [
         "Arizona",
         "Positive",
         37,
         "EDUCATIONAL LOAN"
        ],
        [
         "Indiana",
         "Positive",
         37,
         "CREDIT CARD"
        ],
        [
         "Kentucky",
         "Positive",
         37,
         "CREDIT CARD"
        ],
        [
         "Pennsylvania",
         "Positive",
         37,
         "HOME INSURANCE"
        ],
        [
         "New York",
         "Positive",
         37,
         "LIFE INSURANCE"
        ],
        [
         "Kansas",
         "Positive",
         36,
         "SAVINGS ACCOUNT"
        ],
        [
         "Ohio",
         "Positive",
         36,
         "HEALTH INSURANCE"
        ],
        [
         "Colorado",
         "Positive",
         36,
         "LIFE INSURANCE"
        ],
        [
         "Illinois",
         "Positive",
         36,
         "SAVINGS ACCOUNT"
        ],
        [
         "Texas",
         "Positive",
         36,
         "CURRENT ACCOUNT"
        ],
        [
         "California",
         "Negative",
         35,
         "CREDIT CARD"
        ],
        [
         "Indiana",
         "Positive",
         35,
         "SAVINGS ACCOUNT"
        ],
        [
         "Ohio",
         "Positive",
         35,
         "SAVINGS ACCOUNT"
        ],
        [
         "Virginia",
         "Positive",
         35,
         "EQUITIES"
        ],
        [
         "Indiana",
         "Positive",
         35,
         "LIFE INSURANCE"
        ],
        [
         "New York",
         "Positive",
         35,
         "CAR LOAN"
        ],
        [
         "Iowa",
         "Positive",
         35,
         "CREDIT CARD"
        ],
        [
         "Arizona",
         "Positive",
         34,
         "SAVINGS ACCOUNT"
        ],
        [
         "Pennsylvania",
         "Positive",
         34,
         "LIFE INSURANCE"
        ],
        [
         "Iowa",
         "Positive",
         34,
         "EQUITIES"
        ],
        [
         "Nebraska",
         "Positive",
         34,
         "CAR LOAN"
        ],
        [
         "Indiana",
         "Positive",
         34,
         "EDUCATIONAL LOAN"
        ],
        [
         "Washington",
         "Positive",
         34,
         "LIFE INSURANCE"
        ],
        [
         "California",
         "Negative",
         34,
         "HEALTH INSURANCE"
        ],
        [
         "North Carolina",
         "Positive",
         34,
         "HEALTH INSURANCE"
        ],
        [
         "District of Columbia",
         "Positive",
         34,
         "EQUITIES"
        ],
        [
         "Oregon",
         "Positive",
         33,
         "EQUITIES"
        ],
        [
         "Ohio",
         "Positive",
         33,
         "HOME INSURANCE"
        ],
        [
         "Missouri",
         "Positive",
         33,
         "CREDIT CARD"
        ],
        [
         "California",
         "Negative",
         33,
         "SAVINGS ACCOUNT"
        ],
        [
         "Kentucky",
         "Positive",
         33,
         "SAVINGS ACCOUNT"
        ],
        [
         "Georgia",
         "Positive",
         33,
         "EQUITIES"
        ],
        [
         "Georgia",
         "Positive",
         33,
         "HOME INSURANCE"
        ],
        [
         "North Carolina",
         "Positive",
         33,
         "FIXED DEPOSIT"
        ],
        [
         "Colorado",
         "Positive",
         33,
         "CREDIT CARD"
        ],
        [
         "District of Columbia",
         "Positive",
         33,
         "MOTOR INSURANCE"
        ],
        [
         "California",
         "Negative",
         32,
         "MOTOR INSURANCE"
        ],
        [
         "Arizona",
         "Positive",
         32,
         "FIXED DEPOSIT"
        ],
        [
         "Nebraska",
         "Positive",
         32,
         "CREDIT CARD"
        ],
        [
         "Arizona",
         "Positive",
         32,
         "HOME LOAN"
        ],
        [
         "Missouri",
         "Positive",
         32,
         "HOME LOAN"
        ],
        [
         "New York",
         "Positive",
         32,
         "FIXED DEPOSIT"
        ],
        [
         "District of Columbia",
         "Positive",
         31,
         "HEALTH INSURANCE"
        ],
        [
         "California",
         "Negative",
         31,
         "FIXED DEPOSIT"
        ],
        [
         "Illinois",
         "Positive",
         31,
         "LIFE INSURANCE"
        ],
        [
         "Georgia",
         "Positive",
         31,
         "MOTOR INSURANCE"
        ],
        [
         "Florida",
         "Negative",
         31,
         "CREDIT CARD"
        ],
        [
         "Michigan",
         "Positive",
         31,
         "CAR LOAN"
        ],
        [
         "Arizona",
         "Positive",
         31,
         "PERSONAL LOAN"
        ],
        [
         "South Dakota",
         "Positive",
         31,
         "LIFE INSURANCE"
        ],
        [
         "Florida",
         "Positive",
         31,
         "FIXED DEPOSIT"
        ],
        [
         "Texas",
         "Negative",
         30,
         "FIXED DEPOSIT"
        ],
        [
         "Alabama",
         "Positive",
         30,
         "MOTOR INSURANCE"
        ],
        [
         "Michigan",
         "Positive",
         30,
         "LIFE INSURANCE"
        ],
        [
         "Georgia",
         "Positive",
         30,
         "SAVINGS ACCOUNT"
        ],
        [
         "Tennessee",
         "Positive",
         30,
         "CREDIT CARD"
        ],
        [
         "Tennessee",
         "Positive",
         30,
         "HEALTH INSURANCE"
        ],
        [
         "Florida",
         "Negative",
         30,
         "PERSONAL LOAN"
        ],
        [
         "Missouri",
         "Positive",
         29,
         "HOME INSURANCE"
        ],
        [
         "New York",
         "Negative",
         29,
         "EQUITIES"
        ],
        [
         "Maryland",
         "Positive",
         29,
         "CREDIT CARD"
        ],
        [
         "California",
         "Negative",
         29,
         "EQUITIES"
        ],
        [
         "Indiana",
         "Positive",
         29,
         "EQUITIES"
        ],
        [
         "New York",
         "Positive",
         29,
         "EDUCATIONAL LOAN"
        ],
        [
         "Iowa",
         "Positive",
         29,
         "MOTOR INSURANCE"
        ],
        [
         "District of Columbia",
         "Positive",
         28,
         "CAR LOAN"
        ],
        [
         "Massachusetts",
         "Positive",
         28,
         "CAR LOAN"
        ],
        [
         "Georgia",
         "Positive",
         28,
         "CAR LOAN"
        ],
        [
         "Indiana",
         "Positive",
         28,
         "FIXED DEPOSIT"
        ],
        [
         "Kansas",
         "Positive",
         28,
         "FIXED DEPOSIT"
        ],
        [
         "District of Columbia",
         "Negative",
         28,
         "HEALTH INSURANCE"
        ],
        [
         "Kansas",
         "Positive",
         28,
         "EQUITIES"
        ],
        [
         "Washington",
         "Positive",
         28,
         "CREDIT CARD"
        ],
        [
         "Louisiana",
         "Positive",
         28,
         "EDUCATIONAL LOAN"
        ],
        [
         "South Carolina",
         "Positive",
         28,
         "CREDIT CARD"
        ],
        [
         "Pennsylvania",
         "Positive",
         28,
         "EDUCATIONAL LOAN"
        ],
        [
         "Michigan",
         "Positive",
         28,
         "EQUITIES"
        ],
        [
         "District of Columbia",
         "Positive",
         27,
         "SAVINGS ACCOUNT"
        ],
        [
         "Tennessee",
         "Positive",
         27,
         "SAVINGS ACCOUNT"
        ],
        [
         "Maryland",
         "Positive",
         27,
         "LIFE INSURANCE"
        ],
        [
         "Florida",
         "Positive",
         27,
         "MUTUAL FUNDS"
        ],
        [
         "California",
         "Negative",
         27,
         "LIFE INSURANCE"
        ],
        [
         "Ohio",
         "Negative",
         27,
         "CREDIT CARD"
        ],
        [
         "Arizona",
         "Positive",
         27,
         "HOME INSURANCE"
        ],
        [
         "Kansas",
         "Positive",
         27,
         "HOME LOAN"
        ],
        [
         "Massachusetts",
         "Positive",
         27,
         "HOME LOAN"
        ],
        [
         "Ohio",
         "Positive",
         27,
         "EDUCATIONAL LOAN"
        ],
        [
         "Florida",
         "Negative",
         27,
         "LIFE INSURANCE"
        ],
        [
         "New Jersey",
         "Positive",
         26,
         "MOTOR INSURANCE"
        ],
        [
         "New Jersey",
         "Positive",
         26,
         "HEALTH INSURANCE"
        ],
        [
         "Illinois",
         "Positive",
         26,
         "FIXED DEPOSIT"
        ],
        [
         "Kentucky",
         "Positive",
         26,
         "PERSONAL LOAN"
        ],
        [
         "Tennessee",
         "Positive",
         26,
         "FIXED DEPOSIT"
        ],
        [
         "Indiana",
         "Positive",
         26,
         "HOME LOAN"
        ],
        [
         "Massachusetts",
         "Positive",
         26,
         "SAVINGS ACCOUNT"
        ],
        [
         "District of Columbia",
         "Positive",
         26,
         "PERSONAL LOAN"
        ],
        [
         "Alabama",
         "Positive",
         26,
         "CREDIT CARD"
        ],
        [
         "Minnesota",
         "Positive",
         26,
         "SAVINGS ACCOUNT"
        ],
        [
         "Arizona",
         "Positive",
         26,
         "CAR LOAN"
        ],
        [
         "Missouri",
         "Positive",
         26,
         "EQUITIES"
        ],
        [
         "Pennsylvania",
         "Positive",
         26,
         "FIXED DEPOSIT"
        ],
        [
         "Iowa",
         "Positive",
         26,
         "HOME INSURANCE"
        ],
        [
         "Illinois",
         "Positive",
         26,
         "MOTOR INSURANCE"
        ],
        [
         "Oregon",
         "Positive",
         26,
         "CREDIT CARD"
        ],
        [
         "Maryland",
         "Positive",
         25,
         "HEALTH INSURANCE"
        ],
        [
         "Kentucky",
         "Positive",
         25,
         "EQUITIES"
        ],
        [
         "Massachusetts",
         "Positive",
         25,
         "LIFE INSURANCE"
        ],
        [
         "Louisiana",
         "Positive",
         25,
         "HEALTH INSURANCE"
        ],
        [
         "Massachusetts",
         "Positive",
         25,
         "EDUCATIONAL LOAN"
        ],
        [
         "Florida",
         "Positive",
         25,
         "EQUITIES"
        ],
        [
         "Florida",
         "Negative",
         25,
         "CAR LOAN"
        ],
        [
         "Missouri",
         "Negative",
         25,
         "PERSONAL LOAN"
        ],
        [
         "New York",
         "Negative",
         25,
         "HOME LOAN"
        ],
        [
         "Indiana",
         "Positive",
         24,
         "HEALTH INSURANCE"
        ],
        [
         "Iowa",
         "Positive",
         24,
         "SAVINGS ACCOUNT"
        ],
        [
         "Oregon",
         "Positive",
         24,
         "HOME LOAN"
        ],
        [
         "North Carolina",
         "Positive",
         24,
         "CAR LOAN"
        ],
        [
         "Illinois",
         "Positive",
         24,
         "HOME INSURANCE"
        ],
        [
         "Florida",
         "Negative",
         24,
         "HOME LOAN"
        ],
        [
         "Missouri",
         "Positive",
         24,
         "SAVINGS ACCOUNT"
        ],
        [
         "Michigan",
         "Positive",
         24,
         "MOTOR INSURANCE"
        ],
        [
         "Tennessee",
         "Positive",
         24,
         "PERSONAL LOAN"
        ],
        [
         "California",
         "Negative",
         24,
         "CAR LOAN"
        ],
        [
         "Kentucky",
         "Positive",
         24,
         "HOME LOAN"
        ],
        [
         "Oregon",
         "Positive",
         24,
         "MOTOR INSURANCE"
        ],
        [
         "Texas",
         "Negative",
         24,
         "CREDIT CARD"
        ],
        [
         "Florida",
         "Negative",
         24,
         "FIXED DEPOSIT"
        ],
        [
         "Minnesota",
         "Positive",
         23,
         "PERSONAL LOAN"
        ],
        [
         "Washington",
         "Positive",
         23,
         "HEALTH INSURANCE"
        ],
        [
         "Mississippi",
         "Positive",
         23,
         "LIFE INSURANCE"
        ],
        [
         "Pennsylvania",
         "Negative",
         23,
         "MOTOR INSURANCE"
        ],
        [
         "Pennsylvania",
         "Negative",
         23,
         "CREDIT CARD"
        ],
        [
         "Ohio",
         "Negative",
         23,
         "FIXED DEPOSIT"
        ],
        [
         "North Carolina",
         "Positive",
         23,
         "HOME INSURANCE"
        ],
        [
         "New York",
         "Positive",
         23,
         "EQUITIES"
        ],
        [
         "Florida",
         "Negative",
         23,
         "EDUCATIONAL LOAN"
        ],
        [
         "Kentucky",
         "Positive",
         23,
         "HEALTH INSURANCE"
        ],
        [
         "Illinois",
         "Positive",
         23,
         "PERSONAL LOAN"
        ],
        [
         "Florida",
         "Negative",
         23,
         "HOME INSURANCE"
        ],
        [
         "Louisiana",
         "Positive",
         23,
         "LIFE INSURANCE"
        ],
        [
         "Florida",
         "Negative",
         23,
         "SAVINGS ACCOUNT"
        ],
        [
         "District of Columbia",
         "Negative",
         23,
         "MOTOR INSURANCE"
        ],
        [
         "Colorado",
         "Positive",
         23,
         "HOME INSURANCE"
        ],
        [
         "Maryland",
         "Positive",
         23,
         "SAVINGS ACCOUNT"
        ],
        [
         "Arizona",
         "Positive",
         23,
         "HEALTH INSURANCE"
        ],
        [
         "Massachusetts",
         "Positive",
         23,
         "PERSONAL LOAN"
        ],
        [
         "Ohio",
         "Positive",
         22,
         "EQUITIES"
        ],
        [
         "Maryland",
         "Positive",
         22,
         "FIXED DEPOSIT"
        ],
        [
         "Minnesota",
         "Positive",
         22,
         "HOME INSURANCE"
        ],
        [
         "Colorado",
         "Positive",
         22,
         "CAR LOAN"
        ],
        [
         "Georgia",
         "Positive",
         22,
         "PERSONAL LOAN"
        ],
        [
         "Hawaii",
         "Positive",
         22,
         "LIFE INSURANCE"
        ],
        [
         "Nebraska",
         "Positive",
         22,
         "HOME LOAN"
        ],
        [
         "Oklahoma",
         "Positive",
         22,
         "CREDIT CARD"
        ],
        [
         "Massachusetts",
         "Positive",
         22,
         "CREDIT CARD"
        ],
        [
         "Georgia",
         "Positive",
         22,
         "MUTUAL FUNDS"
        ],
        [
         "Texas",
         "Negative",
         21,
         "MOTOR INSURANCE"
        ],
        [
         "Florida",
         "Positive",
         21,
         "MOTOR INSURANCE"
        ],
        [
         "Indiana",
         "Positive",
         21,
         "HOME INSURANCE"
        ],
        [
         "Michigan",
         "Positive",
         21,
         "HOME LOAN"
        ],
        [
         "Georgia",
         "Negative",
         21,
         "HOME LOAN"
        ],
        [
         "New Hampshire",
         "Positive",
         21,
         "CAR LOAN"
        ],
        [
         "Ohio",
         "Negative",
         21,
         "HEALTH INSURANCE"
        ],
        [
         "South Carolina",
         "Positive",
         21,
         "HOME INSURANCE"
        ],
        [
         "New York",
         "Negative",
         21,
         "LIFE INSURANCE"
        ],
        [
         "West Virginia",
         "Negative",
         20,
         "PERSONAL LOAN"
        ],
        [
         "Oregon",
         "Positive",
         20,
         "FIXED DEPOSIT"
        ],
        [
         "Nebraska",
         "Positive",
         20,
         "EDUCATIONAL LOAN"
        ],
        [
         "Georgia",
         "Positive",
         20,
         "HEALTH INSURANCE"
        ],
        [
         "Ohio",
         "Positive",
         20,
         "CAR LOAN"
        ],
        [
         "District of Columbia",
         "Positive",
         20,
         "FIXED DEPOSIT"
        ],
        [
         "Nevada",
         "Positive",
         20,
         "SAVINGS ACCOUNT"
        ],
        [
         "New York",
         "Negative",
         20,
         "MUTUAL FUNDS"
        ],
        [
         "Michigan",
         "Positive",
         20,
         "PERSONAL LOAN"
        ],
        [
         "New Jersey",
         "Positive",
         20,
         "CREDIT CARD"
        ],
        [
         "Indiana",
         "Positive",
         20,
         "PERSONAL LOAN"
        ],
        [
         "New Jersey",
         "Positive",
         20,
         "HOME LOAN"
        ],
        [
         "Nevada",
         "Positive",
         20,
         "HOME INSURANCE"
        ],
        [
         "Kentucky",
         "Positive",
         20,
         "HOME INSURANCE"
        ],
        [
         "Iowa",
         "Positive",
         20,
         "FIXED DEPOSIT"
        ],
        [
         "Wisconsin",
         "Negative",
         20,
         "LIFE INSURANCE"
        ],
        [
         "Texas",
         "Negative",
         19,
         "SAVINGS ACCOUNT"
        ],
        [
         "Colorado",
         "Positive",
         19,
         "HEALTH INSURANCE"
        ],
        [
         "Illinois",
         "Positive",
         19,
         "HOME LOAN"
        ],
        [
         "Florida",
         "Negative",
         19,
         "MUTUAL FUNDS"
        ],
        [
         "Massachusetts",
         "Positive",
         19,
         "HEALTH INSURANCE"
        ],
        [
         "Nebraska",
         "Positive",
         19,
         "HEALTH INSURANCE"
        ],
        [
         "Nevada",
         "Positive",
         19,
         "FIXED DEPOSIT"
        ],
        [
         "Minnesota",
         "Positive",
         19,
         "LIFE INSURANCE"
        ],
        [
         "Missouri",
         "Positive",
         19,
         "FIXED DEPOSIT"
        ],
        [
         "Kansas",
         "Positive",
         19,
         "CAR LOAN"
        ],
        [
         "New York",
         "Positive",
         19,
         "CURRENT ACCOUNT"
        ],
        [
         "Tennessee",
         "Positive",
         19,
         "MOTOR INSURANCE"
        ],
        [
         "South Dakota",
         "Positive",
         19,
         "CAR LOAN"
        ],
        [
         "Minnesota",
         "Positive",
         19,
         "HEALTH INSURANCE"
        ],
        [
         "Wisconsin",
         "Negative",
         18,
         "PERSONAL LOAN"
        ],
        [
         "District of Columbia",
         "Negative",
         18,
         "CREDIT CARD"
        ],
        [
         "Illinois",
         "Positive",
         18,
         "EDUCATIONAL LOAN"
        ],
        [
         "Nebraska",
         "Positive",
         18,
         "LIFE INSURANCE"
        ],
        [
         "Louisiana",
         "Positive",
         18,
         "CREDIT CARD"
        ],
        [
         "Maryland",
         "Positive",
         18,
         "EDUCATIONAL LOAN"
        ],
        [
         "Mississippi",
         "Positive",
         18,
         "EQUITIES"
        ],
        [
         "Pennsylvania",
         "Negative",
         18,
         "HOME LOAN"
        ],
        [
         "Oregon",
         "Positive",
         18,
         "LIFE INSURANCE"
        ],
        [
         "Maryland",
         "Positive",
         18,
         "CAR LOAN"
        ],
        [
         "New York",
         "Negative",
         18,
         "FIXED DEPOSIT"
        ],
        [
         "Wisconsin",
         "Negative",
         18,
         "CREDIT CARD"
        ],
        [
         "West Virginia",
         "Negative",
         18,
         "FIXED DEPOSIT"
        ],
        [
         "Maryland",
         "Positive",
         18,
         "PERSONAL LOAN"
        ],
        [
         "District of Columbia",
         "Negative",
         17,
         "SAVINGS ACCOUNT"
        ],
        [
         "Ohio",
         "Negative",
         17,
         "EQUITIES"
        ],
        [
         "Nevada",
         "Positive",
         17,
         "CREDIT CARD"
        ],
        [
         "Arizona",
         "Positive",
         17,
         "MUTUAL FUNDS"
        ],
        [
         "Iowa",
         "Positive",
         17,
         "PERSONAL LOAN"
        ],
        [
         "New York",
         "Negative",
         17,
         "SAVINGS ACCOUNT"
        ],
        [
         "Arizona",
         "Positive",
         17,
         "LIFE INSURANCE"
        ],
        [
         "Minnesota",
         "Positive",
         17,
         "HOME LOAN"
        ],
        [
         "North Carolina",
         "Positive",
         17,
         "MOTOR INSURANCE"
        ],
        [
         "New Jersey",
         "Positive",
         17,
         "CAR LOAN"
        ],
        [
         "Michigan",
         "Positive",
         17,
         "CURRENT ACCOUNT"
        ],
        [
         "District of Columbia",
         "Positive",
         17,
         "MUTUAL FUNDS"
        ],
        [
         "Maryland",
         "Positive",
         17,
         "CURRENT ACCOUNT"
        ],
        [
         "California",
         "Negative",
         17,
         "HOME LOAN"
        ],
        [
         "Iowa",
         "Positive",
         17,
         "EDUCATIONAL LOAN"
        ],
        [
         "Pennsylvania",
         "Positive",
         17,
         "MOTOR INSURANCE"
        ],
        [
         "Arkansas",
         "Negative",
         17,
         "LIFE INSURANCE"
        ],
        [
         "Massachusetts",
         "Positive",
         17,
         "FIXED DEPOSIT"
        ],
        [
         "Washington",
         "Positive",
         17,
         "PERSONAL LOAN"
        ],
        [
         "Wisconsin",
         "Negative",
         16,
         "SAVINGS ACCOUNT"
        ],
        [
         "Virginia",
         "Negative",
         16,
         "CREDIT CARD"
        ],
        [
         "Georgia",
         "Positive",
         16,
         "EDUCATIONAL LOAN"
        ],
        [
         "Washington",
         "Positive",
         16,
         "EQUITIES"
        ],
        [
         "Nevada",
         "Negative",
         16,
         "CREDIT CARD"
        ],
        [
         "Alabama",
         "Positive",
         16,
         "EDUCATIONAL LOAN"
        ],
        [
         "Wisconsin",
         "Negative",
         16,
         "HOME LOAN"
        ],
        [
         "Alabama",
         "Negative",
         16,
         "CREDIT CARD"
        ],
        [
         "Mississippi",
         "Positive",
         16,
         "SAVINGS ACCOUNT"
        ],
        [
         "Utah",
         "Positive",
         16,
         "CREDIT CARD"
        ],
        [
         "West Virginia",
         "Negative",
         16,
         "HEALTH INSURANCE"
        ],
        [
         "Colorado",
         "Positive",
         16,
         "HOME LOAN"
        ],
        [
         "South Carolina",
         "Positive",
         16,
         "FIXED DEPOSIT"
        ],
        [
         "Utah",
         "Positive",
         16,
         "PERSONAL LOAN"
        ],
        [
         "Minnesota",
         "Positive",
         16,
         "CAR LOAN"
        ],
        [
         "Arizona",
         "Negative",
         16,
         "MUTUAL FUNDS"
        ],
        [
         "Washington",
         "Positive",
         16,
         "FIXED DEPOSIT"
        ],
        [
         "Tennessee",
         "Positive",
         16,
         "EDUCATIONAL LOAN"
        ],
        [
         "Pennsylvania",
         "Positive",
         16,
         "EQUITIES"
        ],
        [
         "District of Columbia",
         "Negative",
         16,
         "HOME LOAN"
        ],
        [
         "Texas",
         "Negative",
         16,
         "HOME INSURANCE"
        ],
        [
         "Nevada",
         "Negative",
         16,
         "FIXED DEPOSIT"
        ],
        [
         "North Carolina",
         "Positive",
         16,
         "LIFE INSURANCE"
        ],
        [
         "Pennsylvania",
         "Negative",
         16,
         "CAR LOAN"
        ],
        [
         "Nebraska",
         "Positive",
         15,
         "MUTUAL FUNDS"
        ],
        [
         "Tennessee",
         "Positive",
         15,
         "LIFE INSURANCE"
        ],
        [
         "Mississippi",
         "Positive",
         15,
         "CREDIT CARD"
        ],
        [
         "Kentucky",
         "Positive",
         15,
         "EDUCATIONAL LOAN"
        ],
        [
         "New York",
         "Negative",
         15,
         "CAR LOAN"
        ],
        [
         "North Carolina",
         "Positive",
         15,
         "EQUITIES"
        ],
        [
         "Tennessee",
         "Positive",
         15,
         "HOME INSURANCE"
        ],
        [
         "Missouri",
         "Positive",
         15,
         "PERSONAL LOAN"
        ],
        [
         "Kansas",
         "Positive",
         15,
         "CURRENT ACCOUNT"
        ],
        [
         "Illinois",
         "Positive",
         15,
         "EQUITIES"
        ],
        [
         "New Jersey",
         "Positive",
         15,
         "SAVINGS ACCOUNT"
        ],
        [
         "Wyoming",
         "Positive",
         15,
         "EQUITIES"
        ],
        [
         "Alabama",
         "Positive",
         15,
         "HOME INSURANCE"
        ],
        [
         "Iowa",
         "Positive",
         15,
         "MUTUAL FUNDS"
        ],
        [
         "Virginia",
         "Negative",
         15,
         "SAVINGS ACCOUNT"
        ],
        [
         "Georgia",
         "Negative",
         15,
         "EDUCATIONAL LOAN"
        ],
        [
         "Wyoming",
         "Positive",
         15,
         "EDUCATIONAL LOAN"
        ],
        [
         "North Carolina",
         "Positive",
         15,
         "EDUCATIONAL LOAN"
        ],
        [
         "South Carolina",
         "Positive",
         15,
         "EQUITIES"
        ],
        [
         "Texas",
         "Negative",
         15,
         "HEALTH INSURANCE"
        ],
        [
         "Kentucky",
         "Positive",
         15,
         "FIXED DEPOSIT"
        ],
        [
         "West Virginia",
         "Negative",
         15,
         "CREDIT CARD"
        ],
        [
         "New Jersey",
         "Positive",
         15,
         "PERSONAL LOAN"
        ],
        [
         "Nevada",
         "Positive",
         15,
         "HOME LOAN"
        ],
        [
         "District of Columbia",
         "Negative",
         15,
         "HOME INSURANCE"
        ],
        [
         "Oregon",
         "Positive",
         15,
         "EDUCATIONAL LOAN"
        ],
        [
         "Missouri",
         "Positive",
         15,
         "MOTOR INSURANCE"
        ],
        [
         "Iowa",
         "Positive",
         15,
         "CURRENT ACCOUNT"
        ],
        [
         "Ohio",
         "Negative",
         15,
         "PERSONAL LOAN"
        ],
        [
         "District of Columbia",
         "Negative",
         14,
         "LIFE INSURANCE"
        ],
        [
         "Oklahoma",
         "Positive",
         14,
         "PERSONAL LOAN"
        ],
        [
         "Tennessee",
         "Positive",
         14,
         "CURRENT ACCOUNT"
        ],
        [
         "Texas",
         "Negative",
         14,
         "CAR LOAN"
        ],
        [
         "Kentucky",
         "Positive",
         14,
         "LIFE INSURANCE"
        ],
        [
         "Minnesota",
         "Positive",
         14,
         "EQUITIES"
        ],
        [
         "Ohio",
         "Negative",
         14,
         "MOTOR INSURANCE"
        ],
        [
         "New Mexico",
         "Positive",
         14,
         "HEALTH INSURANCE"
        ],
        [
         "Montana",
         "Positive",
         14,
         "HOME LOAN"
        ],
        [
         "Nebraska",
         "Positive",
         14,
         "FIXED DEPOSIT"
        ],
        [
         "Nevada",
         "Positive",
         14,
         "PERSONAL LOAN"
        ],
        [
         "Minnesota",
         "Positive",
         14,
         "FIXED DEPOSIT"
        ],
        [
         "Nebraska",
         "Negative",
         14,
         "CREDIT CARD"
        ],
        [
         "Maryland",
         "Positive",
         14,
         "HOME LOAN"
        ],
        [
         "New Jersey",
         "Positive",
         14,
         "HOME INSURANCE"
        ],
        [
         "New Mexico",
         "Positive",
         14,
         "CREDIT CARD"
        ],
        [
         "New Hampshire",
         "Positive",
         14,
         "LIFE INSURANCE"
        ],
        [
         "District of Columbia",
         "Positive",
         14,
         "EDUCATIONAL LOAN"
        ],
        [
         "South Carolina",
         "Positive",
         14,
         "PERSONAL LOAN"
        ],
        [
         "Oklahoma",
         "Positive",
         14,
         "LIFE INSURANCE"
        ],
        [
         "California",
         "Negative",
         14,
         "CURRENT ACCOUNT"
        ],
        [
         "Connecticut",
         "Positive",
         14,
         "EQUITIES"
        ],
        [
         "Colorado",
         "Positive",
         14,
         "MOTOR INSURANCE"
        ],
        [
         "Virginia",
         "Negative",
         14,
         "HEALTH INSURANCE"
        ],
        [
         "Colorado",
         "Positive",
         14,
         "SAVINGS ACCOUNT"
        ],
        [
         "Iowa",
         "Positive",
         14,
         "HOME LOAN"
        ],
        [
         "Washington",
         "Positive",
         14,
         "CAR LOAN"
        ],
        [
         "Utah",
         "Positive",
         13,
         "SAVINGS ACCOUNT"
        ],
        [
         "Iowa",
         "Positive",
         13,
         "HEALTH INSURANCE"
        ],
        [
         "Washington",
         "Positive",
         13,
         "MUTUAL FUNDS"
        ],
        [
         "Pennsylvania",
         "Positive",
         13,
         "CAR LOAN"
        ],
        [
         "Alabama",
         "Positive",
         13,
         "EQUITIES"
        ],
        [
         "New Hampshire",
         "Positive",
         13,
         "HEALTH INSURANCE"
        ],
        [
         "Iowa",
         "Positive",
         13,
         "LIFE INSURANCE"
        ],
        [
         "Kansas",
         "Positive",
         13,
         "EDUCATIONAL LOAN"
        ],
        [
         "Nebraska",
         "Positive",
         13,
         "HOME INSURANCE"
        ],
        [
         "New Hampshire",
         "Positive",
         13,
         "CREDIT CARD"
        ],
        [
         "Washington",
         "Positive",
         13,
         "MOTOR INSURANCE"
        ],
        [
         "Colorado",
         "Positive",
         13,
         "EQUITIES"
        ],
        [
         "Nevada",
         "Positive",
         13,
         "MOTOR INSURANCE"
        ],
        [
         "Texas",
         "Negative",
         13,
         "HOME LOAN"
        ],
        [
         "Missouri",
         "Negative",
         13,
         "CAR LOAN"
        ],
        [
         "Missouri",
         "Positive",
         13,
         "CAR LOAN"
        ],
        [
         "Colorado",
         "Positive",
         13,
         "FIXED DEPOSIT"
        ],
        [
         "Oregon",
         "Positive",
         13,
         "SAVINGS ACCOUNT"
        ],
        [
         "North Carolina",
         "Negative",
         13,
         "EDUCATIONAL LOAN"
        ],
        [
         "Utah",
         "Positive",
         13,
         "MUTUAL FUNDS"
        ],
        [
         "New Mexico",
         "Positive",
         13,
         "SAVINGS ACCOUNT"
        ],
        [
         "Colorado",
         "Negative",
         13,
         "HOME LOAN"
        ],
        [
         "California",
         "Negative",
         13,
         "MUTUAL FUNDS"
        ],
        [
         "Oklahoma",
         "Positive",
         13,
         "MOTOR INSURANCE"
        ],
        [
         "Tennessee",
         "Positive",
         13,
         "CAR LOAN"
        ],
        [
         "South Dakota",
         "Positive",
         13,
         "MOTOR INSURANCE"
        ],
        [
         "Missouri",
         "Negative",
         13,
         "CREDIT CARD"
        ],
        [
         "Nebraska",
         "Positive",
         12,
         "SAVINGS ACCOUNT"
        ],
        [
         "Nebraska",
         "Negative",
         12,
         "SAVINGS ACCOUNT"
        ],
        [
         "Washington",
         "Positive",
         12,
         "HOME LOAN"
        ],
        [
         "Pennsylvania",
         "Negative",
         12,
         "SAVINGS ACCOUNT"
        ],
        [
         "Alaska",
         "Positive",
         12,
         "CREDIT CARD"
        ],
        [
         "Tennessee",
         "Negative",
         12,
         "SAVINGS ACCOUNT"
        ],
        [
         "Oklahoma",
         "Positive",
         12,
         "FIXED DEPOSIT"
        ],
        [
         "Oklahoma",
         "Positive",
         12,
         "EDUCATIONAL LOAN"
        ],
        [
         "Missouri",
         "Negative",
         12,
         "HOME INSURANCE"
        ],
        [
         "Michigan",
         "Positive",
         12,
         "HOME INSURANCE"
        ],
        [
         "Kentucky",
         "Positive",
         12,
         "MUTUAL FUNDS"
        ],
        [
         "Mississippi",
         "Positive",
         12,
         "MOTOR INSURANCE"
        ],
        [
         "Alabama",
         "Positive",
         12,
         "SAVINGS ACCOUNT"
        ],
        [
         "Tennessee",
         "Negative",
         12,
         "PERSONAL LOAN"
        ],
        [
         "Tennessee",
         "Positive",
         12,
         "MUTUAL FUNDS"
        ],
        [
         "Nebraska",
         "Positive",
         12,
         "EQUITIES"
        ],
        [
         "Kentucky",
         "Positive",
         12,
         "CAR LOAN"
        ],
        [
         "Hawaii",
         "Positive",
         12,
         "SAVINGS ACCOUNT"
        ],
        [
         "Minnesota",
         "Positive",
         12,
         "MOTOR INSURANCE"
        ],
        [
         "Colorado",
         "Positive",
         12,
         "PERSONAL LOAN"
        ],
        [
         "Georgia",
         "Negative",
         12,
         "PERSONAL LOAN"
        ],
        [
         "Pennsylvania",
         "Negative",
         12,
         "PERSONAL LOAN"
        ],
        [
         "Missouri",
         "Negative",
         12,
         "SAVINGS ACCOUNT"
        ],
        [
         "Mississippi",
         "Positive",
         12,
         "PERSONAL LOAN"
        ],
        [
         "Oregon",
         "Negative",
         12,
         "LIFE INSURANCE"
        ],
        [
         "Nebraska",
         "Negative",
         12,
         "FIXED DEPOSIT"
        ],
        [
         "Alaska",
         "Negative",
         12,
         "FIXED DEPOSIT"
        ],
        [
         "Alaska",
         "Negative",
         12,
         "EQUITIES"
        ],
        [
         "Louisiana",
         "Positive",
         12,
         "FIXED DEPOSIT"
        ],
        [
         "Texas",
         "Negative",
         11,
         "EDUCATIONAL LOAN"
        ],
        [
         "Alaska",
         "Positive",
         11,
         "LIFE INSURANCE"
        ],
        [
         "West Virginia",
         "Negative",
         11,
         "LIFE INSURANCE"
        ],
        [
         "Alabama",
         "Negative",
         11,
         "SAVINGS ACCOUNT"
        ],
        [
         "California",
         "Negative",
         11,
         "PERSONAL LOAN"
        ],
        [
         "New York",
         "Negative",
         11,
         "EDUCATIONAL LOAN"
        ],
        [
         "Georgia",
         "Negative",
         11,
         "CAR LOAN"
        ],
        [
         "Louisiana",
         "Negative",
         11,
         "PERSONAL LOAN"
        ],
        [
         "Virginia",
         "Positive",
         11,
         "CURRENT ACCOUNT"
        ],
        [
         "Iowa",
         "Positive",
         11,
         "CAR LOAN"
        ],
        [
         "New Jersey",
         "Positive",
         11,
         "LIFE INSURANCE"
        ],
        [
         "Illinois",
         "Positive",
         11,
         "CAR LOAN"
        ],
        [
         "Nevada",
         "Positive",
         11,
         "CURRENT ACCOUNT"
        ],
        [
         "Kentucky",
         "Positive",
         11,
         "MOTOR INSURANCE"
        ],
        [
         "Washington",
         "Positive",
         11,
         "SAVINGS ACCOUNT"
        ],
        [
         "Illinois",
         "Negative",
         11,
         "EDUCATIONAL LOAN"
        ],
        [
         "South Carolina",
         "Positive",
         11,
         "SAVINGS ACCOUNT"
        ],
        [
         "California",
         "Negative",
         11,
         "EDUCATIONAL LOAN"
        ],
        [
         "Ohio",
         "Positive",
         11,
         "CURRENT ACCOUNT"
        ],
        [
         "New Hampshire",
         "Positive",
         11,
         "SAVINGS ACCOUNT"
        ],
        [
         "Nevada",
         "Negative",
         11,
         "HOME INSURANCE"
        ],
        [
         "Minnesota",
         "Positive",
         11,
         "EDUCATIONAL LOAN"
        ],
        [
         "Mississippi",
         "Positive",
         11,
         "CAR LOAN"
        ],
        [
         "New York",
         "Negative",
         11,
         "PERSONAL LOAN"
        ],
        [
         "Louisiana",
         "Positive",
         11,
         "MOTOR INSURANCE"
        ],
        [
         "Arizona",
         "Negative",
         11,
         "SAVINGS ACCOUNT"
        ],
        [
         "Georgia",
         "Negative",
         11,
         "CREDIT CARD"
        ],
        [
         "Iowa",
         "Negative",
         11,
         "HOME LOAN"
        ],
        [
         "Missouri",
         "Negative",
         11,
         "HEALTH INSURANCE"
        ],
        [
         "South Carolina",
         "Positive",
         11,
         "HOME LOAN"
        ],
        [
         "District of Columbia",
         "Negative",
         11,
         "CAR LOAN"
        ],
        [
         "Iowa",
         "Negative",
         11,
         "SAVINGS ACCOUNT"
        ],
        [
         "Illinois",
         "Positive",
         10,
         "CURRENT ACCOUNT"
        ],
        [
         "Tennessee",
         "Positive",
         10,
         "EQUITIES"
        ],
        [
         "North Carolina",
         "Positive",
         10,
         "MUTUAL FUNDS"
        ],
        [
         "Alabama",
         "Positive",
         10,
         "FIXED DEPOSIT"
        ],
        [
         "Connecticut",
         "Positive",
         10,
         "CREDIT CARD"
        ],
        [
         "Nebraska",
         "Negative",
         10,
         "HOME LOAN"
        ],
        [
         "Ohio",
         "Negative",
         10,
         "HOME INSURANCE"
        ],
        [
         "Virginia",
         "Negative",
         10,
         "HOME INSURANCE"
        ],
        [
         "West Virginia",
         "Negative",
         10,
         "EQUITIES"
        ],
        [
         "Wisconsin",
         "Positive",
         10,
         "CREDIT CARD"
        ],
        [
         "Virginia",
         "Negative",
         10,
         "CURRENT ACCOUNT"
        ],
        [
         "Maryland",
         "Positive",
         10,
         "MUTUAL FUNDS"
        ],
        [
         "South Dakota",
         "Positive",
         10,
         "FIXED DEPOSIT"
        ],
        [
         "South Carolina",
         "Positive",
         10,
         "MOTOR INSURANCE"
        ],
        [
         "Indiana",
         "Positive",
         10,
         "CURRENT ACCOUNT"
        ],
        [
         "Ohio",
         "Negative",
         10,
         "SAVINGS ACCOUNT"
        ],
        [
         "Oregon",
         "Positive",
         10,
         "PERSONAL LOAN"
        ],
        [
         "Alabama",
         "Negative",
         10,
         "FIXED DEPOSIT"
        ],
        [
         "Hawaii",
         "Positive",
         10,
         "HEALTH INSURANCE"
        ],
        [
         "Washington",
         "Positive",
         10,
         "EDUCATIONAL LOAN"
        ],
        [
         "Missouri",
         "Positive",
         10,
         "LIFE INSURANCE"
        ],
        [
         "Alabama",
         "Positive",
         10,
         "LIFE INSURANCE"
        ],
        [
         "Georgia",
         "Negative",
         10,
         "HOME INSURANCE"
        ],
        [
         "Montana",
         "Positive",
         10,
         "MOTOR INSURANCE"
        ],
        [
         "Louisiana",
         "Positive",
         10,
         "HOME INSURANCE"
        ],
        [
         "New Hampshire",
         "Positive",
         10,
         "MOTOR INSURANCE"
        ],
        [
         "Louisiana",
         "Negative",
         10,
         "CAR LOAN"
        ],
        [
         "Arkansas",
         "Positive",
         10,
         "LIFE INSURANCE"
        ],
        [
         "Mississippi",
         "Positive",
         10,
         "EDUCATIONAL LOAN"
        ],
        [
         "North Carolina",
         "Negative",
         10,
         "CREDIT CARD"
        ],
        [
         "Massachusetts",
         "Positive",
         10,
         "HOME INSURANCE"
        ],
        [
         "Ohio",
         "Positive",
         10,
         "PERSONAL LOAN"
        ],
        [
         "Maryland",
         "Positive",
         10,
         "EQUITIES"
        ],
        [
         "Michigan",
         "Positive",
         10,
         "EDUCATIONAL LOAN"
        ],
        [
         "Hawaii",
         "Positive",
         10,
         "CURRENT ACCOUNT"
        ],
        [
         "Washington",
         "Positive",
         10,
         "HOME INSURANCE"
        ],
        [
         "Colorado",
         "Positive",
         10,
         "MUTUAL FUNDS"
        ],
        [
         "Virginia",
         "Negative",
         10,
         "MOTOR INSURANCE"
        ],
        [
         "Wisconsin",
         "Positive",
         10,
         "FIXED DEPOSIT"
        ],
        [
         "Minnesota",
         "Negative",
         10,
         "CAR LOAN"
        ],
        [
         "Pennsylvania",
         "Positive",
         9,
         "PERSONAL LOAN"
        ],
        [
         "Pennsylvania",
         "Negative",
         9,
         "FIXED DEPOSIT"
        ],
        [
         "Nebraska",
         "Negative",
         9,
         "MOTOR INSURANCE"
        ],
        [
         "Utah",
         "Positive",
         9,
         "CAR LOAN"
        ],
        [
         "Hawaii",
         "Positive",
         9,
         "PERSONAL LOAN"
        ],
        [
         "Alabama",
         "Negative",
         9,
         "MUTUAL FUNDS"
        ],
        [
         "Pennsylvania",
         "Positive",
         9,
         "MUTUAL FUNDS"
        ],
        [
         "Idaho",
         "Positive",
         9,
         "HOME LOAN"
        ],
        [
         "Oregon",
         "Positive",
         9,
         "CAR LOAN"
        ],
        [
         "Minnesota",
         "Negative",
         9,
         "SAVINGS ACCOUNT"
        ],
        [
         "New Jersey",
         "Positive",
         9,
         "FIXED DEPOSIT"
        ],
        [
         "Oklahoma",
         "Positive",
         9,
         "CAR LOAN"
        ],
        [
         "Kansas",
         "Positive",
         9,
         "HOME INSURANCE"
        ],
        [
         "District of Columbia",
         "Negative",
         9,
         "EDUCATIONAL LOAN"
        ],
        [
         "Oklahoma",
         "Positive",
         9,
         "HEALTH INSURANCE"
        ],
        [
         "Nebraska",
         "Positive",
         9,
         "MOTOR INSURANCE"
        ],
        [
         "Illinois",
         "Negative",
         9,
         "CREDIT CARD"
        ],
        [
         "South Carolina",
         "Positive",
         9,
         "MUTUAL FUNDS"
        ],
        [
         "Alaska",
         "Positive",
         9,
         "SAVINGS ACCOUNT"
        ],
        [
         "Michigan",
         "Positive",
         9,
         "MUTUAL FUNDS"
        ],
        [
         "Nevada",
         "Positive",
         9,
         "CAR LOAN"
        ],
        [
         "Missouri",
         "Negative",
         8,
         "EQUITIES"
        ],
        [
         "West Virginia",
         "Negative",
         8,
         "MUTUAL FUNDS"
        ],
        [
         "Alabama",
         "Negative",
         8,
         "EQUITIES"
        ],
        [
         "South Carolina",
         "Positive",
         8,
         "LIFE INSURANCE"
        ],
        [
         "South Carolina",
         "Positive",
         8,
         "CAR LOAN"
        ],
        [
         "Idaho",
         "Positive",
         8,
         "CAR LOAN"
        ],
        [
         "Virginia",
         "Positive",
         8,
         "MUTUAL FUNDS"
        ],
        [
         "New Mexico",
         "Positive",
         8,
         "EDUCATIONAL LOAN"
        ],
        [
         "Pennsylvania",
         "Negative",
         8,
         "EQUITIES"
        ],
        [
         "Oklahoma",
         "Positive",
         8,
         "SAVINGS ACCOUNT"
        ],
        [
         "Louisiana",
         "Positive",
         8,
         "CAR LOAN"
        ],
        [
         "Pennsylvania",
         "Negative",
         8,
         "CURRENT ACCOUNT"
        ],
        [
         "New York",
         "Negative",
         8,
         "HOME INSURANCE"
        ],
        [
         "Connecticut",
         "Positive",
         8,
         "CURRENT ACCOUNT"
        ],
        [
         "Wisconsin",
         "Positive",
         8,
         "MOTOR INSURANCE"
        ],
        [
         "District of Columbia",
         "Positive",
         8,
         "CURRENT ACCOUNT"
        ],
        [
         "District of Columbia",
         "Negative",
         8,
         "PERSONAL LOAN"
        ],
        [
         "Utah",
         "Negative",
         8,
         "CAR LOAN"
        ],
        [
         "Hawaii",
         "Positive",
         8,
         "CREDIT CARD"
        ],
        [
         "Louisiana",
         "Negative",
         8,
         "CREDIT CARD"
        ],
        [
         "Minnesota",
         "Positive",
         8,
         "MUTUAL FUNDS"
        ],
        [
         "Washington",
         "Negative",
         8,
         "EQUITIES"
        ],
        [
         "South Dakota",
         "Positive",
         8,
         "PERSONAL LOAN"
        ],
        [
         "Texas",
         "Negative",
         8,
         "LIFE INSURANCE"
        ],
        [
         "Utah",
         "Positive",
         8,
         "EQUITIES"
        ],
        [
         "Minnesota",
         "Negative",
         8,
         "MOTOR INSURANCE"
        ],
        [
         "Connecticut",
         "Positive",
         8,
         "SAVINGS ACCOUNT"
        ],
        [
         "Wisconsin",
         "Positive",
         8,
         "CAR LOAN"
        ],
        [
         "Massachusetts",
         "Positive",
         8,
         "MOTOR INSURANCE"
        ],
        [
         "Colorado",
         "Negative",
         8,
         "MOTOR INSURANCE"
        ],
        [
         "Arizona",
         "Positive",
         8,
         "CURRENT ACCOUNT"
        ],
        [
         "Oregon",
         "Positive",
         8,
         "HEALTH INSURANCE"
        ],
        [
         "Colorado",
         "Positive",
         8,
         "CURRENT ACCOUNT"
        ],
        [
         "Mississippi",
         "Positive",
         8,
         "HEALTH INSURANCE"
        ],
        [
         "Colorado",
         "Negative",
         8,
         "SAVINGS ACCOUNT"
        ],
        [
         "Illinois",
         "Negative",
         8,
         "HOME LOAN"
        ],
        [
         "Florida",
         "Negative",
         7,
         "EQUITIES"
        ],
        [
         "Oklahoma",
         "Negative",
         7,
         "CAR LOAN"
        ],
        [
         "New Hampshire",
         "Positive",
         7,
         "PERSONAL LOAN"
        ],
        [
         "Alabama",
         "Negative",
         7,
         "EDUCATIONAL LOAN"
        ],
        [
         "Illinois",
         "Negative",
         7,
         "SAVINGS ACCOUNT"
        ],
        [
         "Nevada",
         "Positive",
         7,
         "MUTUAL FUNDS"
        ],
        [
         "Oklahoma",
         "Negative",
         7,
         "HEALTH INSURANCE"
        ],
        [
         "Oklahoma",
         "Negative",
         7,
         "EQUITIES"
        ],
        [
         "Virginia",
         "Negative",
         7,
         "MUTUAL FUNDS"
        ],
        [
         "Oklahoma",
         "Negative",
         7,
         "CREDIT CARD"
        ],
        [
         "Idaho",
         "Positive",
         7,
         "CREDIT CARD"
        ],
        [
         "District of Columbia",
         "Negative",
         7,
         "CURRENT ACCOUNT"
        ],
        [
         "Arkansas",
         "Positive",
         7,
         "CREDIT CARD"
        ],
        [
         "Colorado",
         "Negative",
         7,
         "HEALTH INSURANCE"
        ],
        [
         "Tennessee",
         "Negative",
         7,
         "EDUCATIONAL LOAN"
        ],
        [
         "Georgia",
         "Positive",
         7,
         "CURRENT ACCOUNT"
        ],
        [
         "Tennessee",
         "Positive",
         7,
         "HOME LOAN"
        ],
        [
         "Florida",
         "Negative",
         7,
         "MOTOR INSURANCE"
        ],
        [
         "Louisiana",
         "Negative",
         7,
         "EQUITIES"
        ],
        [
         "Indiana",
         "Positive",
         7,
         "MUTUAL FUNDS"
        ],
        [
         "New Hampshire",
         "Positive",
         7,
         "HOME LOAN"
        ],
        [
         "Nebraska",
         "Negative",
         7,
         "HOME INSURANCE"
        ],
        [
         "Hawaii",
         "Positive",
         7,
         "CAR LOAN"
        ],
        [
         "Arkansas",
         "Negative",
         7,
         "SAVINGS ACCOUNT"
        ],
        [
         "Tennessee",
         "Negative",
         7,
         "CREDIT CARD"
        ],
        [
         "Colorado",
         "Negative",
         7,
         "CREDIT CARD"
        ],
        [
         "Arkansas",
         "Negative",
         7,
         "HOME INSURANCE"
        ],
        [
         "Louisiana",
         "Negative",
         7,
         "SAVINGS ACCOUNT"
        ],
        [
         "Illinois",
         "Negative",
         7,
         "PERSONAL LOAN"
        ],
        [
         "Missouri",
         "Positive",
         7,
         "EDUCATIONAL LOAN"
        ],
        [
         "Nevada",
         "Negative",
         7,
         "HEALTH INSURANCE"
        ],
        [
         "Wisconsin",
         "Negative",
         7,
         "EDUCATIONAL LOAN"
        ],
        [
         "Alaska",
         "Positive",
         7,
         "HEALTH INSURANCE"
        ],
        [
         "Oklahoma",
         "Positive",
         7,
         "HOME LOAN"
        ],
        [
         "North Carolina",
         "Positive",
         7,
         "CURRENT ACCOUNT"
        ],
        [
         "New Mexico",
         "Positive",
         7,
         "MOTOR INSURANCE"
        ],
        [
         "New Mexico",
         "Positive",
         7,
         "CURRENT ACCOUNT"
        ],
        [
         "Alabama",
         "Positive",
         7,
         "CAR LOAN"
        ],
        [
         "Georgia",
         "Negative",
         7,
         "MOTOR INSURANCE"
        ],
        [
         "Texas",
         "Negative",
         7,
         "EQUITIES"
        ],
        [
         "Alabama",
         "Positive",
         7,
         "PERSONAL LOAN"
        ],
        [
         "Arizona",
         "Negative",
         7,
         "HEALTH INSURANCE"
        ],
        [
         "Montana",
         "Positive",
         7,
         "SAVINGS ACCOUNT"
        ],
        [
         "Connecticut",
         "Positive",
         7,
         "PERSONAL LOAN"
        ],
        [
         "Nebraska",
         "Negative",
         7,
         "LIFE INSURANCE"
        ],
        [
         "Virginia",
         "Negative",
         7,
         "HOME LOAN"
        ],
        [
         "Pennsylvania",
         "Negative",
         6,
         "EDUCATIONAL LOAN"
        ],
        [
         "Oregon",
         "Negative",
         6,
         "FIXED DEPOSIT"
        ],
        [
         "Virginia",
         "Negative",
         6,
         "CAR LOAN"
        ],
        [
         "Connecticut",
         "Negative",
         6,
         "CREDIT CARD"
        ],
        [
         "Connecticut",
         "Positive",
         6,
         "LIFE INSURANCE"
        ],
        [
         "Iowa",
         "Negative",
         6,
         "HEALTH INSURANCE"
        ],
        [
         "South Carolina",
         "Positive",
         6,
         "EDUCATIONAL LOAN"
        ],
        [
         "Oregon",
         "Negative",
         6,
         "CREDIT CARD"
        ],
        [
         "Ohio",
         "Negative",
         6,
         "LIFE INSURANCE"
        ],
        [
         "Nevada",
         "Negative",
         6,
         "CURRENT ACCOUNT"
        ],
        [
         "Arizona",
         "Negative",
         6,
         "CREDIT CARD"
        ],
        [
         "Maryland",
         "Positive",
         6,
         "HOME INSURANCE"
        ],
        [
         "Iowa",
         "Negative",
         6,
         "CREDIT CARD"
        ],
        [
         "Connecticut",
         "Negative",
         6,
         "SAVINGS ACCOUNT"
        ],
        [
         "Idaho",
         "Negative",
         6,
         "HOME LOAN"
        ],
        [
         "Oklahoma",
         "Positive",
         6,
         "HOME INSURANCE"
        ],
        [
         "Utah",
         "Positive",
         6,
         "FIXED DEPOSIT"
        ],
        [
         "Wisconsin",
         "Negative",
         6,
         "FIXED DEPOSIT"
        ],
        [
         "Tennessee",
         "Negative",
         6,
         "HOME INSURANCE"
        ],
        [
         "Oregon",
         "Negative",
         6,
         "CAR LOAN"
        ],
        [
         "Alaska",
         "Positive",
         6,
         "PERSONAL LOAN"
        ],
        [
         "Utah",
         "Negative",
         6,
         "CURRENT ACCOUNT"
        ],
        [
         "Michigan",
         "Negative",
         6,
         "HOME LOAN"
        ],
        [
         "Idaho",
         "Positive",
         6,
         "SAVINGS ACCOUNT"
        ],
        [
         "Wisconsin",
         "Positive",
         6,
         "SAVINGS ACCOUNT"
        ],
        [
         "Hawaii",
         "Positive",
         6,
         "HOME LOAN"
        ],
        [
         "Ohio",
         "Negative",
         6,
         "CAR LOAN"
        ],
        [
         "Oregon",
         "Negative",
         6,
         "CURRENT ACCOUNT"
        ],
        [
         "Oregon",
         "Negative",
         6,
         "SAVINGS ACCOUNT"
        ],
        [
         "Tennessee",
         "Negative",
         6,
         "MUTUAL FUNDS"
        ],
        [
         "Utah",
         "Negative",
         6,
         "MOTOR INSURANCE"
        ],
        [
         "Tennessee",
         "Negative",
         6,
         "CURRENT ACCOUNT"
        ],
        [
         "Minnesota",
         "Positive",
         6,
         "CURRENT ACCOUNT"
        ],
        [
         "North Carolina",
         "Positive",
         6,
         "PERSONAL LOAN"
        ],
        [
         "Nevada",
         "Negative",
         6,
         "SAVINGS ACCOUNT"
        ],
        [
         "Alaska",
         "Negative",
         6,
         "SAVINGS ACCOUNT"
        ],
        [
         "Tennessee",
         "Negative",
         6,
         "CAR LOAN"
        ],
        [
         "Tennessee",
         "Negative",
         6,
         "LIFE INSURANCE"
        ],
        [
         "Alaska",
         "Negative",
         6,
         "HEALTH INSURANCE"
        ],
        [
         "Colorado",
         "Negative",
         6,
         "EQUITIES"
        ],
        [
         "Alaska",
         "Negative",
         6,
         "CREDIT CARD"
        ],
        [
         "Arizona",
         "Negative",
         6,
         "PERSONAL LOAN"
        ],
        [
         "Texas",
         "Negative",
         6,
         "CURRENT ACCOUNT"
        ],
        [
         "Michigan",
         "Negative",
         6,
         "CAR LOAN"
        ],
        [
         "New Jersey",
         "Positive",
         6,
         "EQUITIES"
        ],
        [
         "Hawaii",
         "Positive",
         6,
         "EQUITIES"
        ],
        [
         "Ohio",
         "Negative",
         6,
         "EDUCATIONAL LOAN"
        ],
        [
         "Georgia",
         "Negative",
         6,
         "SAVINGS ACCOUNT"
        ],
        [
         "Alabama",
         "Positive",
         6,
         "HOME LOAN"
        ],
        [
         "Iowa",
         "Negative",
         6,
         "HOME INSURANCE"
        ],
        [
         "Utah",
         "Negative",
         6,
         "SAVINGS ACCOUNT"
        ],
        [
         "Alabama",
         "Negative",
         5,
         "MOTOR INSURANCE"
        ],
        [
         "Nebraska",
         "Negative",
         5,
         "EQUITIES"
        ],
        [
         "Massachusetts",
         "Negative",
         5,
         "MUTUAL FUNDS"
        ],
        [
         "Maine",
         "Negative",
         5,
         "PERSONAL LOAN"
        ],
        [
         "Virginia",
         "Negative",
         5,
         "PERSONAL LOAN"
        ],
        [
         "Wyoming",
         "Positive",
         5,
         "SAVINGS ACCOUNT"
        ],
        [
         "North Dakota",
         "Positive",
         5,
         "PERSONAL LOAN"
        ],
        [
         "Missouri",
         "Negative",
         5,
         "CURRENT ACCOUNT"
        ],
        [
         "Alaska",
         "Positive",
         5,
         "EQUITIES"
        ],
        [
         "Utah",
         "Positive",
         5,
         "MOTOR INSURANCE"
        ],
        [
         "West Virginia",
         "Negative",
         5,
         "SAVINGS ACCOUNT"
        ],
        [
         "Nevada",
         "Negative",
         5,
         "MUTUAL FUNDS"
        ],
        [
         "Louisiana",
         "Positive",
         5,
         "EQUITIES"
        ],
        [
         "Nevada",
         "Negative",
         5,
         "EQUITIES"
        ],
        [
         "Kentucky",
         "Positive",
         5,
         "CURRENT ACCOUNT"
        ],
        [
         "Maine",
         "Negative",
         5,
         "HEALTH INSURANCE"
        ],
        [
         "Louisiana",
         "Positive",
         5,
         "HOME LOAN"
        ],
        [
         "Louisiana",
         "Negative",
         5,
         "MOTOR INSURANCE"
        ],
        [
         "North Carolina",
         "Negative",
         5,
         "SAVINGS ACCOUNT"
        ],
        [
         "North Carolina",
         "Negative",
         5,
         "HEALTH INSURANCE"
        ],
        [
         "Pennsylvania",
         "Negative",
         5,
         "MUTUAL FUNDS"
        ],
        [
         "Missouri",
         "Negative",
         5,
         "MOTOR INSURANCE"
        ],
        [
         "Kansas",
         "Negative",
         5,
         "PERSONAL LOAN"
        ],
        [
         "Kansas",
         "Negative",
         5,
         "CREDIT CARD"
        ],
        [
         "Oregon",
         "Positive",
         5,
         "MUTUAL FUNDS"
        ],
        [
         "Wyoming",
         "Positive",
         5,
         "MOTOR INSURANCE"
        ],
        [
         "Kansas",
         "Negative",
         5,
         "SAVINGS ACCOUNT"
        ],
        [
         "Rhode Island",
         "Positive",
         5,
         "CREDIT CARD"
        ],
        [
         "Washington",
         "Negative",
         5,
         "SAVINGS ACCOUNT"
        ],
        [
         "North Dakota",
         "Positive",
         5,
         "HEALTH INSURANCE"
        ],
        [
         "North Dakota",
         "Positive",
         5,
         "HOME LOAN"
        ],
        [
         "Wyoming",
         "Positive",
         5,
         "CURRENT ACCOUNT"
        ],
        [
         "Idaho",
         "Positive",
         5,
         "HEALTH INSURANCE"
        ],
        [
         "Iowa",
         "Negative",
         5,
         "CAR LOAN"
        ],
        [
         "Nebraska",
         "Positive",
         5,
         "PERSONAL LOAN"
        ],
        [
         "Alabama",
         "Positive",
         5,
         "HEALTH INSURANCE"
        ],
        [
         "North Dakota",
         "Positive",
         5,
         "CREDIT CARD"
        ],
        [
         "Illinois",
         "Negative",
         5,
         "LIFE INSURANCE"
        ],
        [
         "Georgia",
         "Negative",
         5,
         "CURRENT ACCOUNT"
        ],
        [
         "Nevada",
         "Negative",
         5,
         "MOTOR INSURANCE"
        ],
        [
         "Arkansas",
         "Negative",
         5,
         "PERSONAL LOAN"
        ],
        [
         "California",
         "Negative",
         5,
         "HOME INSURANCE"
        ],
        [
         "Missouri",
         "Positive",
         5,
         "CURRENT ACCOUNT"
        ],
        [
         "Utah",
         "Positive",
         5,
         "HEALTH INSURANCE"
        ],
        [
         "Iowa",
         "Negative",
         5,
         "EDUCATIONAL LOAN"
        ],
        [
         "Texas",
         "Negative",
         5,
         "MUTUAL FUNDS"
        ],
        [
         "South Dakota",
         "Positive",
         5,
         "EDUCATIONAL LOAN"
        ],
        [
         "Wyoming",
         "Positive",
         5,
         "HOME INSURANCE"
        ],
        [
         "Iowa",
         "Negative",
         5,
         "LIFE INSURANCE"
        ],
        [
         "Kansas",
         "Negative",
         5,
         "EDUCATIONAL LOAN"
        ],
        [
         "Maine",
         "Negative",
         5,
         "CREDIT CARD"
        ],
        [
         "North Carolina",
         "Negative",
         5,
         "CAR LOAN"
        ],
        [
         "Kansas",
         "Negative",
         5,
         "HEALTH INSURANCE"
        ],
        [
         "Louisiana",
         "Negative",
         5,
         "HEALTH INSURANCE"
        ],
        [
         "Arkansas",
         "Negative",
         5,
         "CURRENT ACCOUNT"
        ],
        [
         "Texas",
         "Negative",
         5,
         "PERSONAL LOAN"
        ],
        [
         "Arkansas",
         "Negative",
         5,
         "HOME LOAN"
        ],
        [
         "West Virginia",
         "Negative",
         5,
         "MOTOR INSURANCE"
        ],
        [
         "Wyoming",
         "Positive",
         5,
         "HEALTH INSURANCE"
        ],
        [
         "Rhode Island",
         "Positive",
         5,
         "LIFE INSURANCE"
        ],
        [
         "Maine",
         "Negative",
         5,
         "LIFE INSURANCE"
        ],
        [
         "Kansas",
         "Negative",
         5,
         "CAR LOAN"
        ],
        [
         "South Dakota",
         "Positive",
         5,
         "HOME INSURANCE"
        ],
        [
         "Louisiana",
         "Negative",
         5,
         "FIXED DEPOSIT"
        ],
        [
         "Nebraska",
         "Negative",
         5,
         "EDUCATIONAL LOAN"
        ],
        [
         "Massachusetts",
         "Negative",
         5,
         "HEALTH INSURANCE"
        ],
        [
         "Massachusetts",
         "Negative",
         5,
         "CREDIT CARD"
        ],
        [
         "Wyoming",
         "Positive",
         5,
         "CREDIT CARD"
        ],
        [
         "Louisiana",
         "Positive",
         5,
         "PERSONAL LOAN"
        ],
        [
         "Maine",
         "Negative",
         5,
         "HOME LOAN"
        ],
        [
         "New Jersey",
         "Positive",
         5,
         "EDUCATIONAL LOAN"
        ],
        [
         "Colorado",
         "Negative",
         4,
         "LIFE INSURANCE"
        ],
        [
         "Utah",
         "Negative",
         4,
         "HEALTH INSURANCE"
        ],
        [
         "Hawaii",
         "Positive",
         4,
         "HOME INSURANCE"
        ],
        [
         "Wisconsin",
         "Positive",
         4,
         "EDUCATIONAL LOAN"
        ],
        [
         "Wisconsin",
         "Positive",
         4,
         "LIFE INSURANCE"
        ],
        [
         "Minnesota",
         "Negative",
         4,
         "HOME LOAN"
        ],
        [
         "Washington",
         "Negative",
         4,
         "FIXED DEPOSIT"
        ],
        [
         "Washington",
         "Negative",
         4,
         "PERSONAL LOAN"
        ],
        [
         "Alaska",
         "Positive",
         4,
         "HOME LOAN"
        ],
        [
         "Washington",
         "Negative",
         4,
         "CURRENT ACCOUNT"
        ],
        [
         "Rhode Island",
         "Positive",
         4,
         "SAVINGS ACCOUNT"
        ],
        [
         "Arizona",
         "Negative",
         4,
         "CAR LOAN"
        ],
        [
         "Nevada",
         "Positive",
         4,
         "HEALTH INSURANCE"
        ],
        [
         "District of Columbia",
         "Negative",
         4,
         "EQUITIES"
        ],
        [
         "Washington",
         "Negative",
         4,
         "HOME LOAN"
        ],
        [
         "Washington",
         "Negative",
         4,
         "HEALTH INSURANCE"
        ],
        [
         "West Virginia",
         "Positive",
         4,
         "EDUCATIONAL LOAN"
        ],
        [
         "Nevada",
         "Negative",
         4,
         "EDUCATIONAL LOAN"
        ],
        [
         "Oklahoma",
         "Positive",
         4,
         "CURRENT ACCOUNT"
        ],
        [
         "Delaware",
         "Positive",
         4,
         "MUTUAL FUNDS"
        ],
        [
         "Washington",
         "Negative",
         4,
         "CREDIT CARD"
        ],
        [
         "Michigan",
         "Negative",
         4,
         "FIXED DEPOSIT"
        ],
        [
         "Wisconsin",
         "Positive",
         4,
         "HOME INSURANCE"
        ],
        [
         "District of Columbia",
         "Negative",
         4,
         "MUTUAL FUNDS"
        ],
        [
         "District of Columbia",
         "Negative",
         4,
         "FIXED DEPOSIT"
        ],
        [
         "Wisconsin",
         "Positive",
         4,
         "EQUITIES"
        ],
        [
         "Idaho",
         "Positive",
         4,
         "LIFE INSURANCE"
        ],
        [
         "New Mexico",
         "Positive",
         4,
         "HOME INSURANCE"
        ],
        [
         "Mississippi",
         "Positive",
         4,
         "CURRENT ACCOUNT"
        ],
        [
         "Montana",
         "Negative",
         4,
         "EQUITIES"
        ],
        [
         "Michigan",
         "Negative",
         4,
         "SAVINGS ACCOUNT"
        ],
        [
         "Ohio",
         "Positive",
         4,
         "MUTUAL FUNDS"
        ],
        [
         "Michigan",
         "Negative",
         4,
         "EDUCATIONAL LOAN"
        ],
        [
         "Washington",
         "Negative",
         4,
         "HOME INSURANCE"
        ],
        [
         "Idaho",
         "Positive",
         4,
         "FIXED DEPOSIT"
        ],
        [
         "Delaware",
         "Positive",
         4,
         "HOME INSURANCE"
        ],
        [
         "Arizona",
         "Negative",
         4,
         "EDUCATIONAL LOAN"
        ],
        [
         "Massachusetts",
         "Positive",
         4,
         "EQUITIES"
        ],
        [
         "Alaska",
         "Positive",
         4,
         "EDUCATIONAL LOAN"
        ],
        [
         "Arizona",
         "Negative",
         4,
         "FIXED DEPOSIT"
        ],
        [
         "Connecticut",
         "Negative",
         4,
         "EDUCATIONAL LOAN"
        ],
        [
         "Connecticut",
         "Negative",
         4,
         "PERSONAL LOAN"
        ],
        [
         "North Carolina",
         "Negative",
         4,
         "FIXED DEPOSIT"
        ],
        [
         "Rhode Island",
         "Positive",
         4,
         "HEALTH INSURANCE"
        ],
        [
         "Wisconsin",
         "Negative",
         4,
         "HOME INSURANCE"
        ],
        [
         "Connecticut",
         "Negative",
         4,
         "CAR LOAN"
        ],
        [
         "Connecticut",
         "Negative",
         4,
         "HOME LOAN"
        ],
        [
         "North Carolina",
         "Negative",
         4,
         "HOME INSURANCE"
        ],
        [
         "New Hampshire",
         "Positive",
         4,
         "HOME INSURANCE"
        ],
        [
         "Utah",
         "Positive",
         4,
         "LIFE INSURANCE"
        ],
        [
         "Connecticut",
         "Negative",
         4,
         "MOTOR INSURANCE"
        ],
        [
         "West Virginia",
         "Positive",
         4,
         "FIXED DEPOSIT"
        ],
        [
         "Wisconsin",
         "Negative",
         4,
         "HEALTH INSURANCE"
        ],
        [
         "Massachusetts",
         "Negative",
         4,
         "EDUCATIONAL LOAN"
        ],
        [
         "West Virginia",
         "Positive",
         4,
         "SAVINGS ACCOUNT"
        ],
        [
         "West Virginia",
         "Positive",
         4,
         "HOME INSURANCE"
        ],
        [
         "Connecticut",
         "Negative",
         4,
         "EQUITIES"
        ],
        [
         "Louisiana",
         "Positive",
         4,
         "SAVINGS ACCOUNT"
        ],
        [
         "Minnesota",
         "Negative",
         4,
         "CREDIT CARD"
        ],
        [
         "Connecticut",
         "Negative",
         4,
         "LIFE INSURANCE"
        ],
        [
         "Idaho",
         "Positive",
         4,
         "MOTOR INSURANCE"
        ],
        [
         "Rhode Island",
         "Positive",
         4,
         "CAR LOAN"
        ],
        [
         "Utah",
         "Negative",
         4,
         "HOME INSURANCE"
        ],
        [
         "Alabama",
         "Negative",
         4,
         "HEALTH INSURANCE"
        ],
        [
         "Alaska",
         "Positive",
         3,
         "FIXED DEPOSIT"
        ],
        [
         "Idaho",
         "Negative",
         3,
         "EQUITIES"
        ],
        [
         "North Carolina",
         "Negative",
         3,
         "PERSONAL LOAN"
        ],
        [
         "Alabama",
         "Positive",
         3,
         "CURRENT ACCOUNT"
        ],
        [
         "Oregon",
         "Positive",
         3,
         "HOME INSURANCE"
        ],
        [
         "Virginia",
         "Negative",
         3,
         "LIFE INSURANCE"
        ],
        [
         "Ohio",
         "Negative",
         3,
         "HOME LOAN"
        ],
        [
         "Massachusetts",
         "Negative",
         3,
         "SAVINGS ACCOUNT"
        ],
        [
         "Mississippi",
         "Negative",
         3,
         "LIFE INSURANCE"
        ],
        [
         "New Mexico",
         "Positive",
         3,
         "CAR LOAN"
        ],
        [
         "Pennsylvania",
         "Positive",
         3,
         "CURRENT ACCOUNT"
        ],
        [
         "Massachusetts",
         "Negative",
         3,
         "HOME INSURANCE"
        ],
        [
         "Connecticut",
         "Positive",
         3,
         "HOME INSURANCE"
        ],
        [
         "Minnesota",
         "Negative",
         3,
         "HEALTH INSURANCE"
        ],
        [
         "Illinois",
         "Negative",
         3,
         "HEALTH INSURANCE"
        ],
        [
         "Ohio",
         "Negative",
         3,
         "MUTUAL FUNDS"
        ],
        [
         "Minnesota",
         "Negative",
         3,
         "PERSONAL LOAN"
        ],
        [
         "New Hampshire",
         "Positive",
         3,
         "FIXED DEPOSIT"
        ],
        [
         "Idaho",
         "Negative",
         3,
         "CREDIT CARD"
        ],
        [
         "Idaho",
         "Negative",
         3,
         "HOME INSURANCE"
        ],
        [
         "Mississippi",
         "Negative",
         3,
         "CREDIT CARD"
        ],
        [
         "Kentucky",
         "Negative",
         3,
         "PERSONAL LOAN"
        ],
        [
         "Minnesota",
         "Negative",
         3,
         "EDUCATIONAL LOAN"
        ],
        [
         "Michigan",
         "Negative",
         3,
         "CREDIT CARD"
        ],
        [
         "Arkansas",
         "Positive",
         3,
         "PERSONAL LOAN"
        ],
        [
         "West Virginia",
         "Positive",
         3,
         "EQUITIES"
        ],
        [
         "Arkansas",
         "Positive",
         3,
         "HEALTH INSURANCE"
        ],
        [
         "West Virginia",
         "Positive",
         3,
         "MOTOR INSURANCE"
        ],
        [
         "Idaho",
         "Negative",
         3,
         "EDUCATIONAL LOAN"
        ],
        [
         "New Hampshire",
         "Positive",
         3,
         "EDUCATIONAL LOAN"
        ],
        [
         "Michigan",
         "Negative",
         3,
         "MOTOR INSURANCE"
        ],
        [
         "Nebraska",
         "Negative",
         3,
         "HEALTH INSURANCE"
        ],
        [
         "New Mexico",
         "Positive",
         3,
         "FIXED DEPOSIT"
        ],
        [
         "Louisiana",
         "Positive",
         3,
         "MUTUAL FUNDS"
        ],
        [
         "Utah",
         "Positive",
         3,
         "HOME INSURANCE"
        ],
        [
         "Connecticut",
         "Positive",
         3,
         "HEALTH INSURANCE"
        ],
        [
         "West Virginia",
         "Positive",
         3,
         "LIFE INSURANCE"
        ],
        [
         "Mississippi",
         "Negative",
         3,
         "CURRENT ACCOUNT"
        ],
        [
         "Alaska",
         "Positive",
         3,
         "MOTOR INSURANCE"
        ],
        [
         "Mississippi",
         "Negative",
         3,
         "SAVINGS ACCOUNT"
        ],
        [
         "Arizona",
         "Negative",
         3,
         "MOTOR INSURANCE"
        ],
        [
         "New Mexico",
         "Positive",
         3,
         "PERSONAL LOAN"
        ],
        [
         "Massachusetts",
         "Negative",
         3,
         "HOME LOAN"
        ],
        [
         "New York",
         "Negative",
         3,
         "CURRENT ACCOUNT"
        ],
        [
         "Idaho",
         "Negative",
         3,
         "PERSONAL LOAN"
        ],
        [
         "Arizona",
         "Negative",
         3,
         "CURRENT ACCOUNT"
        ],
        [
         "Alabama",
         "Negative",
         3,
         "CAR LOAN"
        ],
        [
         "New Mexico",
         "Positive",
         3,
         "EQUITIES"
        ],
        [
         "West Virginia",
         "Negative",
         3,
         "EDUCATIONAL LOAN"
        ],
        [
         "West Virginia",
         "Positive",
         3,
         "CREDIT CARD"
        ],
        [
         "Massachusetts",
         "Negative",
         3,
         "MOTOR INSURANCE"
        ],
        [
         "Montana",
         "Positive",
         2,
         "EDUCATIONAL LOAN"
        ],
        [
         "Montana",
         "Negative",
         2,
         "HOME LOAN"
        ],
        [
         "North Dakota",
         "Positive",
         2,
         "SAVINGS ACCOUNT"
        ],
        [
         "North Dakota",
         "Positive",
         2,
         "FIXED DEPOSIT"
        ],
        [
         "Alabama",
         "Positive",
         2,
         "MUTUAL FUNDS"
        ],
        [
         "Mississippi",
         "Positive",
         2,
         "HOME INSURANCE"
        ],
        [
         "Kentucky",
         "Negative",
         2,
         "HOME INSURANCE"
        ],
        [
         "Connecticut",
         "Negative",
         2,
         "CURRENT ACCOUNT"
        ],
        [
         "Wisconsin",
         "Negative",
         2,
         "CAR LOAN"
        ],
        [
         "North Dakota",
         "Positive",
         2,
         "MOTOR INSURANCE"
        ],
        [
         "Nevada",
         "Negative",
         2,
         "LIFE INSURANCE"
        ],
        [
         "Montana",
         "Negative",
         2,
         "CREDIT CARD"
        ],
        [
         "North Carolina",
         "Negative",
         2,
         "EQUITIES"
        ],
        [
         "Nevada",
         "Positive",
         2,
         "EDUCATIONAL LOAN"
        ],
        [
         "Connecticut",
         "Negative",
         2,
         "HOME INSURANCE"
        ],
        [
         "Connecticut",
         "Negative",
         2,
         "FIXED DEPOSIT"
        ],
        [
         "Montana",
         "Positive",
         2,
         "HOME INSURANCE"
        ],
        [
         "South Carolina",
         "Positive",
         2,
         "HEALTH INSURANCE"
        ],
        [
         "Montana",
         "Positive",
         2,
         "CURRENT ACCOUNT"
        ],
        [
         "Louisiana",
         "Negative",
         2,
         "HOME INSURANCE"
        ],
        [
         "Arkansas",
         "Positive",
         2,
         "EDUCATIONAL LOAN"
        ],
        [
         "Virginia",
         "Negative",
         2,
         "FIXED DEPOSIT"
        ],
        [
         "Colorado",
         "Positive",
         2,
         "EDUCATIONAL LOAN"
        ],
        [
         "Massachusetts",
         "Positive",
         2,
         "CURRENT ACCOUNT"
        ],
        [
         "Montana",
         "Positive",
         2,
         "CREDIT CARD"
        ],
        [
         "Delaware",
         "Positive",
         2,
         "CREDIT CARD"
        ],
        [
         "Montana",
         "Negative",
         2,
         "HEALTH INSURANCE"
        ],
        [
         "Arizona",
         "Negative",
         2,
         "HOME INSURANCE"
        ],
        [
         "Hawaii",
         "Positive",
         2,
         "MOTOR INSURANCE"
        ],
        [
         "New Jersey",
         "Positive",
         2,
         "MUTUAL FUNDS"
        ],
        [
         "Delaware",
         "Positive",
         2,
         "FIXED DEPOSIT"
        ],
        [
         "Alabama",
         "Negative",
         2,
         "CURRENT ACCOUNT"
        ],
        [
         "Connecticut",
         "Positive",
         2,
         "CAR LOAN"
        ],
        [
         "Arkansas",
         "Positive",
         2,
         "CAR LOAN"
        ],
        [
         "Pennsylvania",
         "Negative",
         2,
         "LIFE INSURANCE"
        ],
        [
         "Idaho",
         "Positive",
         2,
         "HOME INSURANCE"
        ],
        [
         "Arkansas",
         "Negative",
         2,
         "CREDIT CARD"
        ],
        [
         "Massachusetts",
         "Positive",
         2,
         "MUTUAL FUNDS"
        ],
        [
         "Connecticut",
         "Negative",
         2,
         "HEALTH INSURANCE"
        ],
        [
         "Kentucky",
         "Negative",
         2,
         "FIXED DEPOSIT"
        ],
        [
         "Nebraska",
         "Positive",
         2,
         "CURRENT ACCOUNT"
        ],
        [
         "Washington",
         "Negative",
         2,
         "MOTOR INSURANCE"
        ],
        [
         "Arkansas",
         "Positive",
         2,
         "SAVINGS ACCOUNT"
        ],
        [
         "Montana",
         "Positive",
         2,
         "FIXED DEPOSIT"
        ],
        [
         "Arkansas",
         "Negative",
         2,
         "MUTUAL FUNDS"
        ],
        [
         "Louisiana",
         "Negative",
         2,
         "CURRENT ACCOUNT"
        ],
        [
         "West Virginia",
         "Positive",
         2,
         "HOME LOAN"
        ],
        [
         "North Dakota",
         "Positive",
         2,
         "HOME INSURANCE"
        ],
        [
         "West Virginia",
         "Negative",
         2,
         "HOME LOAN"
        ],
        [
         "Mississippi",
         "Positive",
         2,
         "FIXED DEPOSIT"
        ],
        [
         "West Virginia",
         "Negative",
         2,
         "CAR LOAN"
        ],
        [
         "Connecticut",
         "Positive",
         2,
         "MUTUAL FUNDS"
        ],
        [
         "Alabama",
         "Negative",
         2,
         "LIFE INSURANCE"
        ],
        [
         "Connecticut",
         "Positive",
         2,
         "MOTOR INSURANCE"
        ],
        [
         "Wisconsin",
         "Negative",
         2,
         "EQUITIES"
        ],
        [
         "Kentucky",
         "Negative",
         2,
         "SAVINGS ACCOUNT"
        ],
        [
         "Missouri",
         "Negative",
         2,
         "LIFE INSURANCE"
        ],
        [
         "Arizona",
         "Negative",
         2,
         "EQUITIES"
        ],
        [
         "Kentucky",
         "Negative",
         2,
         "LIFE INSURANCE"
        ],
        [
         "Arkansas",
         "Negative",
         2,
         "EQUITIES"
        ],
        [
         "Arkansas",
         "Negative",
         2,
         "EDUCATIONAL LOAN"
        ],
        [
         "Illinois",
         "Negative",
         1,
         "MUTUAL FUNDS"
        ],
        [
         "Wisconsin",
         "Negative",
         1,
         "MOTOR INSURANCE"
        ],
        [
         "West Virginia",
         "Positive",
         1,
         "PERSONAL LOAN"
        ],
        [
         "Massachusetts",
         "Negative",
         1,
         "CAR LOAN"
        ],
        [
         "Minnesota",
         "Negative",
         1,
         "CURRENT ACCOUNT"
        ],
        [
         "Kentucky",
         "Negative",
         1,
         "CREDIT CARD"
        ],
        [
         "West Virginia",
         "Positive",
         1,
         "CAR LOAN"
        ],
        [
         "Colorado",
         "Negative",
         1,
         "CURRENT ACCOUNT"
        ],
        [
         "New Mexico",
         "Positive",
         1,
         "LIFE INSURANCE"
        ],
        [
         "Minnesota",
         "Negative",
         1,
         "HOME INSURANCE"
        ],
        [
         "Rhode Island",
         "Positive",
         1,
         "FIXED DEPOSIT"
        ],
        [
         "Colorado",
         "Negative",
         1,
         "HOME INSURANCE"
        ],
        [
         "Massachusetts",
         "Negative",
         1,
         "PERSONAL LOAN"
        ],
        [
         "Rhode Island",
         "Positive",
         1,
         "EQUITIES"
        ],
        [
         "Connecticut",
         "Positive",
         1,
         "HOME LOAN"
        ],
        [
         "North Carolina",
         "Negative",
         1,
         "HOME LOAN"
        ],
        [
         "Idaho",
         "Positive",
         1,
         "EDUCATIONAL LOAN"
        ],
        [
         "Georgia",
         "Negative",
         1,
         "FIXED DEPOSIT"
        ],
        [
         "Tennessee",
         "Negative",
         1,
         "HEALTH INSURANCE"
        ],
        [
         "West Virginia",
         "Positive",
         1,
         "HEALTH INSURANCE"
        ],
        [
         "Colorado",
         "Negative",
         1,
         "EDUCATIONAL LOAN"
        ],
        [
         "Louisiana",
         "Negative",
         1,
         "HOME LOAN"
        ],
        [
         "North Carolina",
         "Negative",
         1,
         "MOTOR INSURANCE"
        ],
        [
         "Nebraska",
         "Negative",
         1,
         "PERSONAL LOAN"
        ],
        [
         "Oklahoma",
         "Positive",
         1,
         "MUTUAL FUNDS"
        ],
        [
         "Alaska",
         "Positive",
         1,
         "CURRENT ACCOUNT"
        ]
       ],
       "datasetInfos": [],
       "dbfsResultPath": null,
       "isJsonSchema": true,
       "metadata": {},
       "overflow": false,
       "plotOptions": {
        "customPlotOptions": {},
        "displayType": "table",
        "pivotAggregation": null,
        "pivotColumns": null,
        "xColumns": null,
        "yColumns": null
       },
       "removedWidgets": [],
       "schema": [
        {
         "metadata": "{}",
         "name": "state",
         "type": "\"string\""
        },
        {
         "metadata": "{}",
         "name": "Feedback_type",
         "type": "\"string\""
        },
        {
         "metadata": "{}",
         "name": "count",
         "type": "\"long\""
        },
        {
         "metadata": "{}",
         "name": "product_type",
         "type": "\"string\""
        }
       ],
       "type": "table"
      }
     },
     "output_type": "display_data"
    }
   ],
   "source": [
    "%sql \n",
    "-- 6\n",
    "select a.state, s.Feedback_type, count(s.Feedback_type) as count , p.product_type \n",
    "from address a inner join src s on a.customer_id=s.customer_id \n",
    "inner join product p on a.customer_id=p.customer_id \n",
    "group by a.state, s.Feedback_type, p.product_type\n",
    "order by 3 desc;\n"
   ]
  },
  {
   "cell_type": "code",
   "execution_count": 0,
   "metadata": {
    "application/vnd.databricks.v1+cell": {
     "cellMetadata": {
      "byteLimit": 2048000,
      "implicitDf": true,
      "rowLimit": 10000
     },
     "inputWidgets": {},
     "nuid": "b0bd88e9-9b59-41f4-be2c-015eab482a50",
     "showTitle": false,
     "title": ""
    }
   },
   "outputs": [
    {
     "output_type": "display_data",
     "data": {
      "text/html": [
       "<style scoped>\n",
       "  .table-result-container {\n",
       "    max-height: 300px;\n",
       "    overflow: auto;\n",
       "  }\n",
       "  table, th, td {\n",
       "    border: 1px solid black;\n",
       "    border-collapse: collapse;\n",
       "  }\n",
       "  th, td {\n",
       "    padding: 5px;\n",
       "  }\n",
       "  th {\n",
       "    text-align: left;\n",
       "  }\n",
       "</style><div class='table-result-container'><table class='table-result'><thead style='background-color: white'><tr><th>open_ratio</th><th>close_ratio</th></tr></thead><tbody><tr><td>0.91</td><td>0.09</td></tr></tbody></table></div>"
      ]
     },
     "metadata": {
      "application/vnd.databricks.v1+output": {
       "addedWidgets": {},
       "aggData": [],
       "aggError": "",
       "aggOverflow": false,
       "aggSchema": [],
       "aggSeriesLimitReached": false,
       "aggType": "",
       "arguments": {},
       "columnCustomDisplayInfos": {},
       "data": [
        [
         0.91,
         0.09
        ]
       ],
       "datasetInfos": [],
       "dbfsResultPath": null,
       "isJsonSchema": true,
       "metadata": {},
       "overflow": false,
       "plotOptions": {
        "customPlotOptions": {},
        "displayType": "table",
        "pivotAggregation": null,
        "pivotColumns": null,
        "xColumns": null,
        "yColumns": null
       },
       "removedWidgets": [],
       "schema": [
        {
         "metadata": "{}",
         "name": "open_ratio",
         "type": "\"double\""
        },
        {
         "metadata": "{}",
         "name": "close_ratio",
         "type": "\"double\""
        }
       ],
       "type": "table"
      }
     },
     "output_type": "display_data"
    }
   ],
   "source": [
    "%sql\n",
    "select \n",
    "round(sum(case when account_status='open' then 1 else 0 end)/count(*),2) as open_ratio,\n",
    "round(sum(case when account_status='closed' then 1 else 0 end)/count(*),2) as close_ratio \n",
    "from product;"
   ]
  },
  {
   "cell_type": "code",
   "execution_count": 0,
   "metadata": {
    "application/vnd.databricks.v1+cell": {
     "cellMetadata": {},
     "inputWidgets": {},
     "nuid": "c56799da-a242-403a-a36e-bbf12b30d547",
     "showTitle": false,
     "title": ""
    }
   },
   "outputs": [],
   "source": []
  },
  {
   "cell_type": "code",
   "execution_count": 0,
   "metadata": {
    "application/vnd.databricks.v1+cell": {
     "cellMetadata": {},
     "inputWidgets": {},
     "nuid": "be899da0-9fbf-4c0d-932f-ce0ff3331060",
     "showTitle": false,
     "title": ""
    }
   },
   "outputs": [],
   "source": []
  }
 ],
 "metadata": {
  "application/vnd.databricks.v1+notebook": {
   "dashboards": [],
   "language": "python",
   "notebookMetadata": {
    "mostRecentlyExecutedCommandWithImplicitDF": {
     "commandId": 4284134317683491,
     "dataframes": [
      "_sqldf"
     ]
    },
    "pythonIndentUnit": 4
   },
   "notebookName": "customer360",
   "widgets": {}
  }
 },
 "nbformat": 4,
 "nbformat_minor": 0
}
